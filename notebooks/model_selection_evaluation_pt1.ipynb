{
 "cells": [
  {
   "cell_type": "markdown",
   "id": "e205d675-b8fd-462b-8f97-b377957d20de",
   "metadata": {
    "id": "e205d675-b8fd-462b-8f97-b377957d20de"
   },
   "source": [
    "# MODEL SELECTION AND EVALUATION: Part 1"
   ]
  },
  {
   "cell_type": "markdown",
   "id": "95bc7c23-db91-4314-ac21-3b5009067f10",
   "metadata": {
    "id": "95bc7c23-db91-4314-ac21-3b5009067f10"
   },
   "source": [
    "[Introductory Slides](https://docs.google.com/presentation/d/16j_TN0kiiH7aIHcpnrKaQSoViX-68ilCXeQuVzgPY-U/edit#slide=id.p)"
   ]
  },
  {
   "cell_type": "markdown",
   "id": "13d4fd3f-e613-4de4-bce9-1b1e603cb845",
   "metadata": {
    "id": "13d4fd3f-e613-4de4-bce9-1b1e603cb845"
   },
   "source": [
    "**To Do**\n",
    "1.Narrative"
   ]
  },
  {
   "cell_type": "code",
   "execution_count": 1,
   "id": "fd51278d-28cd-4f86-b0c8-c89bfe10924b",
   "metadata": {
    "id": "fd51278d-28cd-4f86-b0c8-c89bfe10924b"
   },
   "outputs": [
    {
     "name": "stderr",
     "output_type": "stream",
     "text": [
      "/Users/jlheller/home/Technical/repos/keras/ker/lib/python3.9/site-packages/urllib3/__init__.py:35: NotOpenSSLWarning: urllib3 v2 only supports OpenSSL 1.1.1+, currently the 'ssl' module is compiled with 'LibreSSL 2.8.3'. See: https://github.com/urllib3/urllib3/issues/3020\n",
      "  warnings.warn(\n"
     ]
    }
   ],
   "source": [
    "import collections\n",
    "import os\n",
    "import shutil\n",
    "from PIL import Image\n",
    "import matplotlib.pyplot as plt\n",
    "import numpy as np\n",
    "import tensorflow as tf\n",
    "from tensorflow import keras\n",
    "from tensorflow.keras import layers\n",
    "from tensorflow.keras import models\n",
    "from tensorflow.keras.utils import to_categorical, set_random_seed\n",
    "from sklearn.metrics import accuracy_score, balanced_accuracy_score\n",
    "import seaborn as sns\n",
    "from typing import Optional, List\n",
    "from sklearn.cluster import KMeans"
   ]
  },
  {
   "cell_type": "markdown",
   "id": "63db773e-bd04-44a1-8530-0742596f8dc0",
   "metadata": {
    "id": "63db773e-bd04-44a1-8530-0742596f8dc0"
   },
   "source": [
    "# Colab Setup"
   ]
  },
  {
   "cell_type": "markdown",
   "id": "9b9fe962-2c4c-41c4-bffd-b0a3daf0a398",
   "metadata": {},
   "source": [
    "Run these cells to get the data needed for this notebook. If you want to run the notebook locally, then you need to have the ``mnist_full`` directory in the same directory as your notebook file."
   ]
  },
  {
   "cell_type": "code",
   "execution_count": 2,
   "id": "fb68f6f1-c1e5-46fc-8061-745c616f0189",
   "metadata": {
    "id": "fb68f6f1-c1e5-46fc-8061-745c616f0189"
   },
   "outputs": [],
   "source": [
    "IS_COLAB = False"
   ]
  },
  {
   "cell_type": "code",
   "execution_count": 3,
   "id": "ce2a07e8-55a5-4fff-8163-15b936aca877",
   "metadata": {
    "colab": {
     "base_uri": "https://localhost:8080/"
    },
    "id": "ce2a07e8-55a5-4fff-8163-15b936aca877",
    "outputId": "48fc16e9-35ff-4428-fd74-57579ad0b54e"
   },
   "outputs": [],
   "source": [
    "if IS_COLAB:\n",
    "    if not os.path.isdir(\"mnist_full\"):\n",
    "        !git clone https://github.com/joseph-hellerstein/keras.git\n",
    "        !unzip keras/data/mnist_full.zip"
   ]
  },
  {
   "cell_type": "markdown",
   "id": "9f242f97-e980-4f92-8cd9-b455bfae73a3",
   "metadata": {
    "id": "9f242f97-e980-4f92-8cd9-b455bfae73a3"
   },
   "source": [
    "# Helpers"
   ]
  },
  {
   "cell_type": "markdown",
   "id": "7fe5fb3b-5452-4056-8451-2314ec2c907d",
   "metadata": {
    "id": "7fe5fb3b-5452-4056-8451-2314ec2c907d"
   },
   "source": [
    "## Constants"
   ]
  },
  {
   "cell_type": "code",
   "execution_count": 4,
   "id": "3588f452-7184-419a-9deb-be91d613c1b8",
   "metadata": {
    "id": "3588f452-7184-419a-9deb-be91d613c1b8"
   },
   "outputs": [],
   "source": [
    "NUM_DIGIT = 10\n",
    "TRAINING = \"training\"\n",
    "TESTING = \"testing\"\n",
    "if IS_COLAB:\n",
    "    DATA_DIR = \".\"\n",
    "else:\n",
    "    DATA_DIR = \"/Users/jlheller/home/Technical/repos/keras/data\"\n",
    "DATA_MNIST_FULL = os.path.join(DATA_DIR, \"mnist_full\")\n",
    "DATA_MNIST_SMALL = os.path.join(DATA_DIR, \"mnist_small\")"
   ]
  },
  {
   "cell_type": "markdown",
   "id": "7ab22c40-703d-4ea1-9605-0691afd32b1a",
   "metadata": {
    "id": "7ab22c40-703d-4ea1-9605-0691afd32b1a"
   },
   "source": [
    "## copyFiles"
   ]
  },
  {
   "cell_type": "code",
   "execution_count": 5,
   "id": "18472520-cc29-430b-9b7a-7038aa61c508",
   "metadata": {
    "id": "18472520-cc29-430b-9b7a-7038aa61c508"
   },
   "outputs": [],
   "source": [
    "def copyFiles(from_dir:str, to_dir:str, num_files:int, is_symlink:bool=True):\n",
    "    \"\"\"\n",
    "    Selects a random subset of models in a directory and copies them to another directory.\n",
    "\n",
    "    Args:\n",
    "        from_dir: The directory to select files from.\n",
    "        to_dir: The directory to copy files to.\n",
    "        num_files: The number of files to copy. if < 0, all files are copied.\n",
    "        is_symlink: If True, creates a symbolic link to the file.\n",
    "    \"\"\"\n",
    "    if not os.path.exists(from_dir):\n",
    "        raise ValueError(\"Directory %s does not exist.\" % from_dir)\n",
    "    if not os.path.exists(to_dir):\n",
    "        os.makedirs(to_dir)\n",
    "    ffiles = os.listdir(from_dir)\n",
    "    if num_files < 0:\n",
    "        num_files = len(ffiles)\n",
    "    if num_files >= len(ffiles):\n",
    "        sel_ffiles = ffiles\n",
    "    else:\n",
    "        idxs = np.random.choice(len(ffiles), num_files, replace=False)\n",
    "        sel_ffiles = [ffiles[idx] for idx in idxs]\n",
    "    for ffile in sel_ffiles:\n",
    "        file_path = os.path.join(from_dir, ffile)\n",
    "        new_file_path = os.path.join(to_dir, ffile)\n",
    "        if is_symlink:\n",
    "            os.symlink(file_path, new_file_path)\n",
    "        else:\n",
    "            shutil.copy(file_path, new_file_path)"
   ]
  },
  {
   "cell_type": "markdown",
   "id": "b69bf6f1-72e6-436a-9c9d-efd014ec55fc",
   "metadata": {
    "id": "b69bf6f1-72e6-436a-9c9d-efd014ec55fc"
   },
   "source": [
    "## makeDigitDirs"
   ]
  },
  {
   "cell_type": "code",
   "execution_count": 6,
   "id": "0d01580e-a6b9-4dd2-8a7e-877c3e581c2f",
   "metadata": {
    "id": "0d01580e-a6b9-4dd2-8a7e-877c3e581c2f"
   },
   "outputs": [],
   "source": [
    "\n",
    "def makeDigitDirs(train_count:Optional[int]=100, test_count:Optional[int]=None, root_from_dir:str=DATA_MNIST_FULL,\n",
    "             root_to_dir:str=DATA_MNIST_SMALL, sub_dirs:List[str]=[\"0\"]):\n",
    "    \"\"\"\n",
    "    Creates training and test directories of the specified sizes\n",
    "\n",
    "    Args:\n",
    "        train_count: The number of training files.\n",
    "        test_count: The number of test files.\n",
    "    \"\"\"\n",
    "    if test_count is None:\n",
    "        test_count = int(0.2*train_count)\n",
    "    if len(sub_dirs) == 0:\n",
    "        sub_dirs = [str(n) for n in range(NUM_DIGIT)]\n",
    "    is_error = False\n",
    "    try:\n",
    "        trues = [int(d) in range(NUM_DIGIT) for d in sub_dirs]\n",
    "    except:\n",
    "        is_error = True\n",
    "    if is_error or not all(trues):\n",
    "        raise ValueError(\"Directories must be integers between 0 and %d.\" % (NUM_DIGIT - 1))\n",
    "    #\n",
    "    count_dct = {TRAINING: train_count, TESTING: test_count}\n",
    "    for phase_name in [TESTING, TRAINING]:\n",
    "        phase_dir = os.path.join(root_to_dir, phase_name)\n",
    "        if os.path.exists(phase_dir):\n",
    "            shutil.rmtree(phase_dir)\n",
    "        for sub_dir in sub_dirs:\n",
    "            from_dir = os.path.join(root_from_dir, phase_name, str(sub_dir))\n",
    "            to_dir = os.path.join(root_to_dir, phase_name, str(sub_dir))\n",
    "            if os.path.exists(to_dir):\n",
    "                shutil.rmtree(to_dir)\n",
    "            os.makedirs(to_dir)\n",
    "            copyFiles(from_dir, to_dir, count_dct[phase_name])  # type: ignore\n",
    "\n",
    "# Tests\n",
    "makeDigitDirs()"
   ]
  },
  {
   "cell_type": "markdown",
   "id": "8c7cedc8-1b5b-4fad-9570-72de482cc54f",
   "metadata": {
    "id": "8c7cedc8-1b5b-4fad-9570-72de482cc54f"
   },
   "source": [
    "## getKey"
   ]
  },
  {
   "cell_type": "code",
   "execution_count": 7,
   "id": "d3d112fc-9136-4e5e-aab6-ecbdf78bc49b",
   "metadata": {
    "colab": {
     "base_uri": "https://localhost:8080/"
    },
    "id": "d3d112fc-9136-4e5e-aab6-ecbdf78bc49b",
    "outputId": "d0661a05-97a9-4dc2-b1c0-d0a3fb32d288"
   },
   "outputs": [
    {
     "name": "stdout",
     "output_type": "stream",
     "text": [
      "OK!\n"
     ]
    }
   ],
   "source": [
    "def getKey(dct):\n",
    "    keys = list(dct.keys())\n",
    "    return keys[0]\n",
    "\n",
    "# Tests\n",
    "key = 4\n",
    "dct = {key: range(10)}\n",
    "assert(getKey(dct) == key)\n",
    "print(\"OK!\")"
   ]
  },
  {
   "cell_type": "markdown",
   "id": "57a6ac36-4ce4-465c-99af-d2a566d6c22f",
   "metadata": {
    "id": "57a6ac36-4ce4-465c-99af-d2a566d6c22f"
   },
   "source": [
    "## plotConfusionMatrix"
   ]
  },
  {
   "cell_type": "code",
   "execution_count": 8,
   "id": "ea79dcea-10e3-4ac3-9e4a-3090719012c0",
   "metadata": {
    "colab": {
     "base_uri": "https://localhost:8080/",
     "height": 472
    },
    "id": "ea79dcea-10e3-4ac3-9e4a-3090719012c0",
    "outputId": "3ef7583c-4edc-4b23-c485-970127c6bfab"
   },
   "outputs": [
    {
     "name": "stderr",
     "output_type": "stream",
     "text": [
      "2024-04-18 17:09:02.950007: I metal_plugin/src/device/metal_device.cc:1154] Metal device set to: Apple M1 Max\n",
      "2024-04-18 17:09:02.950054: I metal_plugin/src/device/metal_device.cc:296] systemMemory: 64.00 GB\n",
      "2024-04-18 17:09:02.950060: I metal_plugin/src/device/metal_device.cc:313] maxCacheSize: 24.00 GB\n",
      "2024-04-18 17:09:02.950096: I tensorflow/core/common_runtime/pluggable_device/pluggable_device_factory.cc:305] Could not identify NUMA node of platform GPU ID 0, defaulting to 0. Your kernel may not have been built with NUMA support.\n",
      "2024-04-18 17:09:02.950120: I tensorflow/core/common_runtime/pluggable_device/pluggable_device_factory.cc:271] Created TensorFlow device (/job:localhost/replica:0/task:0/device:GPU:0 with 0 MB memory) -> physical PluggableDevice (device: 0, name: METAL, pci bus id: <undefined>)\n"
     ]
    },
    {
     "data": {
      "image/png": "[encoded data removed]",
      "text/plain": [
       "<Figure size 640x480 with 2 Axes>"
      ]
     },
     "metadata": {},
     "output_type": "display_data"
    }
   ],
   "source": [
    "def plotConfusionMatrix(y_true:np.ndarray[int], y_pred:np.ndarray[int]):\n",
    "    \"\"\"\n",
    "    Plots the confusion matrix for the classifications. Values are fraction of data.\n",
    "\n",
    "    Args:\n",
    "        y_true: True labels\n",
    "        y_pred: Predicted labels\n",
    "    \"\"\"\n",
    "    NUM_DIGIT = 10\n",
    "    labels = set(y_true)\n",
    "    num_label = NUM_DIGIT\n",
    "    data_len = len(y_true)\n",
    "    mat = tf.math.confusion_matrix(y_true, y_pred, num_classes=num_label)\n",
    "    frc_mat = np.round(mat/data_len, 2)\n",
    "    mask_mat = np.repeat(True, num_label*num_label)\n",
    "    mask_mat = np.reshape(mask_mat, (num_label, num_label))\n",
    "    for yt in range(num_label):\n",
    "        for yp in range(num_label):\n",
    "            if not np.isclose(frc_mat[yp, yt], 0):\n",
    "                mask_mat[yp, yt] = False\n",
    "    #\n",
    "    _ = sns.heatmap(np.transpose(frc_mat), cmap=\"Blues\", annot=True,\n",
    "                    annot_kws={'fontsize': 10},\n",
    "                    mask=np.transpose(mask_mat),\n",
    "                 vmin=0)\n",
    "    accuracy = np.round(balanced_accuracy_score(y_true, y_pred), 2)\n",
    "    plt.grid(linestyle=\"--\")\n",
    "    plt.ylabel(\"predicted\")\n",
    "    plt.xlabel(\"true\")\n",
    "    plt.plot(range(1, num_label), range(1, num_label), c=\"red\")\n",
    "    plt.title(\"Accuracy: {accuracy}. Values are fractions of data.\".format(accuracy = accuracy))\n",
    "    plt.show()\n",
    "\n",
    "# Tests\n",
    "def mkydata(num_label=8, size=100):\n",
    "    labels = list(range(num_label))\n",
    "    if num_label < 4:\n",
    "        raise ValueError(\"num_label > 3\")\n",
    "    missing_label = labels[3]\n",
    "    y1 = np.random.randint(0, missing_label, size//2)\n",
    "    y2 = np.random.randint(missing_label+1, num_label, size//2)\n",
    "    return np.concatenate([y1, y2])\n",
    "#\n",
    "size = 100\n",
    "y_true = mkydata()\n",
    "y_pred = mkydata()\n",
    "plotConfusionMatrix(y_true, y_pred)"
   ]
  },
  {
   "cell_type": "markdown",
   "id": "328abe09-d255-4f45-bd0d-df1fdb3b8e7d",
   "metadata": {
    "id": "328abe09-d255-4f45-bd0d-df1fdb3b8e7d"
   },
   "source": [
    "## makeDigitData"
   ]
  },
  {
   "cell_type": "code",
   "execution_count": 9,
   "id": "1bc62b88-11b2-4a19-b780-1be096092bc8",
   "metadata": {
    "colab": {
     "base_uri": "https://localhost:8080/"
    },
    "id": "1bc62b88-11b2-4a19-b780-1be096092bc8",
    "outputId": "e072d4bc-bcf3-4f66-a045-5381a1128857"
   },
   "outputs": [
    {
     "name": "stdout",
     "output_type": "stream",
     "text": [
      "OK!\n"
     ]
    }
   ],
   "source": [
    "def makeDigitData(datatype:str)->(np.ndarray, np.ndarray):\n",
    "    \"\"\"\n",
    "    Uses last construction of the digit data. The image is flattened.\n",
    "\n",
    "    Args:\n",
    "        datatype: \"testing\", \"training\"\n",
    "    Returns:\n",
    "        ndarray: feature matrix\n",
    "        ndarray: label vector\n",
    "    \"\"\"\n",
    "    small_path = os.path.join(DATA_MNIST_SMALL, datatype)\n",
    "    full_path = os.path.join(DATA_MNIST_FULL, datatype)\n",
    "    ddirs = os.listdir(small_path)\n",
    "    X_data = []\n",
    "    y_arr = np.array([])\n",
    "    for ddir in ddirs:\n",
    "        this_small_ddir = os.path.join(small_path, ddir)\n",
    "        this_full_ddir = os.path.join(full_path, ddir)\n",
    "        ffiles = os.listdir(this_small_ddir)\n",
    "        label_arr = np.repeat(int(ddir), len(ffiles))\n",
    "        y_arr = np.concatenate((y_arr, label_arr))\n",
    "        for ffile in ffiles:\n",
    "            path = os.path.join(this_full_ddir, ffile)\n",
    "            img = Image.open(path)\n",
    "            mat = np.asarray(img)\n",
    "            arr = mat.flatten()\n",
    "            X_data.append(arr)\n",
    "    X_mat = np.stack(X_data)\n",
    "    y_arr = y_arr.astype(int)\n",
    "    return X_mat, y_arr\n",
    "\n",
    "# Tests\n",
    "X_mat, y_data = makeDigitData(TRAINING)\n",
    "num_sample = np.shape(X_mat)[0]\n",
    "assert(num_sample == np.shape(y_data)[0])\n",
    "print(\"OK!\")"
   ]
  },
  {
   "cell_type": "markdown",
   "id": "301f3a4e-2a46-4b4e-958a-38b2ea3cb73f",
   "metadata": {
    "id": "301f3a4e-2a46-4b4e-958a-38b2ea3cb73f"
   },
   "source": [
    "## displayImage"
   ]
  },
  {
   "cell_type": "code",
   "execution_count": 10,
   "id": "cf948b4b-ef9c-44b2-8f32-bf9a8b466f7a",
   "metadata": {
    "colab": {
     "base_uri": "https://localhost:8080/"
    },
    "id": "cf948b4b-ef9c-44b2-8f32-bf9a8b466f7a",
    "outputId": "960a36d5-2702-4c0e-c004-d3670c8180d1"
   },
   "outputs": [
    {
     "name": "stdout",
     "output_type": "stream",
     "text": [
      "OK!\n"
     ]
    }
   ],
   "source": [
    "def displayImage(dcts, rpix=28, cpix=28, nrow=2, ncol=5, is_plot=True, fontsize=14):\n",
    "    \"\"\"\n",
    "    args:\n",
    "        dcts: list-dict (key: digit, value: array)\n",
    "        rpix: int (row pixels)\n",
    "        cpix: int (column pixels)\n",
    "        nrow: int (number of rows in the plot)\n",
    "        ncol: int (number of columns in the plot)\n",
    "        fontsize: int (size of title font; no title if =< 0)\n",
    "    \"\"\"\n",
    "    if is_plot:\n",
    "        _, axes = plt.subplots(nrow, ncol, figsize=(20, 15))\n",
    "    for irow in range(nrow):\n",
    "        for icol in range(ncol):\n",
    "            if is_plot:\n",
    "                ax = axes[irow, icol]\n",
    "            pos = irow*ncol + icol\n",
    "            if pos > len(dcts) - 1:\n",
    "                break\n",
    "            dct = dcts[pos]\n",
    "            digit = list(dct.keys())\n",
    "            digit = digit[0]\n",
    "            arr = dct[digit]\n",
    "            img_arr = np.reshape(arr, (rpix, cpix))\n",
    "            img = Image.fromarray(img_arr)\n",
    "            if is_plot:\n",
    "                ax.imshow(img)\n",
    "                ax.set_xticklabels([])\n",
    "                ax.set_yticklabels([])\n",
    "                if fontsize > 0:\n",
    "                    ax.set_title(\"%d\" % digit, fontsize=fontsize)\n",
    "\n",
    "# Tests\n",
    "rpix = 28\n",
    "cpix = 28\n",
    "dcts = []\n",
    "for digit in range(7):\n",
    "    dct = {digit: np.uint8(np.random.randint(0, 255, rpix*cpix))}\n",
    "    dcts.append(dct)\n",
    "displayImage(dcts, rpix=rpix, cpix=cpix, is_plot=False)\n",
    "print(\"OK!\")"
   ]
  },
  {
   "cell_type": "markdown",
   "id": "98aa9187-8d44-4b33-8ae0-593b48265110",
   "metadata": {
    "id": "98aa9187-8d44-4b33-8ae0-593b48265110"
   },
   "source": [
    "## learnDigits"
   ]
  },
  {
   "cell_type": "code",
   "execution_count": 11,
   "id": "480211e7-95d8-416b-bef4-bafeaae0e0fe",
   "metadata": {
    "colab": {
     "base_uri": "https://localhost:8080/",
     "height": 1000
    },
    "id": "480211e7-95d8-416b-bef4-bafeaae0e0fe",
    "outputId": "7a5e493c-6b50-41fd-e6c8-040bae11440d"
   },
   "outputs": [
    {
     "name": "stdout",
     "output_type": "stream",
     "text": [
      "***Preparing the data. This can take 30 secs for so.\n",
      "***Making in-memory test and training data.\n",
      "***Constructing the model.\n"
     ]
    },
    {
     "data": {
      "text/html": [
       "<pre style=\"white-space:pre;overflow-x:auto;line-height:normal;font-family:Menlo,'DejaVu Sans Mono',consolas,'Courier New',monospace\"><span style=\"font-weight: bold\">Model: \"sequential\"</span>\n",
       "</pre>\n"
      ],
      "text/plain": [
       "\u001b[1mModel: \"sequential\"\u001b[0m\n"
      ]
     },
     "metadata": {},
     "output_type": "display_data"
    },
    {
     "data": {
      "text/html": [
       "<pre style=\"white-space:pre;overflow-x:auto;line-height:normal;font-family:Menlo,'DejaVu Sans Mono',consolas,'Courier New',monospace\">┏━━━━━━━━━━━━━━━━━━━━━━━━━━━━━━━━━┳━━━━━━━━━━━━━━━━━━━━━━━━┳━━━━━━━━━━━━━━━┓\n",
       "┃<span style=\"font-weight: bold\"> Layer (type)                    </span>┃<span style=\"font-weight: bold\"> Output Shape           </span>┃<span style=\"font-weight: bold\">       Param # </span>┃\n",
       "┡━━━━━━━━━━━━━━━━━━━━━━━━━━━━━━━━━╇━━━━━━━━━━━━━━━━━━━━━━━━╇━━━━━━━━━━━━━━━┩\n",
       "│ dense (<span style=\"color: #0087ff; text-decoration-color: #0087ff\">Dense</span>)                   │ (<span style=\"color: #00d7ff; text-decoration-color: #00d7ff\">None</span>, <span style=\"color: #00af00; text-decoration-color: #00af00\">32</span>)             │        <span style=\"color: #00af00; text-decoration-color: #00af00\">25,120</span> │\n",
       "├─────────────────────────────────┼────────────────────────┼───────────────┤\n",
       "│ dense_1 (<span style=\"color: #0087ff; text-decoration-color: #0087ff\">Dense</span>)                 │ (<span style=\"color: #00d7ff; text-decoration-color: #00d7ff\">None</span>, <span style=\"color: #00af00; text-decoration-color: #00af00\">64</span>)             │         <span style=\"color: #00af00; text-decoration-color: #00af00\">2,112</span> │\n",
       "├─────────────────────────────────┼────────────────────────┼───────────────┤\n",
       "│ dense_2 (<span style=\"color: #0087ff; text-decoration-color: #0087ff\">Dense</span>)                 │ (<span style=\"color: #00d7ff; text-decoration-color: #00d7ff\">None</span>, <span style=\"color: #00af00; text-decoration-color: #00af00\">7</span>)              │           <span style=\"color: #00af00; text-decoration-color: #00af00\">455</span> │\n",
       "└─────────────────────────────────┴────────────────────────┴───────────────┘\n",
       "</pre>\n"
      ],
      "text/plain": [
       "┏━━━━━━━━━━━━━━━━━━━━━━━━━━━━━━━━━┳━━━━━━━━━━━━━━━━━━━━━━━━┳━━━━━━━━━━━━━━━┓\n",
       "┃\u001b[1m \u001b[0m\u001b[1mLayer (type)                   \u001b[0m\u001b[1m \u001b[0m┃\u001b[1m \u001b[0m\u001b[1mOutput Shape          \u001b[0m\u001b[1m \u001b[0m┃\u001b[1m \u001b[0m\u001b[1m      Param #\u001b[0m\u001b[1m \u001b[0m┃\n",
       "┡━━━━━━━━━━━━━━━━━━━━━━━━━━━━━━━━━╇━━━━━━━━━━━━━━━━━━━━━━━━╇━━━━━━━━━━━━━━━┩\n",
       "│ dense (\u001b[38;5;33mDense\u001b[0m)                   │ (\u001b[38;5;45mNone\u001b[0m, \u001b[38;5;34m32\u001b[0m)             │        \u001b[38;5;34m25,120\u001b[0m │\n",
       "├─────────────────────────────────┼────────────────────────┼───────────────┤\n",
       "│ dense_1 (\u001b[38;5;33mDense\u001b[0m)                 │ (\u001b[38;5;45mNone\u001b[0m, \u001b[38;5;34m64\u001b[0m)             │         \u001b[38;5;34m2,112\u001b[0m │\n",
       "├─────────────────────────────────┼────────────────────────┼───────────────┤\n",
       "│ dense_2 (\u001b[38;5;33mDense\u001b[0m)                 │ (\u001b[38;5;45mNone\u001b[0m, \u001b[38;5;34m7\u001b[0m)              │           \u001b[38;5;34m455\u001b[0m │\n",
       "└─────────────────────────────────┴────────────────────────┴───────────────┘\n"
      ]
     },
     "metadata": {},
     "output_type": "display_data"
    },
    {
     "data": {
      "text/html": [
       "<pre style=\"white-space:pre;overflow-x:auto;line-height:normal;font-family:Menlo,'DejaVu Sans Mono',consolas,'Courier New',monospace\"><span style=\"font-weight: bold\"> Total params: </span><span style=\"color: #00af00; text-decoration-color: #00af00\">27,687</span> (108.15 KB)\n",
       "</pre>\n"
      ],
      "text/plain": [
       "\u001b[1m Total params: \u001b[0m\u001b[38;5;34m27,687\u001b[0m (108.15 KB)\n"
      ]
     },
     "metadata": {},
     "output_type": "display_data"
    },
    {
     "data": {
      "text/html": [
       "<pre style=\"white-space:pre;overflow-x:auto;line-height:normal;font-family:Menlo,'DejaVu Sans Mono',consolas,'Courier New',monospace\"><span style=\"font-weight: bold\"> Trainable params: </span><span style=\"color: #00af00; text-decoration-color: #00af00\">27,687</span> (108.15 KB)\n",
       "</pre>\n"
      ],
      "text/plain": [
       "\u001b[1m Trainable params: \u001b[0m\u001b[38;5;34m27,687\u001b[0m (108.15 KB)\n"
      ]
     },
     "metadata": {},
     "output_type": "display_data"
    },
    {
     "data": {
      "text/html": [
       "<pre style=\"white-space:pre;overflow-x:auto;line-height:normal;font-family:Menlo,'DejaVu Sans Mono',consolas,'Courier New',monospace\"><span style=\"font-weight: bold\"> Non-trainable params: </span><span style=\"color: #00af00; text-decoration-color: #00af00\">0</span> (0.00 B)\n",
       "</pre>\n"
      ],
      "text/plain": [
       "\u001b[1m Non-trainable params: \u001b[0m\u001b[38;5;34m0\u001b[0m (0.00 B)\n"
      ]
     },
     "metadata": {},
     "output_type": "display_data"
    },
    {
     "name": "stdout",
     "output_type": "stream",
     "text": [
      "***Training the model.\n",
      "\u001b[1m1/1\u001b[0m \u001b[32m━━━━━━━━━━━━━━━━━━━━\u001b[0m\u001b[37m\u001b[0m \u001b[1m0s\u001b[0m 1ms/step  \n"
     ]
    },
    {
     "name": "stderr",
     "output_type": "stream",
     "text": [
      "/Users/jlheller/home/Technical/repos/keras/ker/lib/python3.9/site-packages/sklearn/metrics/_classification.py:2458: UserWarning: y_pred contains classes not in y_true\n",
      "  warnings.warn(\"y_pred contains classes not in y_true\")\n"
     ]
    },
    {
     "data": {
      "image/png": "[encoded data removed]",
      "text/plain": [
       "<Figure size 640x480 with 2 Axes>"
      ]
     },
     "metadata": {},
     "output_type": "display_data"
    },
    {
     "name": "stdout",
     "output_type": "stream",
     "text": [
      "***Constructing the model.\n"
     ]
    },
    {
     "data": {
      "text/html": [
       "<pre style=\"white-space:pre;overflow-x:auto;line-height:normal;font-family:Menlo,'DejaVu Sans Mono',consolas,'Courier New',monospace\"><span style=\"font-weight: bold\">Model: \"sequential_1\"</span>\n",
       "</pre>\n"
      ],
      "text/plain": [
       "\u001b[1mModel: \"sequential_1\"\u001b[0m\n"
      ]
     },
     "metadata": {},
     "output_type": "display_data"
    },
    {
     "data": {
      "text/html": [
       "<pre style=\"white-space:pre;overflow-x:auto;line-height:normal;font-family:Menlo,'DejaVu Sans Mono',consolas,'Courier New',monospace\">┏━━━━━━━━━━━━━━━━━━━━━━━━━━━━━━━━━┳━━━━━━━━━━━━━━━━━━━━━━━━┳━━━━━━━━━━━━━━━┓\n",
       "┃<span style=\"font-weight: bold\"> Layer (type)                    </span>┃<span style=\"font-weight: bold\"> Output Shape           </span>┃<span style=\"font-weight: bold\">       Param # </span>┃\n",
       "┡━━━━━━━━━━━━━━━━━━━━━━━━━━━━━━━━━╇━━━━━━━━━━━━━━━━━━━━━━━━╇━━━━━━━━━━━━━━━┩\n",
       "│ dense_3 (<span style=\"color: #0087ff; text-decoration-color: #0087ff\">Dense</span>)                 │ (<span style=\"color: #00d7ff; text-decoration-color: #00d7ff\">None</span>, <span style=\"color: #00af00; text-decoration-color: #00af00\">32</span>)             │        <span style=\"color: #00af00; text-decoration-color: #00af00\">25,120</span> │\n",
       "├─────────────────────────────────┼────────────────────────┼───────────────┤\n",
       "│ dense_4 (<span style=\"color: #0087ff; text-decoration-color: #0087ff\">Dense</span>)                 │ (<span style=\"color: #00d7ff; text-decoration-color: #00d7ff\">None</span>, <span style=\"color: #00af00; text-decoration-color: #00af00\">64</span>)             │         <span style=\"color: #00af00; text-decoration-color: #00af00\">2,112</span> │\n",
       "├─────────────────────────────────┼────────────────────────┼───────────────┤\n",
       "│ dense_5 (<span style=\"color: #0087ff; text-decoration-color: #0087ff\">Dense</span>)                 │ (<span style=\"color: #00d7ff; text-decoration-color: #00d7ff\">None</span>, <span style=\"color: #00af00; text-decoration-color: #00af00\">7</span>)              │           <span style=\"color: #00af00; text-decoration-color: #00af00\">455</span> │\n",
       "└─────────────────────────────────┴────────────────────────┴───────────────┘\n",
       "</pre>\n"
      ],
      "text/plain": [
       "┏━━━━━━━━━━━━━━━━━━━━━━━━━━━━━━━━━┳━━━━━━━━━━━━━━━━━━━━━━━━┳━━━━━━━━━━━━━━━┓\n",
       "┃\u001b[1m \u001b[0m\u001b[1mLayer (type)                   \u001b[0m\u001b[1m \u001b[0m┃\u001b[1m \u001b[0m\u001b[1mOutput Shape          \u001b[0m\u001b[1m \u001b[0m┃\u001b[1m \u001b[0m\u001b[1m      Param #\u001b[0m\u001b[1m \u001b[0m┃\n",
       "┡━━━━━━━━━━━━━━━━━━━━━━━━━━━━━━━━━╇━━━━━━━━━━━━━━━━━━━━━━━━╇━━━━━━━━━━━━━━━┩\n",
       "│ dense_3 (\u001b[38;5;33mDense\u001b[0m)                 │ (\u001b[38;5;45mNone\u001b[0m, \u001b[38;5;34m32\u001b[0m)             │        \u001b[38;5;34m25,120\u001b[0m │\n",
       "├─────────────────────────────────┼────────────────────────┼───────────────┤\n",
       "│ dense_4 (\u001b[38;5;33mDense\u001b[0m)                 │ (\u001b[38;5;45mNone\u001b[0m, \u001b[38;5;34m64\u001b[0m)             │         \u001b[38;5;34m2,112\u001b[0m │\n",
       "├─────────────────────────────────┼────────────────────────┼───────────────┤\n",
       "│ dense_5 (\u001b[38;5;33mDense\u001b[0m)                 │ (\u001b[38;5;45mNone\u001b[0m, \u001b[38;5;34m7\u001b[0m)              │           \u001b[38;5;34m455\u001b[0m │\n",
       "└─────────────────────────────────┴────────────────────────┴───────────────┘\n"
      ]
     },
     "metadata": {},
     "output_type": "display_data"
    },
    {
     "data": {
      "text/html": [
       "<pre style=\"white-space:pre;overflow-x:auto;line-height:normal;font-family:Menlo,'DejaVu Sans Mono',consolas,'Courier New',monospace\"><span style=\"font-weight: bold\"> Total params: </span><span style=\"color: #00af00; text-decoration-color: #00af00\">27,687</span> (108.15 KB)\n",
       "</pre>\n"
      ],
      "text/plain": [
       "\u001b[1m Total params: \u001b[0m\u001b[38;5;34m27,687\u001b[0m (108.15 KB)\n"
      ]
     },
     "metadata": {},
     "output_type": "display_data"
    },
    {
     "data": {
      "text/html": [
       "<pre style=\"white-space:pre;overflow-x:auto;line-height:normal;font-family:Menlo,'DejaVu Sans Mono',consolas,'Courier New',monospace\"><span style=\"font-weight: bold\"> Trainable params: </span><span style=\"color: #00af00; text-decoration-color: #00af00\">27,687</span> (108.15 KB)\n",
       "</pre>\n"
      ],
      "text/plain": [
       "\u001b[1m Trainable params: \u001b[0m\u001b[38;5;34m27,687\u001b[0m (108.15 KB)\n"
      ]
     },
     "metadata": {},
     "output_type": "display_data"
    },
    {
     "data": {
      "text/html": [
       "<pre style=\"white-space:pre;overflow-x:auto;line-height:normal;font-family:Menlo,'DejaVu Sans Mono',consolas,'Courier New',monospace\"><span style=\"font-weight: bold\"> Non-trainable params: </span><span style=\"color: #00af00; text-decoration-color: #00af00\">0</span> (0.00 B)\n",
       "</pre>\n"
      ],
      "text/plain": [
       "\u001b[1m Non-trainable params: \u001b[0m\u001b[38;5;34m0\u001b[0m (0.00 B)\n"
      ]
     },
     "metadata": {},
     "output_type": "display_data"
    },
    {
     "name": "stdout",
     "output_type": "stream",
     "text": [
      "***Training the model.\n",
      "\u001b[1m1/1\u001b[0m \u001b[32m━━━━━━━━━━━━━━━━━━━━\u001b[0m\u001b[37m\u001b[0m \u001b[1m0s\u001b[0m 1ms/step  \n"
     ]
    },
    {
     "data": {
      "image/png": "[encoded data removed]",
      "text/plain": [
       "<Figure size 640x480 with 2 Axes>"
      ]
     },
     "metadata": {},
     "output_type": "display_data"
    },
    {
     "name": "stdout",
     "output_type": "stream",
     "text": [
      "***Preparing the data. This can take 30 secs for so.\n",
      "OK!\n"
     ]
    }
   ],
   "source": [
    "global X_training, y_training, X_testing, y_testing\n",
    "LearnerInfo = collections.namedtuple(\"LearnerInfo\",\n",
    "      \"model, X_training, y_training, X_testing, y_testing, history\"\n",
    "                                    )\n",
    "def learnDigits(\n",
    "    training_count:Optional[int]=None,\n",
    "    digits:List[int]=range(10),\n",
    "    hidden1_size:int=8,\n",
    "    hidden2_size:int=16,\n",
    "    num_epoch:int=5,\n",
    "    training_verbose:int=0,\n",
    "    is_confusion_matrix=True,\n",
    "    is_model_summary=True,\n",
    "):\n",
    "    \"\"\"\n",
    "    1. Creates the data for the model from the full MNIST dataset.\n",
    "    2. Constructs a sequential model with specified sizes of hidden layers\n",
    "    3. Does prediction for the test set (20% the size of the training data)\n",
    "    4. Displays accuracy and confusion matrix.\n",
    "\n",
    "    Args:\n",
    "        training_count: int (number of training images for each class)\n",
    "            if None, use existing data.\n",
    "        digits: list-int (digits/classes considered)\n",
    "        hidden1_size: int (number of units in the first hidden layer)\n",
    "        hidden2_size: int (number of units in the second hidden layer)\n",
    "        num_epoc: int (number of epochs of training)\n",
    "        verbose: int (verbosity for training)\n",
    "    Returns:\n",
    "        LearnerInfo\n",
    "    \"\"\"\n",
    "    global X_training, y_training, X_testing, y_testing\n",
    "    def makeDirs(error_msg=None):\n",
    "        print(\"***Preparing the data. This can take 30 secs for so.\")\n",
    "        if training_count is None:\n",
    "            if error_msg is None:\n",
    "                error_msg = \"Must specify training count to acquire new data.\"\n",
    "            raise ValueError(error_msg)\n",
    "        sub_dirs = [str(n) for n in digits]\n",
    "        makeDigitDirs(train_count=training_count, sub_dirs=sub_dirs)\n",
    "    #\n",
    "    # Create the input data\n",
    "    is_new_data = False\n",
    "    if training_count is not None:\n",
    "        makeDirs()\n",
    "        is_new_data = True\n",
    "    # Construct training and test data\n",
    "    if (not \"X_testing\" in globals()) or is_new_data:\n",
    "        print(\"***Making in-memory test and training data.\")\n",
    "        X_training, y_training = makeDigitData(TRAINING)\n",
    "        X_testing, y_testing = makeDigitData(TESTING)\n",
    "        is_new_data = True\n",
    "    digit_diff = set(y_training).symmetric_difference(digits)\n",
    "    if len(digit_diff) > 0:\n",
    "        makeDirs(error_msg=\"Changed digits but didn't specify training_count.\")\n",
    "        X_training, y_training = makeDigitData(TRAINING)\n",
    "        X_testing, y_testing = makeDigitData(TESTING)\n",
    "    # Construct the model\n",
    "    print(\"***Constructing the model.\")\n",
    "    max_class = max(y_training) + 1\n",
    "    model = keras.Sequential(\n",
    "        [\n",
    "            keras.Input(shape=(X_training.shape[-1],)),\n",
    "            layers.Dense(hidden1_size, activation=\"relu\"),\n",
    "            layers.Dense(hidden2_size, activation=\"relu\"),\n",
    "            layers.Dense(max_class, activation=\"softmax\"),\n",
    "        ]\n",
    "    )\n",
    "    model.compile(loss='categorical_crossentropy', metrics=['accuracy'])\n",
    "    if is_model_summary:\n",
    "        model.summary()\n",
    "    categorical_y_training = to_categorical(y_training)\n",
    "    # Train the model\n",
    "    print(\"***Training the model.\")\n",
    "    history = model.fit(X_training, categorical_y_training, epochs=num_epoch,\n",
    "                        batch_size=64,\n",
    "                        verbose=training_verbose)\n",
    "\n",
    "    y_pred = model.predict(X_testing).argmax(axis=1)\n",
    "    # Evaluate the result\n",
    "    if is_confusion_matrix:\n",
    "        plotConfusionMatrix(y_testing, y_pred)\n",
    "    return LearnerInfo(\n",
    "        X_training=X_training,\n",
    "        y_training=y_training,\n",
    "        model=model,\n",
    "        X_testing=X_testing,\n",
    "        y_testing=y_testing,\n",
    "        history=history\n",
    "    )\n",
    "\n",
    "# Tests\n",
    "try:\n",
    "    learner_info = learnDigits(training_count=10, hidden1_size=32, hidden2_size=64,\n",
    "            num_epoch=5, digits = [1, 3, 6], training_verbose=0)\n",
    "except Exception as e:\n",
    "    assert(False)\n",
    "# Use previous data\n",
    "try:\n",
    "    learnDigits(training_count=None, hidden1_size=32, hidden2_size=64,\n",
    "            num_epoch=5, digits = [1, 3, 6], training_verbose=0)\n",
    "except Exception as e:\n",
    "    assert(False)\n",
    "# Changed digits\n",
    "try:\n",
    "    learnDigits(training_count=None, hidden1_size=32, hidden2_size=64,\n",
    "            num_epoch=5, digits = [1, 3, 6, 7], training_verbose=0)\n",
    "    assert(False)\n",
    "except Exception as e:\n",
    "    pass\n",
    "#\n",
    "print(\"OK!\")"
   ]
  },
  {
   "cell_type": "code",
   "execution_count": 12,
   "id": "8cc41c90-7762-4706-b750-c76fecfc6f3e",
   "metadata": {
    "colab": {
     "base_uri": "https://localhost:8080/"
    },
    "id": "8cc41c90-7762-4706-b750-c76fecfc6f3e",
    "outputId": "1069aaf2-491d-4d3e-aa8a-41f193e38c8b"
   },
   "outputs": [
    {
     "data": {
      "text/plain": [
       "array([[  0,   0,   0,   0,   0,   0,   0,   0,   0,   0,   0,   0,   0,\n",
       "          0,   0,   0,   0,   0,   0,   0,   0,   0,   0,   0,   0,   0,\n",
       "          0,   0,   0,   0,   0,   0,   0,   0,   0,   0,   0,   0,   0,\n",
       "          0,   0,   0,   0,   0,   0,   0,   0,   0,   0,   0,   0,   0,\n",
       "          0,   0,   0,   0,   0,   0,   0,   0,   0,   0,   0,   0,  15,\n",
       "        227,  72,   0,   0,   0,   0,   0,   0,   0,   0,   0,   0,   0,\n",
       "          0,   0,   0,   0,   0,   0,   0,   0,   0,   0,   0,   0,   0,\n",
       "          0,  58, 254,  72,   0,   0,   0,   0,   0,   0,   0,   0,   0,\n",
       "          0,   0,   0,   0,   0,   0,   0,   0,   0,   0,   0,   0,   0,\n",
       "          0,   0,   0,  58, 254,  72,   0,   0,   0,   0,   0,   0,   0,\n",
       "          0,   0,   0,   0,   0,   0,   0,   0,   0,   0,   0,   0,   0,\n",
       "          0,   0,   0,   0,   0, 117, 254,  72,   0,   0,   0,   0,   0,\n",
       "          0,   0,   0,   0,   0,   0,   0,   0,   0,   0,   0,   0,   0,\n",
       "          0,   0,   0,   0,   0,   0,   0, 154, 254,  72,   0,   0,   0,\n",
       "          0,   0,   0,   0,   0,   0,   0,   0,   0,   0,   0,   0,   0,\n",
       "          0,   0,   0,   0,   0,   0,   0,   0,   0, 154, 254,  72,   0,\n",
       "          0,   0,   0,   0,   0,   0,   0,   0,   0,   0,   0,   0,   0,\n",
       "          0,   0,   0,   0,   0,   0,   0,   0,   0,   0,   0, 154, 240,\n",
       "         30,   0,   0,   0,   0,   0,   0,   0,   0,   0,   0,   0,   0,\n",
       "          0,   0,   0,   0,   0,   0,   0,   0,   0,   0,   0,   0,   0,\n",
       "        198, 230,   0,   0,   0,   0,   0,   9,  20,  20,   4,   0,   0,\n",
       "          0,   0,   0,   0,   0,   0,   0,   0,   0,   0,   0,   0,   0,\n",
       "          0,   0, 251, 230,   0,   0,   0,   0,  97, 211, 254, 254, 190,\n",
       "         28,   0,   0,   0,   0,   0,   0,   0,   0,   0,   0,   0,   0,\n",
       "          0,   0,   0,   0, 251, 230,   0,   0,  30, 212, 254, 254, 254,\n",
       "        254, 254, 246,  77,   0,   0,   0,   0,   0,   0,   0,   0,   0,\n",
       "          0,   0,   0,   0,   0,   0, 251, 230,   0,   4, 160, 254, 254,\n",
       "        254, 240, 240, 252, 254, 164,   4,   0,   0,   0,   0,   0,   0,\n",
       "          0,   0,   0,   0,   0,   0,   0,   0, 251, 247,  49,  83, 254,\n",
       "        254, 192,  77,   0,   0,  69, 228, 254,  57,   0,   0,   0,   0,\n",
       "          0,   0,   0,   0,   0,   0,   0,   0,   0,   0, 251, 254,  88,\n",
       "        149, 254, 209,  50,   0,   0,   0,   0, 116, 254, 146,   0,   0,\n",
       "          0,   0,   0,   0,   0,   0,   0,   0,   0,   0,   0,   0, 170,\n",
       "        254, 237, 233, 254, 172,   0,   0,   0,   0,   0,  18, 237, 153,\n",
       "          0,   0,   0,   0,   0,   0,   0,   0,   0,   0,   0,   0,   0,\n",
       "          0,  20, 230, 254, 254, 254, 109,   0,   0,   0,   0,   0, 136,\n",
       "        254, 127,   0,   0,   0,   0,   0,   0,   0,   0,   0,   0,   0,\n",
       "          0,   0,   0,   0, 151, 254, 254, 254,  91,   0,   0,   0,   0,\n",
       "         35, 214, 249,  49,   0,   0,   0,   0,   0,   0,   0,   0,   0,\n",
       "          0,   0,   0,   0,   0,   0,   6, 199, 254, 254, 205, 102, 102,\n",
       "        102, 154, 243, 254, 177,   0,   0,   0,   0,   0,   0,   0,   0,\n",
       "          0,   0,   0,   0,   0,   0,   0,   0,   0,  66, 223, 254, 254,\n",
       "        254, 254, 254, 254, 254, 254,  58,   0,   0,   0,   0,   0,   0,\n",
       "          0,   0,   0,   0,   0,   0,   0,   0,   0,   0,   0,   0,  74,\n",
       "        220, 254, 254, 254, 254, 254, 240, 129,   3,   0,   0,   0,   0,\n",
       "          0,   0,   0,   0,   0,   0,   0,   0,   0,   0,   0,   0,   0,\n",
       "          0,   0,  29, 160, 254, 254, 254, 165,  56,   0,   0,   0,   0,\n",
       "          0,   0,   0,   0,   0,   0,   0,   0,   0,   0,   0,   0,   0,\n",
       "          0,   0,   0,   0,   0,   0,   0,   0,   0,   0,   0,   0,   0,\n",
       "          0,   0,   0,   0,   0,   0,   0,   0,   0,   0,   0,   0,   0,\n",
       "          0,   0,   0,   0,   0,   0,   0,   0,   0,   0,   0,   0,   0,\n",
       "          0,   0,   0,   0,   0,   0,   0,   0,   0,   0,   0,   0,   0,\n",
       "          0,   0,   0,   0,   0,   0,   0,   0,   0,   0,   0,   0,   0,\n",
       "          0,   0,   0,   0,   0,   0,   0,   0,   0,   0,   0,   0,   0,\n",
       "          0,   0,   0,   0,   0,   0,   0,   0,   0,   0,   0,   0,   0,\n",
       "          0,   0,   0,   0,   0,   0,   0,   0,   0,   0,   0,   0,   0,\n",
       "          0,   0,   0,   0,   0,   0,   0,   0,   0,   0,   0,   0,   0,\n",
       "          0,   0,   0,   0,   0,   0,   0,   0,   0,   0,   0,   0,   0,\n",
       "          0,   0,   0,   0,   0,   0,   0,   0,   0,   0,   0,   0,   0,\n",
       "          0,   0,   0,   0,   0,   0,   0,   0,   0,   0,   0,   0,   0,\n",
       "          0,   0,   0,   0]], dtype=uint8)"
      ]
     },
     "execution_count": 12,
     "metadata": {},
     "output_type": "execute_result"
    }
   ],
   "source": [
    "learner_info.X_testing[0:1, :]"
   ]
  },
  {
   "cell_type": "code",
   "execution_count": 13,
   "id": "892ab3d1-8db6-41c5-a737-f9ca123f5b92",
   "metadata": {
    "colab": {
     "base_uri": "https://localhost:8080/"
    },
    "id": "892ab3d1-8db6-41c5-a737-f9ca123f5b92",
    "outputId": "504d97eb-83d8-4598-e476-4775e89bcd68"
   },
   "outputs": [
    {
     "name": "stdout",
     "output_type": "stream",
     "text": [
      "\u001b[1m1/1\u001b[0m \u001b[32m━━━━━━━━━━━━━━━━━━━━\u001b[0m\u001b[37m\u001b[0m \u001b[1m0s\u001b[0m 4ms/step\n"
     ]
    },
    {
     "data": {
      "text/plain": [
       "array([6])"
      ]
     },
     "execution_count": 13,
     "metadata": {},
     "output_type": "execute_result"
    }
   ],
   "source": [
    "learner_info.model.predict(learner_info.X_testing[0:1, :]).argmax(axis=1)"
   ]
  },
  {
   "cell_type": "code",
   "execution_count": 14,
   "id": "83e5c43c-0c73-4934-945d-de794f9e0c6f",
   "metadata": {
    "colab": {
     "base_uri": "https://localhost:8080/"
    },
    "id": "83e5c43c-0c73-4934-945d-de794f9e0c6f",
    "outputId": "49fb8d36-0063-43c4-f091-23497ffa8bd4"
   },
   "outputs": [
    {
     "data": {
      "text/plain": [
       "{1, 3, 6}"
      ]
     },
     "execution_count": 14,
     "metadata": {},
     "output_type": "execute_result"
    }
   ],
   "source": [
    "set(learner_info.y_testing)"
   ]
  },
  {
   "cell_type": "code",
   "execution_count": 15,
   "id": "2e70b4c3-c2d8-45fc-901d-563f83520f41",
   "metadata": {
    "colab": {
     "base_uri": "https://localhost:8080/"
    },
    "id": "2e70b4c3-c2d8-45fc-901d-563f83520f41",
    "outputId": "b1e595c8-762b-405c-8937-c919c4639cf7"
   },
   "outputs": [
    {
     "data": {
      "text/plain": [
       "(2, 784)"
      ]
     },
     "execution_count": 15,
     "metadata": {},
     "output_type": "execute_result"
    }
   ],
   "source": [
    "np.shape(learner_info.X_testing[0:2, :])"
   ]
  },
  {
   "cell_type": "code",
   "execution_count": 16,
   "id": "42a88e17-ec39-4c2d-97c5-1bf6e17fbd6f",
   "metadata": {
    "colab": {
     "base_uri": "https://localhost:8080/"
    },
    "id": "42a88e17-ec39-4c2d-97c5-1bf6e17fbd6f",
    "outputId": "9faccba4-aded-460d-aab4-8626164c5156"
   },
   "outputs": [
    {
     "data": {
      "text/plain": [
       "(6, 784)"
      ]
     },
     "execution_count": 16,
     "metadata": {},
     "output_type": "execute_result"
    }
   ],
   "source": [
    "np.shape(learner_info.X_testing)"
   ]
  },
  {
   "cell_type": "markdown",
   "id": "b8484dee-45a7-4b10-bd10-6278ba9745a7",
   "metadata": {
    "id": "b8484dee-45a7-4b10-bd10-6278ba9745a7"
   },
   "source": [
    "## Cluster codes"
   ]
  },
  {
   "cell_type": "code",
   "execution_count": 17,
   "id": "fec64456-92fc-499c-aefb-45696092cde4",
   "metadata": {
    "colab": {
     "base_uri": "https://localhost:8080/"
    },
    "id": "fec64456-92fc-499c-aefb-45696092cde4",
    "outputId": "11299198-6e5e-403f-f7ab-4f291698bf92"
   },
   "outputs": [
    {
     "name": "stdout",
     "output_type": "stream",
     "text": [
      "NO TEST.\n"
     ]
    }
   ],
   "source": [
    "def plotSSW(digit, sizes=None, ax=None, is_plot=True):\n",
    "    \"\"\"\n",
    "    Plots the sum of squares within the classes\n",
    "\n",
    "    Args:\n",
    "        digit - int\n",
    "    Returns:\n",
    "        KMeans\n",
    "    \"\"\"\n",
    "    if sizes is None:\n",
    "        sizes = [1, 5, 8, 10, 12, 15, 18, 20, 30, 40, 50]\n",
    "    ssq_dct = {}\n",
    "    for size in sizes:\n",
    "        idxs = Y_TRAINING_ARR == digit\n",
    "        kmeans = KMeans(n_clusters=size, random_state=0, n_init=\"auto\").fit(X_TRAINING_MAT[idxs, :])\n",
    "        ssq_dct[size] = kmeans.inertia_\n",
    "    if is_plot:\n",
    "        if ax is None:\n",
    "            _, ax = plt.subplots(1)\n",
    "        ax.plot(ssq_dct.keys(), ssq_dct.values())\n",
    "        ax.set_title(str(digit), fontsize=20)\n",
    "        ax.set_xlabel(\"no. classes\")\n",
    "        ax.set_ylabel(\"sum of squares\")\n",
    "        ax.set_ylim([0, 2*1e10])\n",
    "    return kmeans\n",
    "\n",
    "# Tests\n",
    "if not \"Y_TRAINING_ARR\" in globals():\n",
    "    print(\"NO TEST.\")\n",
    "else:\n",
    "    result = plotSSW(1, sizes=[1,3], is_plot=False)\n",
    "    assert(\"KMeans\" in str(type(result)))\n",
    "    print(\"OK!\")"
   ]
  },
  {
   "cell_type": "code",
   "execution_count": 18,
   "id": "ac5624cb-28c1-4f4b-9eb0-7ea40458c6cf",
   "metadata": {
    "colab": {
     "base_uri": "https://localhost:8080/"
    },
    "id": "ac5624cb-28c1-4f4b-9eb0-7ea40458c6cf",
    "outputId": "cbad945f-002e-48b5-e080-582a016e35c6"
   },
   "outputs": [
    {
     "name": "stdout",
     "output_type": "stream",
     "text": [
      "NO TEST.\n"
     ]
    }
   ],
   "source": [
    "def plotDigitClassSizes(is_plot=True, **kwargs):\n",
    "    \"\"\"\n",
    "    Plots the class sizes and SSW.\n",
    "\n",
    "    Returns:\n",
    "        list-KMeans\n",
    "    \"\"\"\n",
    "    nrow = 2\n",
    "    ncol = 5\n",
    "    if is_plot:\n",
    "        figure, axes = plt.subplots(nrow, ncol, figsize=(20, 8))\n",
    "    kmeans = []\n",
    "    for irow in range(nrow):\n",
    "        for icol in range(ncol):\n",
    "            digit = irow*ncol + icol\n",
    "            if is_plot:\n",
    "                ax = axes[irow, icol]\n",
    "            else:\n",
    "                ax = None\n",
    "            kmeans.append(plotSSW(digit, ax=ax, is_plot=is_plot, **kwargs))\n",
    "            if irow == 0:\n",
    "                if ax is not None:\n",
    "                    ax.set_xlabel(\"\")\n",
    "            if icol > 0:\n",
    "                if ax is not None:\n",
    "                    ax.set_ylabel(\"\")\n",
    "    return kmeans\n",
    "\n",
    "# Tests\n",
    "if not \"Y_TRAINING_ARR\" in globals():\n",
    "    print(\"NO TEST.\")\n",
    "else:\n",
    "    results = plotDigitClassSizes(sizes=[1, 20], is_plot=False)\n",
    "    assert(isinstance(results, list))\n",
    "    assert(\"KMeans\" in str(type(results[0])))\n",
    "    print(\"OK!\")"
   ]
  },
  {
   "cell_type": "markdown",
   "id": "4219054f-f3f4-4750-bbd7-d072b91ca561",
   "metadata": {
    "id": "4219054f-f3f4-4750-bbd7-d072b91ca561"
   },
   "source": [
    "## Data Initialization"
   ]
  },
  {
   "cell_type": "code",
   "execution_count": 19,
   "id": "64e9fe2c-5541-443c-9112-f389b5143fd8",
   "metadata": {
    "id": "64e9fe2c-5541-443c-9112-f389b5143fd8"
   },
   "outputs": [],
   "source": [
    "makeDigitDirs(train_count=5000, sub_dirs=range(10))\n",
    "X_TRAINING_MAT, Y_TRAINING_ARR =  makeDigitData(TRAINING)\n",
    "X_TESTING_MAT, Y_TESTING_ARR =  makeDigitData(TESTING)"
   ]
  },
  {
   "cell_type": "code",
   "execution_count": 20,
   "id": "43e83a89-bb8c-4380-b990-f4c2a697115c",
   "metadata": {
    "colab": {
     "base_uri": "https://localhost:8080/"
    },
    "id": "43e83a89-bb8c-4380-b990-f4c2a697115c",
    "outputId": "c0e6f6e9-4647-4a79-991a-2d40b6a752d4"
   },
   "outputs": [
    {
     "data": {
      "text/plain": [
       "((50000, 784), (50000,), (9786, 784), (9786,))"
      ]
     },
     "execution_count": 20,
     "metadata": {},
     "output_type": "execute_result"
    }
   ],
   "source": [
    "np.shape(X_TRAINING_MAT), np.shape(Y_TRAINING_ARR), np.shape(X_TESTING_MAT), np.shape(Y_TESTING_ARR)"
   ]
  },
  {
   "cell_type": "code",
   "execution_count": 21,
   "id": "5d9d69f4-2853-4801-8524-ac47fd73ac1e",
   "metadata": {
    "colab": {
     "base_uri": "https://localhost:8080/"
    },
    "id": "5d9d69f4-2853-4801-8524-ac47fd73ac1e",
    "outputId": "8d95038b-9594-43f2-c71e-dc28e0471da8"
   },
   "outputs": [
    {
     "data": {
      "text/plain": [
       "array([[  0,   0,   0,   0,   0,   0,   0,   0,   0,   0,   0,   0,   0,\n",
       "          0,   0,   0,   0,   0,   0,   0,   0,   0,   0,   0,   0,   0,\n",
       "          0,   0,   0,   0,   0,   0,   0,   0,   0,   0,   0,   0,   0,\n",
       "          0,   0,   0,   0,   0,   0,   0,   0,   0,   0,   0,   0,   0,\n",
       "          0,   0,   0,   0,   0,   0,   0,   0,   0,   0,   0,   0,   0,\n",
       "          0,   0,   0,   0,   0,   0,   0,   0,   0,   0,   0,   0,   0,\n",
       "          0,   0,   0,  11,  34, 212, 253, 211,  86,   0,   0,   0,   0,\n",
       "          0,   0,   0,   0,   0,   0,   0,   0,   0],\n",
       "       [  0,   0,   0,   0,   0,   0,   0,   0,   0,   0,   0,   0,   0,\n",
       "          0,   0,   0,   0,   0,   0,   0,   0,   0,   0,   0,   0,   0,\n",
       "          0,   0,   0,   0,   0,   0,   0,   0,   0,   0,   0,   0,   0,\n",
       "          0,   0,   0,   0,   0,   0,   0,   0,   0,   0,   0,   0,   0,\n",
       "          0,   0,   0,   0,   0,   0,   0,   0,   0,   0,   0,   0,   0,\n",
       "          0,   0,   0,   0,   0,   0,   0,   0,   0,   0,   0,   0,   0,\n",
       "          0,   0,  17,  66, 138, 139, 212, 253, 211, 138,  11,   0,   0,\n",
       "          0,   0,   0,   0,   0,   0,   0,   0,   0]], dtype=uint8)"
      ]
     },
     "execution_count": 21,
     "metadata": {},
     "output_type": "execute_result"
    }
   ],
   "source": [
    "X_TRAINING_MAT[0:2, 100:200]"
   ]
  },
  {
   "cell_type": "code",
   "execution_count": 22,
   "id": "2337d426-6780-464a-904c-aca9fd2ec39d",
   "metadata": {
    "colab": {
     "base_uri": "https://localhost:8080/"
    },
    "id": "2337d426-6780-464a-904c-aca9fd2ec39d",
    "outputId": "8e658a3a-436d-4b71-a31f-08dd29343af8"
   },
   "outputs": [
    {
     "data": {
      "text/plain": [
       "array([9, 9])"
      ]
     },
     "execution_count": 22,
     "metadata": {},
     "output_type": "execute_result"
    }
   ],
   "source": [
    "Y_TRAINING_ARR[0:2]"
   ]
  },
  {
   "cell_type": "markdown",
   "id": "185ec733-25fa-48b0-9a65-a0e0ada1617e",
   "metadata": {
    "id": "185ec733-25fa-48b0-9a65-a0e0ada1617e"
   },
   "source": [
    "# An Anecdote on Data Curation"
   ]
  },
  {
   "cell_type": "markdown",
   "id": "734b877b-bc39-4e7f-9f12-328d04688a4c",
   "metadata": {
    "id": "734b877b-bc39-4e7f-9f12-328d04688a4c"
   },
   "source": [
    "Task: Build a learner that identifies if an image is a *plane* or a *bird*."
   ]
  },
  {
   "cell_type": "markdown",
   "id": "4968a238-0e6e-4aae-9455-e2771a7f60a9",
   "metadata": {
    "id": "4968a238-0e6e-4aae-9455-e2771a7f60a9"
   },
   "source": [
    "<img src=\"https://pngimg.com/uploads/birds/birds_PNG49.png\" alt=\"drawing\" width=\"200\"/>\n",
    "<img src=\"https://i.etsystatic.com/18604024/r/il/d40c9f/4484408200/il_1588xN.4484408200_rfpk.jpg\" alt=\"drawing\" width=\"200\"/>\n",
    "<img src=\"https://pngimg.com/uploads/plane/plane_PNG101208.png\" alt=\"drawing\" width=\"200\"/>"
   ]
  },
  {
   "cell_type": "markdown",
   "id": "0700eeb3-e26a-462e-b601-73a3eeb470f3",
   "metadata": {
    "id": "0700eeb3-e26a-462e-b601-73a3eeb470f3"
   },
   "source": [
    "**Larry Bird**\n",
    "<img src=\"https://cdn.nba.com/manage/2018/10/larry-bird.jpg\" alt=\"drawing\" width=\"300\"/>"
   ]
  },
  {
   "cell_type": "markdown",
   "id": "47ba90ba-1651-430e-977b-3083ad19eb9d",
   "metadata": {
    "id": "47ba90ba-1651-430e-977b-3083ad19eb9d"
   },
   "source": [
    "We don't want pictures of Larry Bird in our training data!"
   ]
  },
  {
   "cell_type": "markdown",
   "id": "72eefa1e-f204-4a4c-b01f-0fa864cee541",
   "metadata": {
    "id": "72eefa1e-f204-4a4c-b01f-0fa864cee541"
   },
   "source": [
    "**Data curation is essential.**"
   ]
  },
  {
   "cell_type": "markdown",
   "id": "ce91b80c-b314-471a-b4f2-7ecd8bca692e",
   "metadata": {
    "id": "ce91b80c-b314-471a-b4f2-7ecd8bca692e"
   },
   "source": [
    "# MNIST Digit Data"
   ]
  },
  {
   "cell_type": "markdown",
   "id": "9aa789fd-aa68-4eb3-949b-8c72efba7ba1",
   "metadata": {
    "id": "9aa789fd-aa68-4eb3-949b-8c72efba7ba1"
   },
   "source": [
    "<img src=\"https://upload.wikimedia.org/wikipedia/commons/f/f7/MnistExamplesModified.png\" alt=\"drawing\" width=\"400\"/>"
   ]
  },
  {
   "cell_type": "markdown",
   "id": "53444333-b0cb-4171-83b3-e0990d408937",
   "metadata": {
    "id": "53444333-b0cb-4171-83b3-e0990d408937"
   },
   "source": [
    "About 6,000 ``png` files for training each digit and 1,000 ``png`` files for testing."
   ]
  },
  {
   "cell_type": "markdown",
   "id": "0f2c65e1-b0fd-469f-97f6-7ec605e7aa07",
   "metadata": {
    "id": "0f2c65e1-b0fd-469f-97f6-7ec605e7aa07"
   },
   "source": [
    "<img src=\"https://github.com/joseph-hellerstein/keras/raw/main/docs/structure-of-mnist.png\" alt=\"drawing\" width=\"500\"/>"
   ]
  },
  {
   "cell_type": "markdown",
   "id": "217ca6f3-2aa0-41f5-a7c9-f4abde5e3515",
   "metadata": {
    "id": "217ca6f3-2aa0-41f5-a7c9-f4abde5e3515"
   },
   "source": [
    "# Common Sense Data Science for Classification"
   ]
  },
  {
   "cell_type": "markdown",
   "id": "ec50519e-4872-454b-abe0-59fb2ce99fb7",
   "metadata": {
    "id": "ec50519e-4872-454b-abe0-59fb2ce99fb7"
   },
   "source": [
    "## Terminology"
   ]
  },
  {
   "cell_type": "markdown",
   "id": "9a673bbc-780f-4f79-839d-f66aad66d849",
   "metadata": {
    "id": "9a673bbc-780f-4f79-839d-f66aad66d849"
   },
   "source": [
    "* **Data.** Information collected for analysis. They described along two dimensions:\n",
    "    * **Sample (item)** An instance of what is collected. Example: A single $28 \\times 28$ image.\n",
    "    * **Feature.** An attribute of a data item. Example: pixel 25, 27.\n",
    "    * **Label.** A classification of a data item. Example (for digit classification): \"5\".\n",
    "* **Fitting.** Procesing data in preparation for analysis.\n",
    "    * **Parameters.** Constants estimated during fitting.\n",
    "    * **Training data.** Data used by the learner to estimate parameters (e.g., via back propagation).\n",
    "    * **Validation data.** Data used to evaluate model quality during testing. These data must be separate from training data.\n",
    "* **Prediction.** An algorithm that assigns a label to a data item based on its features.\n",
    "* **Evaluation.** Assessing the model for its intended task.\n",
    "    * **Testing data.** Data with known labels used in evaluation (but not fitting)."
   ]
  },
  {
   "cell_type": "markdown",
   "id": "55d96b21-a0a7-47bb-9731-ddae0f751f75",
   "metadata": {
    "id": "55d96b21-a0a7-47bb-9731-ddae0f751f75"
   },
   "source": [
    "## Guidelines"
   ]
  },
  {
   "cell_type": "markdown",
   "id": "e8b60da5-33be-4d7c-9117-64d14204b416",
   "metadata": {
    "id": "e8b60da5-33be-4d7c-9117-64d14204b416"
   },
   "source": [
    "**You need much more data (samples times features) than parameters.**\n",
    "Violating this leads to overfitting."
   ]
  },
  {
   "cell_type": "markdown",
   "id": "621a4259-b3d7-48f7-9980-00a9205fc0a1",
   "metadata": {
    "id": "621a4259-b3d7-48f7-9980-00a9205fc0a1"
   },
   "source": [
    "**Models should have as many parameters as required to achieve the desired quality (e.g., accuracy), but no more.**\n",
    "This reduces the data requirements and the complexity of the model."
   ]
  },
  {
   "cell_type": "markdown",
   "id": "c94b1ff2-f817-4491-88fc-6081ba8ba4ac",
   "metadata": {
    "id": "c94b1ff2-f817-4491-88fc-6081ba8ba4ac"
   },
   "source": [
    "**A data item improves parameter estimation only if it provides new information.** There is no value to redundant data."
   ]
  },
  {
   "cell_type": "markdown",
   "id": "f460c0c8-bd19-4ca4-a001-1ba1c852cf79",
   "metadata": {
    "id": "f460c0c8-bd19-4ca4-a001-1ba1c852cf79"
   },
   "source": [
    "**We prefer models that have an intuitive explanation.** Intuitive models are more credible than a \"black box\"."
   ]
  },
  {
   "cell_type": "markdown",
   "id": "f3a45d1e-7475-497c-affc-9a45d383ae47",
   "metadata": {
    "id": "f3a45d1e-7475-497c-affc-9a45d383ae47"
   },
   "source": [
    "# Tips for Computational Sanity"
   ]
  },
  {
   "cell_type": "markdown",
   "id": "71cec3f0-1219-4424-b241-282eee956998",
   "metadata": {
    "id": "71cec3f0-1219-4424-b241-282eee956998"
   },
   "source": [
    "## Recommendations"
   ]
  },
  {
   "cell_type": "markdown",
   "id": "6f457638-5825-46bb-b349-82141916f524",
   "metadata": {
    "id": "6f457638-5825-46bb-b349-82141916f524"
   },
   "source": [
    "1. Global variables\n",
    "    1. Write once, read many in many cells.\n",
    "    1. All capital letters.\n",
    "1. Local variables\n",
    "    1. Used within a single cell\n",
    "    2. All lower case.\n",
    "1. Functions\n",
    "    1. Use functions to encapsulate workflow and avoid \"name collisions\" for variables.\n",
    "    2. Functions definitions include a test (``assert``)"
   ]
  },
  {
   "cell_type": "markdown",
   "id": "026a2418-c885-4bb6-9462-e28dc0d4500d",
   "metadata": {
    "id": "026a2418-c885-4bb6-9462-e28dc0d4500d"
   },
   "source": [
    "## Globals in this notebook"
   ]
  },
  {
   "cell_type": "markdown",
   "id": "2e20e4cc-463f-450a-b4ee-370c1f7b8c7b",
   "metadata": {
    "id": "2e20e4cc-463f-450a-b4ee-370c1f7b8c7b"
   },
   "source": [
    "The globals reflect training and test data for MNIST."
   ]
  },
  {
   "cell_type": "code",
   "execution_count": 23,
   "id": "2ce733fc-c0d1-4ecf-a050-86001b9dadc5",
   "metadata": {
    "colab": {
     "base_uri": "https://localhost:8080/"
    },
    "id": "2ce733fc-c0d1-4ecf-a050-86001b9dadc5",
    "outputId": "13e68c79-8960-4097-fc17-fc5b3c78cdb9"
   },
   "outputs": [
    {
     "data": {
      "text/plain": [
       "((9786, 784), (9786,))"
      ]
     },
     "execution_count": 23,
     "metadata": {},
     "output_type": "execute_result"
    }
   ],
   "source": [
    "np.shape(X_TESTING_MAT), np.shape(Y_TESTING_ARR)"
   ]
  },
  {
   "cell_type": "markdown",
   "id": "240b041c-e3bc-4c47-92f1-cf053dd2ba94",
   "metadata": {},
   "source": [
    "# What is a classification model?"
   ]
  },
  {
   "cell_type": "markdown",
   "id": "ebbbb3f7-6a9f-451b-8859-1f8fa018902b",
   "metadata": {},
   "source": [
    "<img src=\"https://github.com/joseph-hellerstein/keras/raw/main/docs/easy_classification_1.png\" alt=\"drawing\" width=\"500\"/>\n",
    "\n",
    "A classification model is an algorithm that distinguishes between the labels. One approach is to draw lines.\n",
    "<img src=\"https://github.com/joseph-hellerstein/keras/raw/main/docs/easy_classification_2.png\" alt=\"drawing\" width=\"500\"/>\n",
    "\n",
    "However, the lines are more complex curves for more difficult classification problems.\n",
    "<img src=\"https://github.com/joseph-hellerstein/keras/raw/main/docs/hard_classification.png\" alt=\"drawing\" width=\"500\"/>"
   ]
  },
  {
   "cell_type": "markdown",
   "id": "0de4a99a-34f5-40a6-99da-4c5916770664",
   "metadata": {},
   "source": [
    "An approach that can work fairly well for not too difficult problems is to calculate average values of features for each class. The predicated class for a data item is the class whose average feature is closest.\n",
    "<img src=\"https://github.com/joseph-hellerstein/keras/raw/main/docs/averaged_sample_algorithm.png\" alt=\"drawing\" width=\"500\"/>"
   ]
  },
  {
   "cell_type": "markdown",
   "id": "7ce81671-ea8a-47a9-acf0-a245395f100c",
   "metadata": {
    "id": "7ce81671-ea8a-47a9-acf0-a245395f100c"
   },
   "source": [
    "# Model 1: Ideal Digits"
   ]
  },
  {
   "cell_type": "markdown",
   "id": "5e2d7772-1a8f-4d0f-adbb-2031f3938109",
   "metadata": {
    "id": "5e2d7772-1a8f-4d0f-adbb-2031f3938109"
   },
   "source": [
    "## Approach - Ideal Image"
   ]
  },
  {
   "cell_type": "markdown",
   "id": "41abd0d2-8f86-4fea-8a9c-62e887040161",
   "metadata": {
    "id": "41abd0d2-8f86-4fea-8a9c-62e887040161"
   },
   "source": [
    "* *Fitting*: Calculate the \"ideal\" for each class, the average value of each of the $28 \\times 28$ pixels for all images in each class.\n",
    "* *Predicting*: Choose the digit whose ideal image has the smallest distance from the test image."
   ]
  },
  {
   "cell_type": "markdown",
   "id": "db56768b-831e-48de-a549-d29a25dd24ac",
   "metadata": {
    "id": "db56768b-831e-48de-a549-d29a25dd24ac"
   },
   "source": [
    "Distance measure. Let $\\bar{p}_{ki}$ be the $i$-th pixel in the flattened image for the ideal image of class $k$, and let $p_i$ be the $i$-th pixel in a test image. The distance from the test image to the ideal of class $k$ is\n",
    "$$\\sum_i (p_i - \\bar{p}_{ki})^2$$."
   ]
  },
  {
   "cell_type": "markdown",
   "id": "874ec5e8-85e8-4f39-a6a0-1e3ea908252f",
   "metadata": {
    "id": "874ec5e8-85e8-4f39-a6a0-1e3ea908252f"
   },
   "source": [
    "## Fitting"
   ]
  },
  {
   "cell_type": "markdown",
   "id": "a9236f44-4c2e-444e-89d5-155cc77723b5",
   "metadata": {
    "id": "a9236f44-4c2e-444e-89d5-155cc77723b5"
   },
   "source": [
    "**Algorithm**\n",
    "\n",
    "    for digit in digits\n",
    "        ideal_image = mean of pixels for digit\n",
    "        ideal_images.append(ideal_image)\n",
    "    return ideal_images"
   ]
  },
  {
   "cell_type": "code",
   "execution_count": 24,
   "id": "bb911232-a648-418b-817b-edd1c1ebca92",
   "metadata": {
    "colab": {
     "base_uri": "https://localhost:8080/"
    },
    "id": "bb911232-a648-418b-817b-edd1c1ebca92",
    "outputId": "863c51ca-07f4-4cd2-b3fe-ca2289b082a8"
   },
   "outputs": [
    {
     "name": "stdout",
     "output_type": "stream",
     "text": [
      "OK!\n"
     ]
    }
   ],
   "source": [
    "# Training\n",
    "def fitIdeal(training_count=600, num_cluster=1):\n",
    "    \"\"\"\n",
    "    Constructs ideal images and their classes.\n",
    "\n",
    "    Args:\n",
    "        training_count: int (size of the training set for a digit)\n",
    "        num_cluster: int (number of clusters in a digit training set)\n",
    "\n",
    "    Returns:\n",
    "        list-dict (key: digit, value: array of mean pixels)\n",
    "    \"\"\"\n",
    "    dcts = []\n",
    "    for digit in range(10):\n",
    "        makeDigitDirs(train_count=training_count, sub_dirs=[digit])\n",
    "        X_training, _ = makeDigitData(TRAINING)\n",
    "        if num_cluster == 1:\n",
    "            dct = {digit: np.mean(X_training[:, :], axis=0)}\n",
    "            dcts.append(dct)\n",
    "        else:\n",
    "            kmeans = KMeans(n_clusters=num_cluster, random_state=0, n_init=\"auto\").fit(X_training)\n",
    "            for cluster_center in kmeans.cluster_centers_:\n",
    "                dct = {digit: cluster_center}\n",
    "                dcts.append(dct)\n",
    "    return dcts\n",
    "\n",
    "# Tests\n",
    "dcts = fitIdeal(training_count=10)\n",
    "assert(isinstance(dcts, list))\n",
    "assert(isinstance(dcts[0], dict))\n",
    "if False:\n",
    "    displayImage(dcts)\n",
    "else:\n",
    "    print(\"OK!\")"
   ]
  },
  {
   "cell_type": "code",
   "execution_count": 25,
   "id": "eb2e0cf4-9a36-4474-8974-dc1812034141",
   "metadata": {
    "id": "eb2e0cf4-9a36-4474-8974-dc1812034141"
   },
   "outputs": [
    {
     "name": "stdout",
     "output_type": "stream",
     "text": [
      "CPU times: user 2.5 s, sys: 5.67 s, total: 8.17 s\n",
      "Wall time: 17.1 s\n"
     ]
    }
   ],
   "source": [
    "%%time\n",
    "FITTED_DCTS = fitIdeal(training_count=5000)"
   ]
  },
  {
   "cell_type": "code",
   "execution_count": 26,
   "id": "f5d17811-60e8-4c5f-90b4-7410bc847a8c",
   "metadata": {
    "colab": {
     "base_uri": "https://localhost:8080/",
     "height": 592
    },
    "id": "f5d17811-60e8-4c5f-90b4-7410bc847a8c",
    "outputId": "6448111d-4f1c-4c6b-fe34-0c3f8aeba260"
   },
   "outputs": [
    {
     "data": {
      "image/png": "[encoded data removed]",
      "text/plain": [
       "<Figure size 2000x1500 with 10 Axes>"
      ]
     },
     "metadata": {},
     "output_type": "display_data"
    }
   ],
   "source": [
    "displayImage(FITTED_DCTS)"
   ]
  },
  {
   "cell_type": "markdown",
   "id": "6535a0ff-4d18-4c86-a562-5a517d2da7ce",
   "metadata": {
    "id": "6535a0ff-4d18-4c86-a562-5a517d2da7ce"
   },
   "source": [
    "The parameters in this model are the average pixels."
   ]
  },
  {
   "cell_type": "markdown",
   "id": "199d9ff8-49cd-48d6-aaeb-f01434c00211",
   "metadata": {
    "id": "199d9ff8-49cd-48d6-aaeb-f01434c00211"
   },
   "source": [
    "## Prediction"
   ]
  },
  {
   "cell_type": "markdown",
   "id": "bbd44ed9-b91a-4236-96c3-0488ed5b53ac",
   "metadata": {
    "id": "bbd44ed9-b91a-4236-96c3-0488ed5b53ac"
   },
   "source": [
    "**Prediction Algorithm**\n",
    "\n",
    "    for digit_ideal_image in ideal_images\n",
    "        distance[digit] = (test_image - digit_ideal_image)**2\n",
    "    return digit with the smallest distance"
   ]
  },
  {
   "cell_type": "code",
   "execution_count": 27,
   "id": "889e7e11-bfed-4914-a7ab-3591148672f5",
   "metadata": {
    "colab": {
     "base_uri": "https://localhost:8080/"
    },
    "id": "889e7e11-bfed-4914-a7ab-3591148672f5",
    "outputId": "498600c7-266c-4d86-8843-af7f8186481d"
   },
   "outputs": [
    {
     "name": "stdout",
     "output_type": "stream",
     "text": [
      "OK!\n"
     ]
    }
   ],
   "source": [
    "def predictIdeal(test_X_mat, dcts=FITTED_DCTS):\n",
    "    \"\"\"\n",
    "    Predicts the classes for the flattened_test_arr\n",
    "\n",
    "    Args:\n",
    "        test_X_mat: mat-int (x, 768)\n",
    "        dcts: list-dict (key: digit, value: array)\n",
    "    Returns:\n",
    "        arr-int (predictions)\n",
    "    \"\"\"\n",
    "    num_test = np.shape(test_X_mat)[0]\n",
    "    num_ideal = len(dcts)\n",
    "    # Construct the fitted data\n",
    "    digit_arr = np.array([getKey(d) for d in dcts])\n",
    "    centroid_mat = np.array([d[k] for d, k in zip(dcts, digit_arr)])\n",
    "    predictions = []\n",
    "    for test_idx in range(num_test):\n",
    "        test_arr = test_X_mat[test_idx, :]\n",
    "        distance_mat = np.subtract(centroid_mat, test_arr)\n",
    "        distance_mat = np.multiply(distance_mat, distance_mat)\n",
    "        distance_arr = np.sum(distance_mat, axis=1)\n",
    "        min_pos = distance_arr.argmin()\n",
    "        predictions.append(digit_arr[min_pos])\n",
    "    # Calculate predictions\n",
    "    return np.array(predictions)\n",
    "\n",
    "# TESTS\n",
    "matches = predictIdeal(X_TESTING_MAT) - Y_TESTING_ARR\n",
    "accuracy = np.sum([v == 0 for v in matches])/len(matches)\n",
    "assert(accuracy >= 0.8)\n",
    "print(\"OK!\")"
   ]
  },
  {
   "cell_type": "markdown",
   "id": "32a63058-fc44-4777-b6c7-1f2301f29c12",
   "metadata": {
    "id": "32a63058-fc44-4777-b6c7-1f2301f29c12"
   },
   "source": [
    "# Evaluating Model Quality"
   ]
  },
  {
   "cell_type": "markdown",
   "id": "e3b3a6db-c4d8-4569-a39d-76c9f675715e",
   "metadata": {
    "id": "e3b3a6db-c4d8-4569-a39d-76c9f675715e"
   },
   "source": [
    "## Accuracy"
   ]
  },
  {
   "cell_type": "markdown",
   "id": "60b6d152-ae71-4ed3-8813-99c0a1698961",
   "metadata": {
    "id": "60b6d152-ae71-4ed3-8813-99c0a1698961"
   },
   "source": [
    "Accuracy is the fraction of the test set for which the predicted label is the real label. This is useful for \"one shot\" classification."
   ]
  },
  {
   "cell_type": "code",
   "execution_count": 28,
   "id": "01bc185a-cbea-42f8-a037-4cfa8646bd2c",
   "metadata": {},
   "outputs": [
    {
     "data": {
      "text/plain": [
       "False"
      ]
     },
     "execution_count": 28,
     "metadata": {},
     "output_type": "execute_result"
    }
   ],
   "source": [
    "arr = np.array(range(5))\n",
    "np.array_equal(arr, 3)"
   ]
  },
  {
   "cell_type": "code",
   "execution_count": 29,
   "id": "46283e59-baa9-45fa-a55b-a1cf39ce6ee1",
   "metadata": {},
   "outputs": [
    {
     "ename": "NameError",
     "evalue": "name 'result' is not defined",
     "output_type": "error",
     "traceback": [
      "\u001b[0;31m---------------------------------------------------------------------------\u001b[0m",
      "\u001b[0;31mNameError\u001b[0m                                 Traceback (most recent call last)",
      "Cell \u001b[0;32mIn[29], line 18\u001b[0m\n\u001b[1;32m     16\u001b[0m real_labels \u001b[38;5;241m=\u001b[39m Y_TESTING_ARR\n\u001b[1;32m     17\u001b[0m accuracy \u001b[38;5;241m=\u001b[39m calculateAccuracy(real_labels, pred_labels)\n\u001b[0;32m---> 18\u001b[0m \u001b[38;5;28;01massert\u001b[39;00m(\u001b[38;5;28misinstance\u001b[39m(\u001b[43mresult\u001b[49m, \u001b[38;5;28mfloat\u001b[39m))\n\u001b[1;32m     19\u001b[0m \u001b[38;5;28mprint\u001b[39m(\u001b[38;5;124m\"\u001b[39m\u001b[38;5;124mOK!\u001b[39m\u001b[38;5;124m\"\u001b[39m)\n",
      "\u001b[0;31mNameError\u001b[0m: name 'result' is not defined"
     ]
    }
   ],
   "source": [
    "# Calculate Accuracy\n",
    "def calculateAccuracy(real_labels, pred_labels):\n",
    "    \"\"\"\n",
    "    Calculates the accuracy of a classifier.\n",
    "\n",
    "    Args:\n",
    "        real_labels: np.ndarray (correct labels)\n",
    "        pred_labels: np.ndarray (predicted labels)\n",
    "    Returns:\n",
    "        float: accuracy\n",
    "    \"\"\"\n",
    "    return np.sum(real_labels == pred_labels)/len(real_labels)\n",
    "\n",
    "# Tests\n",
    "pred_labels = predictIdeal(X_TESTING_MAT)\n",
    "real_labels = Y_TESTING_ARR\n",
    "accuracy = calculateAccuracy(real_labels, pred_labels)\n",
    "assert(isinstance(result, float))\n",
    "print(\"OK!\")"
   ]
  },
  {
   "cell_type": "code",
   "execution_count": null,
   "id": "85719595-14cb-4927-8bcd-63e64b588426",
   "metadata": {},
   "outputs": [],
   "source": [
    "print(\"Accuracy is %f\" % calculateAccuracy(Y_TESTING_ARR, predictIdeal(X_TESTING_MAT)))"
   ]
  },
  {
   "cell_type": "markdown",
   "id": "e0875273-71b7-42b1-a4dc-78a02cc07f0b",
   "metadata": {
    "id": "e0875273-71b7-42b1-a4dc-78a02cc07f0b"
   },
   "source": [
    "## Precision and Recall"
   ]
  },
  {
   "cell_type": "markdown",
   "id": "6de7e4fa-69c1-4dfc-b311-3dcb4932a756",
   "metadata": {
    "id": "1c04d993-3077-48c4-a3fb-3c53179202d6"
   },
   "source": [
    "For retrieval tasks, we are doing classification of many samples. An example of this is an Internet search for web pages with desired phrases. The learner operates as follows:\n",
    "\n",
    "    for data_item in data:\n",
    "        if learner.predict(data_item) in desired class\n",
    "            output the data_item"
   ]
  },
  {
   "cell_type": "markdown",
   "id": "3b574099-f9c8-4116-ab05-de6bf27c12ce",
   "metadata": {
    "id": "4a693ab4-3662-47a4-b967-4f4ef9a62df4"
   },
   "source": [
    "Because the foregoing operates on a batch of samples, we have slightly different metrics than the \"single shot\" scenario.\n",
    "          \n",
    "* **Precision**: What fraction of the output data are *true* members of the desired class\n",
    "* **Recall**: What fraction of all data in the true class are in the output data"
   ]
  },
  {
   "cell_type": "markdown",
   "id": "ada8facf-bcf1-4e01-80d7-8d1c5b5e6de3",
   "metadata": {},
   "source": [
    "**Query: Find all zeros in this corpus.**\n",
    "\n",
    "<img src=\"https://upload.wikimedia.org/wikipedia/commons/f/f7/MnistExamplesModified.png\" alt=\"drawing\" width=\"400\"/>"
   ]
  },
  {
   "cell_type": "markdown",
   "id": "9f1ae096-55e0-4883-8a87-1d73f5e738d6",
   "metadata": {},
   "source": [
    "<img src=\"https://github.com/joseph-hellerstein/keras/raw/main/docs/query.png\" alt=\"drawing\" width=\"800\"/>"
   ]
  },
  {
   "cell_type": "markdown",
   "id": "8ff65660-0d23-4602-9fee-e26dce9c4a7c",
   "metadata": {},
   "source": [
    "Applies to binary classification (two labels): pos, neg.\n",
    "\n",
    "* **True positive** (negative). The real label is \"pos\", and the prediction is \"pos\".\n",
    "* **False positive** (negative). The real label is \"neg\", but the prediction is \"pos\"."
   ]
  },
  {
   "cell_type": "markdown",
   "id": "be132f50-bd70-4b0f-8814-339252bb172d",
   "metadata": {},
   "source": [
    "<img src=\"https://github.com/joseph-hellerstein/keras/raw/main/docs/table.png\" alt=\"drawing\" width=\"800\"/>"
   ]
  },
  {
   "cell_type": "code",
   "execution_count": null,
   "id": "d6dbba32-ea2c-47cc-a14d-3eaf21dfc442",
   "metadata": {},
   "outputs": [],
   "source": [
    "def calculatePrecisionRecall(label, real_arr, pred_arr):\n",
    "    \"\"\"\n",
    "    Calculates precision for the digit, the fraction of true positives.\n",
    "\n",
    "    Args:\n",
    "        label: int (label for which a query is done)\n",
    "        real_arr: np.array-int (correct labels)\n",
    "        pred_arr: np.ndarray-int (predicted labels)\n",
    "    Returns:\n",
    "        float: precision\n",
    "        float: recall\n",
    "    \"\"\"\n",
    "    # Initial statistics (columns and rows of the above table)\n",
    "    real_positives = real_arr == label  # Array of booleans\n",
    "    real_negatives = real_arr != label\n",
    "    pred_positives = pred_arr == label \n",
    "    pred_negatives = pred_arr != label\n",
    "    # Calculate cells of the table\n",
    "    tp = np.sum(np.logical_and(real_positives, pred_positives))\n",
    "    fp = np.sum(np.logical_and(real_negatives, pred_positives))\n",
    "    fn = np.sum(np.logical_and(real_positives, pred_negatives))\n",
    "    tn = np.sum(np.logical_and(real_negatives, pred_negatives))\n",
    "    # Calculate metrics\n",
    "    precision = tp/(tp + fp)\n",
    "    recall = tp/(tp + fn)\n",
    "    return precision, recall\n",
    "\n",
    "# Tests\n",
    "pred_arr = predictIdeal(X_TESTING_MAT)\n",
    "real_arr = Y_TESTING_ARR\n",
    "precision, recall = calculatePrecisionRecall(1, real_arr, pred_arr)\n",
    "for value in [precision, recall]:\n",
    "    assert(isinstance(value, float))\n",
    "print(\"OK!\")"
   ]
  },
  {
   "cell_type": "code",
   "execution_count": null,
   "id": "ef8162ae-02f9-4778-a05e-13fbd37001e1",
   "metadata": {},
   "outputs": [],
   "source": [
    "precision, recall"
   ]
  },
  {
   "cell_type": "markdown",
   "id": "2c0700bd-cc6b-4d0d-9cb8-0ad784db6a9c",
   "metadata": {
    "id": "2c0700bd-cc6b-4d0d-9cb8-0ad784db6a9c"
   },
   "source": [
    "## Confusion Matrix"
   ]
  },
  {
   "cell_type": "markdown",
   "id": "f2048da8-6832-4ff5-9626-40c96262e698",
   "metadata": {},
   "source": [
    "### Background and definitions"
   ]
  },
  {
   "cell_type": "markdown",
   "id": "17427a90-0f39-4635-9e0a-22f4afab3b67",
   "metadata": {},
   "source": [
    "The confusion matrix provides a general way to analyze the quality of a classifier for multiple classification problems. You can easily calculate accuracy, precision, and recall from the confusion matrix."
   ]
  },
  {
   "cell_type": "markdown",
   "id": "328e9693-c7d6-46b1-a24c-3f9d99449518",
   "metadata": {},
   "source": [
    "As with precision and recall, we are looking for discrepancies between the true value of a label and its predicted value. Again, this is presented as a table; the columns are true labels, and the rows are predicted labels. However, since we have more than two labels, we have more than two rows and columns. Entries in the table can be the number of data items that have a particular combination of true label and predicted label. I often find it more convenient to use the *fraction* of data items."
   ]
  },
  {
   "cell_type": "code",
   "execution_count": null,
   "id": "6a54cc06-9e48-40e3-9fd0-51a215d5a427",
   "metadata": {
    "colab": {
     "base_uri": "https://localhost:8080/",
     "height": 472
    },
    "id": "6a54cc06-9e48-40e3-9fd0-51a215d5a427",
    "outputId": "379e065b-7b75-4573-8e34-63b7b4e014b7"
   },
   "outputs": [],
   "source": [
    "y_pred_arr = predictIdeal(X_TESTING_MAT, dcts=FITTED_DCTS)\n",
    "plotConfusionMatrix(Y_TESTING_ARR, y_pred_arr)"
   ]
  },
  {
   "cell_type": "markdown",
   "id": "da7cbe2e-8528-42a3-9dd3-7207e05a18b0",
   "metadata": {},
   "source": [
    "### Deriving accuracy, precision, recall from the confusion matrix"
   ]
  },
  {
   "cell_type": "markdown",
   "id": "e2036001-8d83-429b-8520-bbf288f48505",
   "metadata": {},
   "source": [
    "Accuracy is the sum of the diagnonal.\n",
    "\n",
    "The precision for label $k$ is the value at $(k,k)$ divided by all values row $k$.\n",
    "\n",
    "The recall for label $k$ is the value at $(k, k)$ divided by all values in column $k$."
   ]
  },
  {
   "cell_type": "markdown",
   "id": "ebaa9d83-fb59-4fc5-84be-7ac76925e906",
   "metadata": {},
   "source": [
    "**Questions**\n",
    "1. Calculate the recall for \"1\" using the data in the table and compare it with ``calculatePrecisionRecall``. (Entries in the table are rounded.)\n",
    "2. Which of the following digits have the largest precision: 0, 1, 5? Which has the smallest?"
   ]
  },
  {
   "cell_type": "markdown",
   "id": "d9ab9584-55d3-4ca3-95b3-c814f3655d36",
   "metadata": {},
   "source": [
    "# Evaluating Model Complexity"
   ]
  },
  {
   "cell_type": "markdown",
   "id": "2e0e4a94-c658-48ce-9029-bdb4d22b077a",
   "metadata": {},
   "source": [
    "Complexity is often connected with **understanding**. Do we understand how the model works with sufficient detail so that we can improve it and understand its limitations? This is largely a subjective analysis.\n",
    "\n",
    "A second perspective on complexity is quantitative: **the number of parameters in the model**. Since all empirical models have parameters that must be estimated, a model with more parameters is typically considered more complex. The implications here are more than subjective. Having more parameters means that we must have more data to be able to estimate the parameters. It often means that there are efficiency considerations as well in terms of estimating the parameters with sufficient accuracy."
   ]
  },
  {
   "cell_type": "markdown",
   "id": "9c9fd8fc-ce9a-4011-9e1e-2d8e3ceeba2a",
   "metadata": {},
   "source": [
    "Let's evaluate the complexity of the ideal image model. Do we understand how the model works, its limitations, and how to improve it?\n",
    "  1. The model is represented by the \"average images\" for each digit.\n",
    "  2. It works well if: (a) digits are written like their \"averages\" and (b) \"average images\" are sufficiently different from one another."
   ]
  },
  {
   "cell_type": "markdown",
   "id": "38206993-5897-4ddc-9781-120c6c4b1cf1",
   "metadata": {},
   "source": [
    "The number of parameters in the model is the number of ideal images times the number of pixels in an image. There are 10 ideal images and $28 \\times 28 = 784$ pixels in each image. So, there are a total of 7,640 parameters."
   ]
  },
  {
   "cell_type": "markdown",
   "id": "613c2a7b-2aa5-46b5-b590-360458c38cf5",
   "metadata": {
    "id": "613c2a7b-2aa5-46b5-b590-360458c38cf5"
   },
   "source": [
    "# Model 2: Neural Network"
   ]
  },
  {
   "cell_type": "markdown",
   "id": "3febd8db-0aa6-4ee2-b1e7-8934117b29b9",
   "metadata": {
    "id": "3febd8db-0aa6-4ee2-b1e7-8934117b29b9"
   },
   "source": [
    "## Model"
   ]
  },
  {
   "cell_type": "markdown",
   "id": "dd1272d7-158b-48af-82f0-1510fdaa21af",
   "metadata": {
    "id": "dd1272d7-158b-48af-82f0-1510fdaa21af"
   },
   "source": [
    "![image](https://www.mathworks.com/discovery/neural-network/_jcr_content/mainParsys/band_copy_copy/mainParsys/lockedsubnav/mainParsys/columns/a32c7d5d-8012-4de1-bc76-8bd092f97db8/image_copy.adapt.full.medium.svg/1710244830270.svg)"
   ]
  },
  {
   "cell_type": "code",
   "execution_count": null,
   "id": "939fb826-84ba-46e4-9b42-a7de201053e0",
   "metadata": {
    "colab": {
     "base_uri": "https://localhost:8080/",
     "height": 1000
    },
    "id": "939fb826-84ba-46e4-9b42-a7de201053e0",
    "outputId": "db75c250-5b0d-45b1-aa70-b550816d32c5"
   },
   "outputs": [],
   "source": [
    "learner_info = learnDigits(\n",
    "    training_count=5000,\n",
    "    digits=range(10), training_verbose=1,\n",
    "    hidden1_size=32,\n",
    "    hidden2_size=32,\n",
    "    is_confusion_matrix=True,\n",
    "    num_epoch=25,\n",
    ")"
   ]
  },
  {
   "cell_type": "markdown",
   "id": "032eabb3-e04e-418b-b2c4-472595b0369e",
   "metadata": {
    "id": "032eabb3-e04e-418b-b2c4-472595b0369e"
   },
   "source": [
    "## Quality assessment"
   ]
  },
  {
   "cell_type": "markdown",
   "id": "ebdd1931-4a88-4892-8bd9-47f2e6fb6851",
   "metadata": {
    "id": "ebdd1931-4a88-4892-8bd9-47f2e6fb6851"
   },
   "source": [
    "# Model 3: Multiple Ideal Images for a Digit"
   ]
  },
  {
   "cell_type": "markdown",
   "id": "9b4bd4ae-39db-48c5-b4ed-7a1ca3db4ea3",
   "metadata": {
    "id": "9b4bd4ae-39db-48c5-b4ed-7a1ca3db4ea3"
   },
   "source": [
    "Approach -- Have more than one ideal for each digit to account for common variations.\n",
    "\n",
    "More ideals likely improves model quality. But it also increases model the number of parameters."
   ]
  },
  {
   "cell_type": "markdown",
   "id": "039a36b9-45cd-4df3-99ea-085484fb3c5d",
   "metadata": {
    "id": "039a36b9-45cd-4df3-99ea-085484fb3c5d"
   },
   "source": [
    "## Clustering"
   ]
  },
  {
   "cell_type": "markdown",
   "id": "b12090da-4e8c-4ca8-993d-e71edcde2943",
   "metadata": {
    "id": "b12090da-4e8c-4ca8-993d-e71edcde2943"
   },
   "source": [
    "<img src=\"https://github.com/joseph-hellerstein/keras/raw/main/docs/clusters.png\" alt=\"drawing\" width=\"800\"/>"
   ]
  },
  {
   "cell_type": "code",
   "execution_count": null,
   "id": "8b8e876d-6bc6-43c9-a7d7-9063705c2ee3",
   "metadata": {
    "id": "8b8e876d-6bc6-43c9-a7d7-9063705c2ee3"
   },
   "outputs": [],
   "source": [
    "#_ = plotDigitClassSizes() # Takes a long time"
   ]
  },
  {
   "cell_type": "markdown",
   "id": "henxfbJRIOr5",
   "metadata": {
    "id": "henxfbJRIOr5"
   },
   "source": [
    "<img src=\"https://github.com/joseph-hellerstein/keras/raw/main/docs/ssw_by_num_classes.png\" alt=\"drawing\" width=\"1200\"/>"
   ]
  },
  {
   "cell_type": "markdown",
   "id": "e77fd926-a2c6-4fee-877e-17e357f47fce",
   "metadata": {
    "id": "e77fd926-a2c6-4fee-877e-17e357f47fce"
   },
   "source": [
    "## Approach - Ideal image for each cluster"
   ]
  },
  {
   "cell_type": "markdown",
   "id": "5765235e-4603-41a5-b618-8ab03747300f",
   "metadata": {
    "id": "5765235e-4603-41a5-b618-8ab03747300f"
   },
   "source": [
    "**Fitting Algorithm**\n",
    "\n",
    "    for digit in digits:\n",
    "        for cluster in clusters of images\n",
    "            ideal_image = mean of pixels for images in cluster\n",
    "            ideal_images.append(ideal_image)\n",
    "    return ideal_images"
   ]
  },
  {
   "cell_type": "markdown",
   "id": "c9e17e45-bb3c-4605-8444-5151d5d4c592",
   "metadata": {
    "id": "c9e17e45-bb3c-4605-8444-5151d5d4c592"
   },
   "source": [
    "**Prediction Algorithm (same as Model 1)**\n",
    "\n",
    "    for ideal_image in ideal_images\n",
    "        distance[ideal_image] = (test_image - ideal_image)**2\n",
    "    return digit with the smallest distance"
   ]
  },
  {
   "cell_type": "markdown",
   "id": "3fb916fe-272e-4492-9600-ab8209e41a10",
   "metadata": {
    "id": "3fb916fe-272e-4492-9600-ab8209e41a10"
   },
   "source": [
    "## Model Quality"
   ]
  },
  {
   "cell_type": "code",
   "execution_count": null,
   "id": "48ace8b0-d2f0-423d-acf2-74f63c7e08db",
   "metadata": {
    "colab": {
     "base_uri": "https://localhost:8080/",
     "height": 472
    },
    "id": "48ace8b0-d2f0-423d-acf2-74f63c7e08db",
    "outputId": "96e63d22-6c87-4fa6-a88f-e7a62956c29e"
   },
   "outputs": [],
   "source": [
    "fitted_dcts = fitIdeal(training_count=5000, num_cluster=50)\n",
    "y_pred = predictIdeal(X_TESTING_MAT, dcts=fitted_dcts)\n",
    "plotConfusionMatrix(Y_TESTING_ARR, y_pred)"
   ]
  },
  {
   "cell_type": "markdown",
   "id": "2463e19b-abdd-4465-a7a9-fde5c2fba5ef",
   "metadata": {
    "id": "2463e19b-abdd-4465-a7a9-fde5c2fba5ef"
   },
   "source": [
    "Factors affecting model quality\n",
    "1. Quality and amount of data\n",
    "2. Size of the model (in number of parameters)\n",
    "3. Number of training epocs\n",
    "4. Complexity of the problem\n",
    "\n",
    "The foregoing also impact the training time"
   ]
  },
  {
   "cell_type": "markdown",
   "id": "2ef0a1ee-7950-4403-ac26-13fa11c806a4",
   "metadata": {},
   "source": [
    "# Summary"
   ]
  },
  {
   "cell_type": "markdown",
   "id": "70d14c8a-4db2-4e3a-8f3d-4e40bcb01193",
   "metadata": {},
   "source": [
    "## Key concepts"
   ]
  },
  {
   "cell_type": "markdown",
   "id": "266d814d-0c0a-4079-8ef3-b766f1cdd4bb",
   "metadata": {},
   "source": [
    "## Model evaluations"
   ]
  },
  {
   "cell_type": "markdown",
   "id": "65cd9cc7-9446-4c52-bcea-d1f31aa6ee19",
   "metadata": {},
   "source": [
    "Quality"
   ]
  },
  {
   "cell_type": "code",
   "execution_count": null,
   "id": "eb81465d-52f1-4527-8e92-1bfb259ba5e1",
   "metadata": {},
   "outputs": [],
   "source": [
    "Complexity"
   ]
  }
 ],
 "metadata": {
  "colab": {
   "provenance": [],
   "toc_visible": true
  },
  "kernelspec": {
   "display_name": "Python 3 (ipykernel)",
   "language": "python",
   "name": "python3"
  },
  "language_info": {
   "codemirror_mode": {
    "name": "ipython",
    "version": 3
   },
   "file_extension": ".py",
   "mimetype": "text/x-python",
   "name": "python",
   "nbconvert_exporter": "python",
   "pygments_lexer": "ipython3",
   "version": "3.9.6"
  }
 },
 "nbformat": 4,
 "nbformat_minor": 5
}
