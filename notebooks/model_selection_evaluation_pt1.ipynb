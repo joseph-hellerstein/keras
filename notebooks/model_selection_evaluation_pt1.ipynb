{
 "cells": [
  {
   "cell_type": "markdown",
   "id": "e205d675-b8fd-462b-8f97-b377957d20de",
   "metadata": {
    "id": "e205d675-b8fd-462b-8f97-b377957d20de"
   },
   "source": [
    "# MODEL SELECTION AND EVALUATION: Part 1"
   ]
  },
  {
   "cell_type": "markdown",
   "id": "skwyxNxBrzEq",
   "metadata": {
    "id": "skwyxNxBrzEq"
   },
   "source": [
    "Joe Hellerstein, Research Scientist, eScience Institute"
   ]
  },
  {
   "cell_type": "markdown",
   "id": "865f8373-e980-4c50-983d-d122b88b5644",
   "metadata": {
    "id": "865f8373-e980-4c50-983d-d122b88b5644"
   },
   "source": [
    "This notebook discusses considerations for evaluating classification algorithms in the context of image processing. This is done by considering three classification algorithms:\n",
    "* Ideal images. The algorithm uses training data to calculate ideal images for each class.\n",
    "* Feedforward dense neural network. A simple neural network for image classification.\n",
    "* Multiple-ideal images per class. A generalization of ideal images.\n",
    "\n",
    "The following are discussed in depth.\n",
    "* Scope of model evaluation.\n",
    "* Evaluating the quality of a classifier.\n",
    "  * Accuracy\n",
    "  * Recall and precision\n",
    "  * Confusion matrix\n",
    "* Other considerations in model evaluation\n",
    "  * Computational efficiency\n",
    "  * Conceptual complexity\n",
    "\n",
    "The notebook is structured using markdown headings to faciliate navigation. The \"Helpers\" section contains functions used in subsequent sections."
   ]
  },
  {
   "cell_type": "code",
   "execution_count": 1,
   "id": "fd51278d-28cd-4f86-b0c8-c89bfe10924b",
   "metadata": {
    "id": "fd51278d-28cd-4f86-b0c8-c89bfe10924b"
   },
   "outputs": [
    {
     "name": "stderr",
     "output_type": "stream",
     "text": [
      "/Users/jlheller/home/Technical/repos/keras/ker/lib/python3.9/site-packages/urllib3/__init__.py:35: NotOpenSSLWarning: urllib3 v2 only supports OpenSSL 1.1.1+, currently the 'ssl' module is compiled with 'LibreSSL 2.8.3'. See: https://github.com/urllib3/urllib3/issues/3020\n",
      "  warnings.warn(\n"
     ]
    }
   ],
   "source": [
    "import collections\n",
    "import matplotlib.pyplot as plt\n",
    "import numpy as np\n",
    "import os\n",
    "from PIL import Image\n",
    "import seaborn as sns\n",
    "import shutil\n",
    "from sklearn.cluster import KMeans\n",
    "from sklearn.metrics import accuracy_score, balanced_accuracy_score\n",
    "import tensorflow as tf\n",
    "from tensorflow import keras\n",
    "from tensorflow.keras import layers\n",
    "from tensorflow.keras import models\n",
    "from tensorflow.keras.utils import to_categorical, set_random_seed\n",
    "from typing import Optional, List"
   ]
  },
  {
   "cell_type": "markdown",
   "id": "63db773e-bd04-44a1-8530-0742596f8dc0",
   "metadata": {
    "id": "63db773e-bd04-44a1-8530-0742596f8dc0"
   },
   "source": [
    "# Colab Setup"
   ]
  },
  {
   "cell_type": "markdown",
   "id": "9b9fe962-2c4c-41c4-bffd-b0a3daf0a398",
   "metadata": {
    "id": "9b9fe962-2c4c-41c4-bffd-b0a3daf0a398"
   },
   "source": [
    "Run these cells to get the data needed for this notebook. If you want to run the notebook locally, then you need to have the ``mnist_full`` directory in the same directory as your notebook file."
   ]
  },
  {
   "cell_type": "code",
   "execution_count": 2,
   "id": "fb68f6f1-c1e5-46fc-8061-745c616f0189",
   "metadata": {
    "id": "fb68f6f1-c1e5-46fc-8061-745c616f0189"
   },
   "outputs": [],
   "source": [
    "IS_COLAB = False"
   ]
  },
  {
   "cell_type": "code",
   "execution_count": 3,
   "id": "ce2a07e8-55a5-4fff-8163-15b936aca877",
   "metadata": {
    "id": "ce2a07e8-55a5-4fff-8163-15b936aca877"
   },
   "outputs": [],
   "source": [
    "if IS_COLAB:\n",
    "    if not os.path.isdir(\"mnist_full\"):\n",
    "        !git clone https://github.com/joseph-hellerstein/keras.git\n",
    "        !unzip keras/data/mnist_full.zip"
   ]
  },
  {
   "cell_type": "markdown",
   "id": "9f242f97-e980-4f92-8cd9-b455bfae73a3",
   "metadata": {
    "id": "9f242f97-e980-4f92-8cd9-b455bfae73a3"
   },
   "source": [
    "# Helpers"
   ]
  },
  {
   "cell_type": "markdown",
   "id": "7fe5fb3b-5452-4056-8451-2314ec2c907d",
   "metadata": {
    "id": "7fe5fb3b-5452-4056-8451-2314ec2c907d"
   },
   "source": [
    "## Constants"
   ]
  },
  {
   "cell_type": "code",
   "execution_count": 4,
   "id": "3588f452-7184-419a-9deb-be91d613c1b8",
   "metadata": {
    "id": "3588f452-7184-419a-9deb-be91d613c1b8"
   },
   "outputs": [],
   "source": [
    "NUM_DIGIT = 10\n",
    "NUM_TRAINING = 1000\n",
    "TRAINING = \"training\"\n",
    "TESTING = \"testing\"\n",
    "if IS_COLAB:\n",
    "    DATA_DIR = \".\"\n",
    "else:\n",
    "    # Replace this path with your local path to the mnist_full directory\n",
    "    DATA_DIR = \"/Users/jlheller/home/Technical/repos/keras/data\"\n",
    "DATA_MNIST_FULL = os.path.join(DATA_DIR, \"mnist_full\")\n",
    "DATA_MNIST_SMALL = os.path.join(DATA_DIR, \"mnist_small\")"
   ]
  },
  {
   "cell_type": "markdown",
   "id": "7ab22c40-703d-4ea1-9605-0691afd32b1a",
   "metadata": {
    "id": "7ab22c40-703d-4ea1-9605-0691afd32b1a"
   },
   "source": [
    "## copyFiles"
   ]
  },
  {
   "cell_type": "code",
   "execution_count": 5,
   "id": "18472520-cc29-430b-9b7a-7038aa61c508",
   "metadata": {
    "id": "18472520-cc29-430b-9b7a-7038aa61c508"
   },
   "outputs": [],
   "source": [
    "def copyFiles(from_dir:str, to_dir:str, num_files:int, is_symlink:bool=True):\n",
    "    \"\"\"\n",
    "    Selects a random subset of models in a directory and copies them to another directory.\n",
    "\n",
    "    Args:\n",
    "        from_dir: The directory to select files from.\n",
    "        to_dir: The directory to copy files to.\n",
    "        num_files: The number of files to copy. if < 0, all files are copied.\n",
    "        is_symlink: If True, creates a symbolic link to the file.\n",
    "    \"\"\"\n",
    "    if not os.path.exists(from_dir):\n",
    "        raise ValueError(\"Directory %s does not exist.\" % from_dir)\n",
    "    if not os.path.exists(to_dir):\n",
    "        os.makedirs(to_dir)\n",
    "    ffiles = os.listdir(from_dir)\n",
    "    if num_files < 0:\n",
    "        num_files = len(ffiles)\n",
    "    if num_files >= len(ffiles):\n",
    "        sel_ffiles = ffiles\n",
    "    else:\n",
    "        idxs = np.random.choice(len(ffiles), num_files, replace=False)\n",
    "        sel_ffiles = [ffiles[idx] for idx in idxs]\n",
    "    for ffile in sel_ffiles:\n",
    "        file_path = os.path.join(from_dir, ffile)\n",
    "        new_file_path = os.path.join(to_dir, ffile)\n",
    "        if is_symlink:\n",
    "            os.symlink(file_path, new_file_path)\n",
    "        else:\n",
    "            shutil.copy(file_path, new_file_path)"
   ]
  },
  {
   "cell_type": "markdown",
   "id": "b69bf6f1-72e6-436a-9c9d-efd014ec55fc",
   "metadata": {
    "id": "b69bf6f1-72e6-436a-9c9d-efd014ec55fc"
   },
   "source": [
    "## makeDigitDirs"
   ]
  },
  {
   "cell_type": "code",
   "execution_count": 6,
   "id": "0d01580e-a6b9-4dd2-8a7e-877c3e581c2f",
   "metadata": {
    "id": "0d01580e-a6b9-4dd2-8a7e-877c3e581c2f"
   },
   "outputs": [],
   "source": [
    "\n",
    "def makeDigitDirs(train_count:Optional[int]=100, test_count:Optional[int]=None, root_from_dir:str=DATA_MNIST_FULL,\n",
    "             root_to_dir:str=DATA_MNIST_SMALL, sub_dirs:List[str]=[\"0\"]):\n",
    "    \"\"\"\n",
    "    Creates training and test directories of the specified sizes\n",
    "\n",
    "    Args:\n",
    "        train_count: The number of training files.\n",
    "        test_count: The number of test files.\n",
    "    \"\"\"\n",
    "    if test_count is None:\n",
    "        test_count = int(0.2*train_count)\n",
    "    if len(sub_dirs) == 0:\n",
    "        sub_dirs = [str(n) for n in range(NUM_DIGIT)]\n",
    "    is_error = False\n",
    "    try:\n",
    "        trues = [int(d) in range(NUM_DIGIT) for d in sub_dirs]\n",
    "    except:\n",
    "        is_error = True\n",
    "    if is_error or not all(trues):\n",
    "        raise ValueError(\"Directories must be integers between 0 and %d.\" % (NUM_DIGIT - 1))\n",
    "    #\n",
    "    count_dct = {TRAINING: train_count, TESTING: test_count}\n",
    "    for phase_name in [TESTING, TRAINING]:\n",
    "        phase_dir = os.path.join(root_to_dir, phase_name)\n",
    "        if os.path.exists(phase_dir):\n",
    "            shutil.rmtree(phase_dir)\n",
    "        for sub_dir in sub_dirs:\n",
    "            from_dir = os.path.join(root_from_dir, phase_name, str(sub_dir))\n",
    "            to_dir = os.path.join(root_to_dir, phase_name, str(sub_dir))\n",
    "            if os.path.exists(to_dir):\n",
    "                shutil.rmtree(to_dir)\n",
    "            os.makedirs(to_dir)\n",
    "            copyFiles(from_dir, to_dir, count_dct[phase_name])  # type: ignore\n",
    "\n",
    "# Tests\n",
    "makeDigitDirs()"
   ]
  },
  {
   "cell_type": "markdown",
   "id": "8c7cedc8-1b5b-4fad-9570-72de482cc54f",
   "metadata": {
    "id": "8c7cedc8-1b5b-4fad-9570-72de482cc54f"
   },
   "source": [
    "## getKey"
   ]
  },
  {
   "cell_type": "code",
   "execution_count": 7,
   "id": "d3d112fc-9136-4e5e-aab6-ecbdf78bc49b",
   "metadata": {
    "colab": {
     "base_uri": "https://localhost:8080/"
    },
    "id": "d3d112fc-9136-4e5e-aab6-ecbdf78bc49b",
    "outputId": "0fe8d8c1-b198-4f5f-fb3f-86f25a24c318"
   },
   "outputs": [
    {
     "name": "stdout",
     "output_type": "stream",
     "text": [
      "OK!\n"
     ]
    }
   ],
   "source": [
    "def getKey(dct):\n",
    "    keys = list(dct.keys())\n",
    "    return keys[0]\n",
    "\n",
    "# Tests\n",
    "key = 4\n",
    "dct = {key: range(10)}\n",
    "assert(getKey(dct) == key)\n",
    "print(\"OK!\")"
   ]
  },
  {
   "cell_type": "markdown",
   "id": "57a6ac36-4ce4-465c-99af-d2a566d6c22f",
   "metadata": {
    "id": "57a6ac36-4ce4-465c-99af-d2a566d6c22f"
   },
   "source": [
    "## plotConfusionMatrix"
   ]
  },
  {
   "cell_type": "code",
   "execution_count": 8,
   "id": "ea79dcea-10e3-4ac3-9e4a-3090719012c0",
   "metadata": {
    "colab": {
     "base_uri": "https://localhost:8080/",
     "height": 0
    },
    "id": "ea79dcea-10e3-4ac3-9e4a-3090719012c0",
    "outputId": "55332ea7-aa7b-460b-f4a4-23e9006bcea7"
   },
   "outputs": [
    {
     "name": "stderr",
     "output_type": "stream",
     "text": [
      "2024-04-29 16:00:00.728254: I metal_plugin/src/device/metal_device.cc:1154] Metal device set to: Apple M1 Max\n",
      "2024-04-29 16:00:00.728276: I metal_plugin/src/device/metal_device.cc:296] systemMemory: 64.00 GB\n",
      "2024-04-29 16:00:00.728281: I metal_plugin/src/device/metal_device.cc:313] maxCacheSize: 24.00 GB\n",
      "2024-04-29 16:00:00.728302: I tensorflow/core/common_runtime/pluggable_device/pluggable_device_factory.cc:305] Could not identify NUMA node of platform GPU ID 0, defaulting to 0. Your kernel may not have been built with NUMA support.\n",
      "2024-04-29 16:00:00.728320: I tensorflow/core/common_runtime/pluggable_device/pluggable_device_factory.cc:271] Created TensorFlow device (/job:localhost/replica:0/task:0/device:GPU:0 with 0 MB memory) -> physical PluggableDevice (device: 0, name: METAL, pci bus id: <undefined>)\n"
     ]
    },
    {
     "data": {
      "image/png": "[encoded data removed]",
      "text/plain": [
       "<Figure size 640x480 with 2 Axes>"
      ]
     },
     "metadata": {},
     "output_type": "display_data"
    }
   ],
   "source": [
    "def plotConfusionMatrix(y_true:np.ndarray[int], y_pred:np.ndarray[int]):\n",
    "    \"\"\"\n",
    "    Plots the confusion matrix for the classifications. Values are fraction of data.\n",
    "\n",
    "    Args:\n",
    "        y_true: True labels\n",
    "        y_pred: Predicted labels\n",
    "    \"\"\"\n",
    "    NUM_DIGIT = 10\n",
    "    labels = set(y_true)\n",
    "    num_label = NUM_DIGIT\n",
    "    data_len = len(y_true)\n",
    "    mat = tf.math.confusion_matrix(y_true, y_pred, num_classes=num_label)\n",
    "    frc_mat = np.round(mat/data_len, 2)\n",
    "    mask_mat = np.repeat(True, num_label*num_label)\n",
    "    mask_mat = np.reshape(mask_mat, (num_label, num_label))\n",
    "    for yt in range(num_label):\n",
    "        for yp in range(num_label):\n",
    "            if not np.isclose(frc_mat[yp, yt], 0):\n",
    "                mask_mat[yp, yt] = False\n",
    "    #\n",
    "    _ = sns.heatmap(np.transpose(frc_mat), cmap=\"Blues\", annot=True,\n",
    "                    annot_kws={'fontsize': 10},\n",
    "                    mask=np.transpose(mask_mat),\n",
    "                 vmin=0)\n",
    "    accuracy = np.round(balanced_accuracy_score(y_true, y_pred), 2)\n",
    "    plt.grid(linestyle=\"--\")\n",
    "    plt.ylabel(\"predicted\")\n",
    "    plt.xlabel(\"real\")\n",
    "    plt.plot(range(1, num_label), range(1, num_label), c=\"red\")\n",
    "    plt.title(\"Accuracy: {accuracy}. Values are fractions of data.\".format(accuracy = accuracy))\n",
    "    plt.show()\n",
    "\n",
    "# Tests\n",
    "def mkydata(num_label=8, size=100):\n",
    "    labels = list(range(num_label))\n",
    "    if num_label < 4:\n",
    "        raise ValueError(\"num_label > 3\")\n",
    "    missing_label = labels[3]\n",
    "    y1 = np.random.randint(0, missing_label, size//2)\n",
    "    y2 = np.random.randint(missing_label+1, num_label, size//2)\n",
    "    return np.concatenate([y1, y2])\n",
    "#\n",
    "size = 100\n",
    "y_true = mkydata()\n",
    "y_pred = mkydata()\n",
    "plotConfusionMatrix(y_true, y_pred)"
   ]
  },
  {
   "cell_type": "markdown",
   "id": "328abe09-d255-4f45-bd0d-df1fdb3b8e7d",
   "metadata": {
    "id": "328abe09-d255-4f45-bd0d-df1fdb3b8e7d"
   },
   "source": [
    "## makeDigitData"
   ]
  },
  {
   "cell_type": "code",
   "execution_count": 9,
   "id": "1bc62b88-11b2-4a19-b780-1be096092bc8",
   "metadata": {
    "colab": {
     "base_uri": "https://localhost:8080/"
    },
    "id": "1bc62b88-11b2-4a19-b780-1be096092bc8",
    "outputId": "dd4c680c-86bc-4744-e8b9-cfa667ef7423"
   },
   "outputs": [
    {
     "name": "stdout",
     "output_type": "stream",
     "text": [
      "OK!\n"
     ]
    }
   ],
   "source": [
    "def makeDigitData(datatype:str)->(np.ndarray, np.ndarray):\n",
    "    \"\"\"\n",
    "    Uses last construction of the digit data. The image is flattened.\n",
    "\n",
    "    Args:\n",
    "        datatype: \"testing\", \"training\"\n",
    "    Returns:\n",
    "        ndarray: feature matrix\n",
    "        ndarray: label vector\n",
    "    \"\"\"\n",
    "    small_path = os.path.join(DATA_MNIST_SMALL, datatype)\n",
    "    full_path = os.path.join(DATA_MNIST_FULL, datatype)\n",
    "    ddirs = os.listdir(small_path)\n",
    "    X_data = []\n",
    "    y_arr = np.array([])\n",
    "    for ddir in ddirs:\n",
    "        this_small_ddir = os.path.join(small_path, ddir)\n",
    "        this_full_ddir = os.path.join(full_path, ddir)\n",
    "        ffiles = os.listdir(this_small_ddir)\n",
    "        label_arr = np.repeat(int(ddir), len(ffiles))\n",
    "        y_arr = np.concatenate((y_arr, label_arr))\n",
    "        for ffile in ffiles:\n",
    "            path = os.path.join(this_full_ddir, ffile)\n",
    "            img = Image.open(path)\n",
    "            mat = np.asarray(img)\n",
    "            arr = mat.flatten()\n",
    "            X_data.append(arr)\n",
    "    X_mat = np.stack(X_data)\n",
    "    y_arr = y_arr.astype(int)\n",
    "    return X_mat, y_arr\n",
    "\n",
    "# Tests\n",
    "X_mat, y_data = makeDigitData(TRAINING)\n",
    "num_sample = np.shape(X_mat)[0]\n",
    "assert(num_sample == np.shape(y_data)[0])\n",
    "print(\"OK!\")"
   ]
  },
  {
   "cell_type": "markdown",
   "id": "301f3a4e-2a46-4b4e-958a-38b2ea3cb73f",
   "metadata": {
    "id": "301f3a4e-2a46-4b4e-958a-38b2ea3cb73f"
   },
   "source": [
    "## displayImage"
   ]
  },
  {
   "cell_type": "code",
   "execution_count": 10,
   "id": "cf948b4b-ef9c-44b2-8f32-bf9a8b466f7a",
   "metadata": {
    "colab": {
     "base_uri": "https://localhost:8080/"
    },
    "id": "cf948b4b-ef9c-44b2-8f32-bf9a8b466f7a",
    "outputId": "d5fafcab-6aca-4444-e7d5-54db94abdad5"
   },
   "outputs": [
    {
     "name": "stdout",
     "output_type": "stream",
     "text": [
      "OK!\n"
     ]
    }
   ],
   "source": [
    "def displayImage(dcts, rpix=28, cpix=28, nrow=2, ncol=5, is_plot=True, fontsize=14):\n",
    "    \"\"\"\n",
    "    args:\n",
    "        dcts: list-dict (key: digit, value: array)\n",
    "        rpix: int (row pixels)\n",
    "        cpix: int (column pixels)\n",
    "        nrow: int (number of rows in the plot)\n",
    "        ncol: int (number of columns in the plot)\n",
    "        fontsize: int (size of title font; no title if =< 0)\n",
    "    \"\"\"\n",
    "    if is_plot:\n",
    "        _, axes = plt.subplots(nrow, ncol, figsize=(20, 15))\n",
    "    for irow in range(nrow):\n",
    "        for icol in range(ncol):\n",
    "            if is_plot:\n",
    "                ax = axes[irow, icol]\n",
    "            pos = irow*ncol + icol\n",
    "            if pos > len(dcts) - 1:\n",
    "                break\n",
    "            dct = dcts[pos]\n",
    "            digit = list(dct.keys())\n",
    "            digit = digit[0]\n",
    "            arr = dct[digit]\n",
    "            img_arr = np.reshape(arr, (rpix, cpix))\n",
    "            img = Image.fromarray(img_arr)\n",
    "            if is_plot:\n",
    "                ax.imshow(img)\n",
    "                ax.set_xticklabels([])\n",
    "                ax.set_yticklabels([])\n",
    "                if fontsize > 0:\n",
    "                    ax.set_title(\"%d\" % digit, fontsize=fontsize)\n",
    "\n",
    "# Tests\n",
    "rpix = 28\n",
    "cpix = 28\n",
    "dcts = []\n",
    "for digit in range(7):\n",
    "    dct = {digit: np.uint8(np.random.randint(0, 255, rpix*cpix))}\n",
    "    dcts.append(dct)\n",
    "displayImage(dcts, rpix=rpix, cpix=cpix, is_plot=False)\n",
    "print(\"OK!\")"
   ]
  },
  {
   "cell_type": "markdown",
   "id": "98aa9187-8d44-4b33-8ae0-593b48265110",
   "metadata": {
    "id": "98aa9187-8d44-4b33-8ae0-593b48265110"
   },
   "source": [
    "## learnDigits"
   ]
  },
  {
   "cell_type": "code",
   "execution_count": 11,
   "id": "480211e7-95d8-416b-bef4-bafeaae0e0fe",
   "metadata": {
    "colab": {
     "base_uri": "https://localhost:8080/",
     "height": 0
    },
    "id": "480211e7-95d8-416b-bef4-bafeaae0e0fe",
    "outputId": "5693a437-ba02-4906-8b08-fffafce9d28a"
   },
   "outputs": [
    {
     "name": "stdout",
     "output_type": "stream",
     "text": [
      "***Preparing the data. This can take 30 secs for so.\n",
      "***Making in-memory test and training data.\n",
      "***Constructing the model.\n"
     ]
    },
    {
     "data": {
      "text/html": [
       "<pre style=\"white-space:pre;overflow-x:auto;line-height:normal;font-family:Menlo,'DejaVu Sans Mono',consolas,'Courier New',monospace\"><span style=\"font-weight: bold\">Model: \"sequential\"</span>\n",
       "</pre>\n"
      ],
      "text/plain": [
       "\u001b[1mModel: \"sequential\"\u001b[0m\n"
      ]
     },
     "metadata": {},
     "output_type": "display_data"
    },
    {
     "data": {
      "text/html": [
       "<pre style=\"white-space:pre;overflow-x:auto;line-height:normal;font-family:Menlo,'DejaVu Sans Mono',consolas,'Courier New',monospace\">┏━━━━━━━━━━━━━━━━━━━━━━━━━━━━━━━━━┳━━━━━━━━━━━━━━━━━━━━━━━━┳━━━━━━━━━━━━━━━┓\n",
       "┃<span style=\"font-weight: bold\"> Layer (type)                    </span>┃<span style=\"font-weight: bold\"> Output Shape           </span>┃<span style=\"font-weight: bold\">       Param # </span>┃\n",
       "┡━━━━━━━━━━━━━━━━━━━━━━━━━━━━━━━━━╇━━━━━━━━━━━━━━━━━━━━━━━━╇━━━━━━━━━━━━━━━┩\n",
       "│ dense (<span style=\"color: #0087ff; text-decoration-color: #0087ff\">Dense</span>)                   │ (<span style=\"color: #00d7ff; text-decoration-color: #00d7ff\">None</span>, <span style=\"color: #00af00; text-decoration-color: #00af00\">32</span>)             │        <span style=\"color: #00af00; text-decoration-color: #00af00\">25,120</span> │\n",
       "├─────────────────────────────────┼────────────────────────┼───────────────┤\n",
       "│ dense_1 (<span style=\"color: #0087ff; text-decoration-color: #0087ff\">Dense</span>)                 │ (<span style=\"color: #00d7ff; text-decoration-color: #00d7ff\">None</span>, <span style=\"color: #00af00; text-decoration-color: #00af00\">64</span>)             │         <span style=\"color: #00af00; text-decoration-color: #00af00\">2,112</span> │\n",
       "├─────────────────────────────────┼────────────────────────┼───────────────┤\n",
       "│ dense_2 (<span style=\"color: #0087ff; text-decoration-color: #0087ff\">Dense</span>)                 │ (<span style=\"color: #00d7ff; text-decoration-color: #00d7ff\">None</span>, <span style=\"color: #00af00; text-decoration-color: #00af00\">7</span>)              │           <span style=\"color: #00af00; text-decoration-color: #00af00\">455</span> │\n",
       "└─────────────────────────────────┴────────────────────────┴───────────────┘\n",
       "</pre>\n"
      ],
      "text/plain": [
       "┏━━━━━━━━━━━━━━━━━━━━━━━━━━━━━━━━━┳━━━━━━━━━━━━━━━━━━━━━━━━┳━━━━━━━━━━━━━━━┓\n",
       "┃\u001b[1m \u001b[0m\u001b[1mLayer (type)                   \u001b[0m\u001b[1m \u001b[0m┃\u001b[1m \u001b[0m\u001b[1mOutput Shape          \u001b[0m\u001b[1m \u001b[0m┃\u001b[1m \u001b[0m\u001b[1m      Param #\u001b[0m\u001b[1m \u001b[0m┃\n",
       "┡━━━━━━━━━━━━━━━━━━━━━━━━━━━━━━━━━╇━━━━━━━━━━━━━━━━━━━━━━━━╇━━━━━━━━━━━━━━━┩\n",
       "│ dense (\u001b[38;5;33mDense\u001b[0m)                   │ (\u001b[38;5;45mNone\u001b[0m, \u001b[38;5;34m32\u001b[0m)             │        \u001b[38;5;34m25,120\u001b[0m │\n",
       "├─────────────────────────────────┼────────────────────────┼───────────────┤\n",
       "│ dense_1 (\u001b[38;5;33mDense\u001b[0m)                 │ (\u001b[38;5;45mNone\u001b[0m, \u001b[38;5;34m64\u001b[0m)             │         \u001b[38;5;34m2,112\u001b[0m │\n",
       "├─────────────────────────────────┼────────────────────────┼───────────────┤\n",
       "│ dense_2 (\u001b[38;5;33mDense\u001b[0m)                 │ (\u001b[38;5;45mNone\u001b[0m, \u001b[38;5;34m7\u001b[0m)              │           \u001b[38;5;34m455\u001b[0m │\n",
       "└─────────────────────────────────┴────────────────────────┴───────────────┘\n"
      ]
     },
     "metadata": {},
     "output_type": "display_data"
    },
    {
     "data": {
      "text/html": [
       "<pre style=\"white-space:pre;overflow-x:auto;line-height:normal;font-family:Menlo,'DejaVu Sans Mono',consolas,'Courier New',monospace\"><span style=\"font-weight: bold\"> Total params: </span><span style=\"color: #00af00; text-decoration-color: #00af00\">27,687</span> (108.15 KB)\n",
       "</pre>\n"
      ],
      "text/plain": [
       "\u001b[1m Total params: \u001b[0m\u001b[38;5;34m27,687\u001b[0m (108.15 KB)\n"
      ]
     },
     "metadata": {},
     "output_type": "display_data"
    },
    {
     "data": {
      "text/html": [
       "<pre style=\"white-space:pre;overflow-x:auto;line-height:normal;font-family:Menlo,'DejaVu Sans Mono',consolas,'Courier New',monospace\"><span style=\"font-weight: bold\"> Trainable params: </span><span style=\"color: #00af00; text-decoration-color: #00af00\">27,687</span> (108.15 KB)\n",
       "</pre>\n"
      ],
      "text/plain": [
       "\u001b[1m Trainable params: \u001b[0m\u001b[38;5;34m27,687\u001b[0m (108.15 KB)\n"
      ]
     },
     "metadata": {},
     "output_type": "display_data"
    },
    {
     "data": {
      "text/html": [
       "<pre style=\"white-space:pre;overflow-x:auto;line-height:normal;font-family:Menlo,'DejaVu Sans Mono',consolas,'Courier New',monospace\"><span style=\"font-weight: bold\"> Non-trainable params: </span><span style=\"color: #00af00; text-decoration-color: #00af00\">0</span> (0.00 B)\n",
       "</pre>\n"
      ],
      "text/plain": [
       "\u001b[1m Non-trainable params: \u001b[0m\u001b[38;5;34m0\u001b[0m (0.00 B)\n"
      ]
     },
     "metadata": {},
     "output_type": "display_data"
    },
    {
     "name": "stdout",
     "output_type": "stream",
     "text": [
      "***Training the model.\n",
      "\u001b[1m1/1\u001b[0m \u001b[32m━━━━━━━━━━━━━━━━━━━━\u001b[0m\u001b[37m\u001b[0m \u001b[1m0s\u001b[0m 1ms/step  \n"
     ]
    },
    {
     "data": {
      "image/png": "[encoded data removed]",
      "text/plain": [
       "<Figure size 640x480 with 2 Axes>"
      ]
     },
     "metadata": {},
     "output_type": "display_data"
    },
    {
     "name": "stdout",
     "output_type": "stream",
     "text": [
      "***Constructing the model.\n"
     ]
    },
    {
     "data": {
      "text/html": [
       "<pre style=\"white-space:pre;overflow-x:auto;line-height:normal;font-family:Menlo,'DejaVu Sans Mono',consolas,'Courier New',monospace\"><span style=\"font-weight: bold\">Model: \"sequential_1\"</span>\n",
       "</pre>\n"
      ],
      "text/plain": [
       "\u001b[1mModel: \"sequential_1\"\u001b[0m\n"
      ]
     },
     "metadata": {},
     "output_type": "display_data"
    },
    {
     "data": {
      "text/html": [
       "<pre style=\"white-space:pre;overflow-x:auto;line-height:normal;font-family:Menlo,'DejaVu Sans Mono',consolas,'Courier New',monospace\">┏━━━━━━━━━━━━━━━━━━━━━━━━━━━━━━━━━┳━━━━━━━━━━━━━━━━━━━━━━━━┳━━━━━━━━━━━━━━━┓\n",
       "┃<span style=\"font-weight: bold\"> Layer (type)                    </span>┃<span style=\"font-weight: bold\"> Output Shape           </span>┃<span style=\"font-weight: bold\">       Param # </span>┃\n",
       "┡━━━━━━━━━━━━━━━━━━━━━━━━━━━━━━━━━╇━━━━━━━━━━━━━━━━━━━━━━━━╇━━━━━━━━━━━━━━━┩\n",
       "│ dense_3 (<span style=\"color: #0087ff; text-decoration-color: #0087ff\">Dense</span>)                 │ (<span style=\"color: #00d7ff; text-decoration-color: #00d7ff\">None</span>, <span style=\"color: #00af00; text-decoration-color: #00af00\">32</span>)             │        <span style=\"color: #00af00; text-decoration-color: #00af00\">25,120</span> │\n",
       "├─────────────────────────────────┼────────────────────────┼───────────────┤\n",
       "│ dense_4 (<span style=\"color: #0087ff; text-decoration-color: #0087ff\">Dense</span>)                 │ (<span style=\"color: #00d7ff; text-decoration-color: #00d7ff\">None</span>, <span style=\"color: #00af00; text-decoration-color: #00af00\">64</span>)             │         <span style=\"color: #00af00; text-decoration-color: #00af00\">2,112</span> │\n",
       "├─────────────────────────────────┼────────────────────────┼───────────────┤\n",
       "│ dense_5 (<span style=\"color: #0087ff; text-decoration-color: #0087ff\">Dense</span>)                 │ (<span style=\"color: #00d7ff; text-decoration-color: #00d7ff\">None</span>, <span style=\"color: #00af00; text-decoration-color: #00af00\">7</span>)              │           <span style=\"color: #00af00; text-decoration-color: #00af00\">455</span> │\n",
       "└─────────────────────────────────┴────────────────────────┴───────────────┘\n",
       "</pre>\n"
      ],
      "text/plain": [
       "┏━━━━━━━━━━━━━━━━━━━━━━━━━━━━━━━━━┳━━━━━━━━━━━━━━━━━━━━━━━━┳━━━━━━━━━━━━━━━┓\n",
       "┃\u001b[1m \u001b[0m\u001b[1mLayer (type)                   \u001b[0m\u001b[1m \u001b[0m┃\u001b[1m \u001b[0m\u001b[1mOutput Shape          \u001b[0m\u001b[1m \u001b[0m┃\u001b[1m \u001b[0m\u001b[1m      Param #\u001b[0m\u001b[1m \u001b[0m┃\n",
       "┡━━━━━━━━━━━━━━━━━━━━━━━━━━━━━━━━━╇━━━━━━━━━━━━━━━━━━━━━━━━╇━━━━━━━━━━━━━━━┩\n",
       "│ dense_3 (\u001b[38;5;33mDense\u001b[0m)                 │ (\u001b[38;5;45mNone\u001b[0m, \u001b[38;5;34m32\u001b[0m)             │        \u001b[38;5;34m25,120\u001b[0m │\n",
       "├─────────────────────────────────┼────────────────────────┼───────────────┤\n",
       "│ dense_4 (\u001b[38;5;33mDense\u001b[0m)                 │ (\u001b[38;5;45mNone\u001b[0m, \u001b[38;5;34m64\u001b[0m)             │         \u001b[38;5;34m2,112\u001b[0m │\n",
       "├─────────────────────────────────┼────────────────────────┼───────────────┤\n",
       "│ dense_5 (\u001b[38;5;33mDense\u001b[0m)                 │ (\u001b[38;5;45mNone\u001b[0m, \u001b[38;5;34m7\u001b[0m)              │           \u001b[38;5;34m455\u001b[0m │\n",
       "└─────────────────────────────────┴────────────────────────┴───────────────┘\n"
      ]
     },
     "metadata": {},
     "output_type": "display_data"
    },
    {
     "data": {
      "text/html": [
       "<pre style=\"white-space:pre;overflow-x:auto;line-height:normal;font-family:Menlo,'DejaVu Sans Mono',consolas,'Courier New',monospace\"><span style=\"font-weight: bold\"> Total params: </span><span style=\"color: #00af00; text-decoration-color: #00af00\">27,687</span> (108.15 KB)\n",
       "</pre>\n"
      ],
      "text/plain": [
       "\u001b[1m Total params: \u001b[0m\u001b[38;5;34m27,687\u001b[0m (108.15 KB)\n"
      ]
     },
     "metadata": {},
     "output_type": "display_data"
    },
    {
     "data": {
      "text/html": [
       "<pre style=\"white-space:pre;overflow-x:auto;line-height:normal;font-family:Menlo,'DejaVu Sans Mono',consolas,'Courier New',monospace\"><span style=\"font-weight: bold\"> Trainable params: </span><span style=\"color: #00af00; text-decoration-color: #00af00\">27,687</span> (108.15 KB)\n",
       "</pre>\n"
      ],
      "text/plain": [
       "\u001b[1m Trainable params: \u001b[0m\u001b[38;5;34m27,687\u001b[0m (108.15 KB)\n"
      ]
     },
     "metadata": {},
     "output_type": "display_data"
    },
    {
     "data": {
      "text/html": [
       "<pre style=\"white-space:pre;overflow-x:auto;line-height:normal;font-family:Menlo,'DejaVu Sans Mono',consolas,'Courier New',monospace\"><span style=\"font-weight: bold\"> Non-trainable params: </span><span style=\"color: #00af00; text-decoration-color: #00af00\">0</span> (0.00 B)\n",
       "</pre>\n"
      ],
      "text/plain": [
       "\u001b[1m Non-trainable params: \u001b[0m\u001b[38;5;34m0\u001b[0m (0.00 B)\n"
      ]
     },
     "metadata": {},
     "output_type": "display_data"
    },
    {
     "name": "stdout",
     "output_type": "stream",
     "text": [
      "***Training the model.\n",
      "\u001b[1m1/1\u001b[0m \u001b[32m━━━━━━━━━━━━━━━━━━━━\u001b[0m\u001b[37m\u001b[0m \u001b[1m0s\u001b[0m 1ms/step  \n"
     ]
    },
    {
     "data": {
      "image/png": "[encoded data removed]",
      "text/plain": [
       "<Figure size 640x480 with 2 Axes>"
      ]
     },
     "metadata": {},
     "output_type": "display_data"
    },
    {
     "name": "stdout",
     "output_type": "stream",
     "text": [
      "***Preparing the data. This can take 30 secs for so.\n",
      "OK!\n"
     ]
    }
   ],
   "source": [
    "global X_training, y_training, X_testing, y_testing\n",
    "LearnerInfo = collections.namedtuple(\"LearnerInfo\",\n",
    "      \"model, X_training, y_training, X_testing, y_testing, history\"\n",
    "                                    )\n",
    "def learnDigits(\n",
    "    training_count:Optional[int]=None,\n",
    "    digits:List[int]=range(10),\n",
    "    hidden1_size:int=8,\n",
    "    hidden2_size:int=16,\n",
    "    num_epoch:int=5,\n",
    "    training_verbose:int=0,\n",
    "    is_confusion_matrix=True,\n",
    "    is_model_summary=True,\n",
    "):\n",
    "    \"\"\"\n",
    "    1. Creates the data for the model from the full MNIST dataset.\n",
    "    2. Constructs a sequential model with specified sizes of hidden layers\n",
    "    3. Does prediction for the test set (20% the size of the training data)\n",
    "    4. Displays accuracy and confusion matrix.\n",
    "\n",
    "    Args:\n",
    "        training_count: int (number of training images for each class)\n",
    "            if None, use existing data.\n",
    "        digits: list-int (digits/classes considered)\n",
    "        hidden1_size: int (number of units in the first hidden layer)\n",
    "        hidden2_size: int (number of units in the second hidden layer)\n",
    "        num_epoc: int (number of epochs of training)\n",
    "        verbose: int (verbosity for training)\n",
    "    Returns:\n",
    "        LearnerInfo\n",
    "    \"\"\"\n",
    "    global X_training, y_training, X_testing, y_testing\n",
    "    def makeDirs(error_msg=None):\n",
    "        print(\"***Preparing the data. This can take 30 secs for so.\")\n",
    "        if training_count is None:\n",
    "            if error_msg is None:\n",
    "                error_msg = \"Must specify training count to acquire new data.\"\n",
    "            raise ValueError(error_msg)\n",
    "        sub_dirs = [str(n) for n in digits]\n",
    "        makeDigitDirs(train_count=training_count, sub_dirs=sub_dirs)\n",
    "    #\n",
    "    # Create the input data\n",
    "    is_new_data = False\n",
    "    if training_count is not None:\n",
    "        makeDirs()\n",
    "        is_new_data = True\n",
    "    # Construct training and test data\n",
    "    if (not \"X_testing\" in globals()) or is_new_data:\n",
    "        print(\"***Making in-memory test and training data.\")\n",
    "        X_training, y_training = makeDigitData(TRAINING)\n",
    "        X_testing, y_testing = makeDigitData(TESTING)\n",
    "        is_new_data = True\n",
    "    digit_diff = set(y_training).symmetric_difference(digits)\n",
    "    if len(digit_diff) > 0:\n",
    "        makeDirs(error_msg=\"Changed digits but didn't specify training_count.\")\n",
    "        X_training, y_training = makeDigitData(TRAINING)\n",
    "        X_testing, y_testing = makeDigitData(TESTING)\n",
    "    # Construct the model\n",
    "    print(\"***Constructing the model.\")\n",
    "    max_class = max(y_training) + 1\n",
    "    model = keras.Sequential(\n",
    "        [\n",
    "            keras.Input(shape=(X_training.shape[-1],)),\n",
    "            layers.Dense(hidden1_size, activation=\"relu\"),\n",
    "            layers.Dense(hidden2_size, activation=\"relu\"),\n",
    "            layers.Dense(max_class, activation=\"softmax\"),\n",
    "        ]\n",
    "    )\n",
    "    model.compile(loss='categorical_crossentropy', metrics=['accuracy'])\n",
    "    if is_model_summary:\n",
    "        model.summary()\n",
    "    categorical_y_training = to_categorical(y_training)\n",
    "    # Train the model\n",
    "    print(\"***Training the model.\")\n",
    "    history = model.fit(X_training, categorical_y_training, epochs=num_epoch,\n",
    "                        batch_size=64,\n",
    "                        verbose=training_verbose)\n",
    "\n",
    "    y_pred = model.predict(X_testing).argmax(axis=1)\n",
    "    # Evaluate the result\n",
    "    if is_confusion_matrix:\n",
    "        plotConfusionMatrix(y_testing, y_pred)\n",
    "    return LearnerInfo(\n",
    "        X_training=X_training,\n",
    "        y_training=y_training,\n",
    "        model=model,\n",
    "        X_testing=X_testing,\n",
    "        y_testing=y_testing,\n",
    "        history=history\n",
    "    )\n",
    "\n",
    "# Tests\n",
    "try:\n",
    "    learner_info = learnDigits(training_count=10, hidden1_size=32, hidden2_size=64,\n",
    "            num_epoch=5, digits = [1, 3, 6], training_verbose=0)\n",
    "except Exception as e:\n",
    "    assert(False)\n",
    "# Use previous data\n",
    "try:\n",
    "    learnDigits(training_count=None, hidden1_size=32, hidden2_size=64,\n",
    "            num_epoch=5, digits = [1, 3, 6], training_verbose=0)\n",
    "except Exception as e:\n",
    "    assert(False)\n",
    "# Changed digits\n",
    "try:\n",
    "    learnDigits(training_count=None, hidden1_size=32, hidden2_size=64,\n",
    "            num_epoch=5, digits = [1, 3, 6, 7], training_verbose=0)\n",
    "    assert(False)\n",
    "except Exception as e:\n",
    "    pass\n",
    "#\n",
    "print(\"OK!\")"
   ]
  },
  {
   "cell_type": "code",
   "execution_count": 12,
   "id": "8cc41c90-7762-4706-b750-c76fecfc6f3e",
   "metadata": {
    "colab": {
     "base_uri": "https://localhost:8080/"
    },
    "id": "8cc41c90-7762-4706-b750-c76fecfc6f3e",
    "outputId": "9c9040c3-0b9a-406f-c2b4-b70289afed00"
   },
   "outputs": [
    {
     "data": {
      "text/plain": [
       "array([[  0,   0,   0,   0,   0,   0,   0,   0,   0,   0,   0,   0,   0,\n",
       "          0,   0,   0,   0,   0,   0,   0,   0,   0,   0,   0,   0,   0,\n",
       "          0,   0,   0,   0,   0,   0,   0,   0,   0,   0,   0,   0,   0,\n",
       "          0,   0,   0,   0,   0,   0,   0,   0,   0,   0,   0,   0,   0,\n",
       "          0,   0,   0,   0,   0,   0,   0,   0,   0,   0,   0,   0,   0,\n",
       "          0,   0,   0,   0,   0,   0,  42, 192, 137,   3,   0,   0,   0,\n",
       "          0,   0,   0,   0,   0,   0,   0,   0,   0,   0,   0,   0,   0,\n",
       "          0,   0,   0,   0,   0,   0,   0,   0,  78, 254, 254,   5,   0,\n",
       "          0,   0,   0,   0,   0,   0,   0,   0,   0,   0,   0,   0,   0,\n",
       "          0,   0,   0,   0,   0,   0,   0,   0,   0,  38, 170, 254, 231,\n",
       "          4,   0,   0,   0,   0,   0,   0,   0,   0,   0,   0,   0,   0,\n",
       "          0,   0,   0,   0,   0,   0,   0,   0,   0,   7, 146, 235, 254,\n",
       "        228,  47,   0,   0,   0,   0,   0,   0,   0,   0,   0,   0,   0,\n",
       "          0,   0,   0,   0,   0,   0,   0,   0,   0,   0,  47, 212, 254,\n",
       "        254, 254,  63,   0,   0,   0,   0,   0,   0,   0,   0,   0,   0,\n",
       "          0,   0,   0,   0,   0,   0,   0,   0,   0,   0,   0,   0, 126,\n",
       "        254, 254, 254, 186,   5,   0,   0,   0,   0,   0,   0,   0,   0,\n",
       "          0,   0,   0,   0,   0,   0,   0,   0,   0,   0,   0,   0,   0,\n",
       "          3, 239, 254, 254, 225,  35,   0,   0,   0,   0,   0,   0,   0,\n",
       "          0,   0,   0,   0,   0,   0,   0,   0,   0,   0,   0,   0,   0,\n",
       "          0,   9, 176, 254, 254, 251, 122,   0,   0,   0,   0,   0,   0,\n",
       "          0,   0,   0,   0,   0,   0,   0,   0,   0,   0,   0,   0,   0,\n",
       "          0,   0,   0,  90, 254, 254, 239,  79,   0,   0,   0,   0,   0,\n",
       "          0,   0,   0,   0,   0,   0,   0,   0,   0,   0,   0,   0,   0,\n",
       "          0,   0,   0,   0,  45, 128, 254, 254, 231,   0,   0,  19,  60,\n",
       "        113, 118,  53,   0,   0,   0,   0,   0,   0,   0,   0,   0,   0,\n",
       "          0,   0,   0,   0,   0,   0, 190, 254, 254, 253, 106,   0,  83,\n",
       "        214, 254, 254, 254, 248,  68,   0,   0,   0,   0,   0,   0,   0,\n",
       "          0,   0,   0,   0,   0,   0,   0,   0, 146, 254, 254, 204,   0,\n",
       "         16, 207, 254, 255, 254, 254, 254, 188,   0,   0,   0,   0,   0,\n",
       "          0,   0,   0,   0,   0,   0,   0,   0,   0,   0,  72, 254, 254,\n",
       "        129,  11, 136, 254, 254, 254, 254, 202, 254, 228,  32,   0,   0,\n",
       "          0,   0,   0,   0,   0,   0,   0,   0,   0,   0,   0,   0,  72,\n",
       "        254, 254, 129, 135, 254, 254, 254, 200,  16,  64, 200, 254,  71,\n",
       "          0,   0,   0,   0,   0,   0,   0,   0,   0,   0,   0,   0,   0,\n",
       "          0,  64, 249, 254, 129,  24, 254, 255, 209,  17,   0,   2, 161,\n",
       "        254,  71,   0,   0,   0,   0,   0,   0,   0,   0,   0,   0,   0,\n",
       "          0,   0,   0,   0, 130, 254, 152,  24, 254, 254, 155,   0,   0,\n",
       "         90, 254, 246,  58,   0,   0,   0,   0,   0,   0,   0,   0,   0,\n",
       "          0,   0,   0,   0,   0,   0,  67, 247, 253, 135, 254, 254,  59,\n",
       "          0,  60, 218, 254, 176,   0,   0,   0,   0,   0,   0,   0,   0,\n",
       "          0,   0,   0,   0,   0,   0,   0,   0,   0, 226, 254, 254, 254,\n",
       "        254, 214, 103, 239, 254, 192,  19,   0,   0,   0,   0,   0,   0,\n",
       "          0,   0,   0,   0,   0,   0,   0,   0,   0,   0,   0, 179, 254,\n",
       "        254, 254, 254, 254, 254, 254, 197,  15,   0,   0,   0,   0,   0,\n",
       "          0,   0,   0,   0,   0,   0,   0,   0,   0,   0,   0,   0,   0,\n",
       "          8,  76, 146, 254, 254, 254, 210, 135,  11,   0,   0,   0,   0,\n",
       "          0,   0,   0,   0,   0,   0,   0,   0,   0,   0,   0,   0,   0,\n",
       "          0,   0,   0,   0,   0,   0,   0,   0,   0,   0,   0,   0,   0,\n",
       "          0,   0,   0,   0,   0,   0,   0,   0,   0,   0,   0,   0,   0,\n",
       "          0,   0,   0,   0,   0,   0,   0,   0,   0,   0,   0,   0,   0,\n",
       "          0,   0,   0,   0,   0,   0,   0,   0,   0,   0,   0,   0,   0,\n",
       "          0,   0,   0,   0,   0,   0,   0,   0,   0,   0,   0,   0,   0,\n",
       "          0,   0,   0,   0,   0,   0,   0,   0,   0,   0,   0,   0,   0,\n",
       "          0,   0,   0,   0,   0,   0,   0,   0,   0,   0,   0,   0,   0,\n",
       "          0,   0,   0,   0,   0,   0,   0,   0,   0,   0,   0,   0,   0,\n",
       "          0,   0,   0,   0,   0,   0,   0,   0,   0,   0,   0,   0,   0,\n",
       "          0,   0,   0,   0,   0,   0,   0,   0,   0,   0,   0,   0,   0,\n",
       "          0,   0,   0,   0,   0,   0,   0,   0,   0,   0,   0,   0,   0,\n",
       "          0,   0,   0,   0,   0,   0,   0,   0,   0,   0,   0,   0,   0,\n",
       "          0,   0,   0,   0]], dtype=uint8)"
      ]
     },
     "execution_count": 12,
     "metadata": {},
     "output_type": "execute_result"
    }
   ],
   "source": [
    "learner_info.X_testing[0:1, :]"
   ]
  },
  {
   "cell_type": "code",
   "execution_count": 13,
   "id": "892ab3d1-8db6-41c5-a737-f9ca123f5b92",
   "metadata": {
    "colab": {
     "base_uri": "https://localhost:8080/"
    },
    "id": "892ab3d1-8db6-41c5-a737-f9ca123f5b92",
    "outputId": "ef525225-1f24-494f-b3ff-d6a948e2bd00"
   },
   "outputs": [
    {
     "name": "stdout",
     "output_type": "stream",
     "text": [
      "\u001b[1m1/1\u001b[0m \u001b[32m━━━━━━━━━━━━━━━━━━━━\u001b[0m\u001b[37m\u001b[0m \u001b[1m0s\u001b[0m 2ms/step\n"
     ]
    },
    {
     "data": {
      "text/plain": [
       "array([6])"
      ]
     },
     "execution_count": 13,
     "metadata": {},
     "output_type": "execute_result"
    }
   ],
   "source": [
    "learner_info.model.predict(learner_info.X_testing[0:1, :]).argmax(axis=1)"
   ]
  },
  {
   "cell_type": "code",
   "execution_count": 14,
   "id": "83e5c43c-0c73-4934-945d-de794f9e0c6f",
   "metadata": {
    "colab": {
     "base_uri": "https://localhost:8080/"
    },
    "id": "83e5c43c-0c73-4934-945d-de794f9e0c6f",
    "outputId": "0f1eb792-cbaa-4543-902e-1b44e27d792e"
   },
   "outputs": [
    {
     "data": {
      "text/plain": [
       "{1, 3, 6}"
      ]
     },
     "execution_count": 14,
     "metadata": {},
     "output_type": "execute_result"
    }
   ],
   "source": [
    "set(learner_info.y_testing)"
   ]
  },
  {
   "cell_type": "code",
   "execution_count": 15,
   "id": "2e70b4c3-c2d8-45fc-901d-563f83520f41",
   "metadata": {
    "colab": {
     "base_uri": "https://localhost:8080/"
    },
    "id": "2e70b4c3-c2d8-45fc-901d-563f83520f41",
    "outputId": "7f073033-4788-48de-f72e-507e6f29f52a"
   },
   "outputs": [
    {
     "data": {
      "text/plain": [
       "(2, 784)"
      ]
     },
     "execution_count": 15,
     "metadata": {},
     "output_type": "execute_result"
    }
   ],
   "source": [
    "np.shape(learner_info.X_testing[0:2, :])"
   ]
  },
  {
   "cell_type": "code",
   "execution_count": 16,
   "id": "42a88e17-ec39-4c2d-97c5-1bf6e17fbd6f",
   "metadata": {
    "colab": {
     "base_uri": "https://localhost:8080/"
    },
    "id": "42a88e17-ec39-4c2d-97c5-1bf6e17fbd6f",
    "outputId": "5f299339-8ff1-4c87-b760-71d42b5dd229"
   },
   "outputs": [
    {
     "data": {
      "text/plain": [
       "(6, 784)"
      ]
     },
     "execution_count": 16,
     "metadata": {},
     "output_type": "execute_result"
    }
   ],
   "source": [
    "np.shape(learner_info.X_testing)"
   ]
  },
  {
   "cell_type": "markdown",
   "id": "b8484dee-45a7-4b10-bd10-6278ba9745a7",
   "metadata": {
    "id": "b8484dee-45a7-4b10-bd10-6278ba9745a7"
   },
   "source": [
    "## Cluster codes"
   ]
  },
  {
   "cell_type": "code",
   "execution_count": 17,
   "id": "fec64456-92fc-499c-aefb-45696092cde4",
   "metadata": {
    "colab": {
     "base_uri": "https://localhost:8080/"
    },
    "id": "fec64456-92fc-499c-aefb-45696092cde4",
    "outputId": "b8ac0c03-d6eb-42e4-a395-f6b277b8aad7"
   },
   "outputs": [
    {
     "name": "stdout",
     "output_type": "stream",
     "text": [
      "NO TEST.\n"
     ]
    }
   ],
   "source": [
    "def plotSSW(digit, sizes=None, ax=None, is_plot=True):\n",
    "    \"\"\"\n",
    "    Plots the sum of squares within the classes\n",
    "\n",
    "    Args:\n",
    "        digit - int\n",
    "    Returns:\n",
    "        KMeans\n",
    "    \"\"\"\n",
    "    if sizes is None:\n",
    "        sizes = [1, 5, 8, 10, 12, 15, 18, 20, 30, 40, 50]\n",
    "    ssq_dct = {}\n",
    "    for size in sizes:\n",
    "        idxs = Y_TRAINING_ARR == digit\n",
    "        kmeans = KMeans(n_clusters=size, random_state=0, n_init=\"auto\").fit(X_TRAINING_MAT[idxs, :])\n",
    "        ssq_dct[size] = kmeans.inertia_\n",
    "    if is_plot:\n",
    "        if ax is None:\n",
    "            _, ax = plt.subplots(1)\n",
    "        ax.plot(ssq_dct.keys(), ssq_dct.values())\n",
    "        ax.set_title(str(digit), fontsize=20)\n",
    "        ax.set_xlabel(\"no. classes\")\n",
    "        ax.set_ylabel(\"sum of squares\")\n",
    "        ax.set_ylim([0, 2*1e10])\n",
    "    return kmeans\n",
    "\n",
    "# Tests\n",
    "if not \"Y_TRAINING_ARR\" in globals():\n",
    "    print(\"NO TEST.\")\n",
    "else:\n",
    "    result = plotSSW(1, sizes=[1,3], is_plot=False)\n",
    "    assert(\"KMeans\" in str(type(result)))\n",
    "    print(\"OK!\")"
   ]
  },
  {
   "cell_type": "code",
   "execution_count": 18,
   "id": "ac5624cb-28c1-4f4b-9eb0-7ea40458c6cf",
   "metadata": {
    "colab": {
     "base_uri": "https://localhost:8080/"
    },
    "id": "ac5624cb-28c1-4f4b-9eb0-7ea40458c6cf",
    "outputId": "5d36388f-2bc6-4804-ea97-8c54a8ab3fb5"
   },
   "outputs": [
    {
     "name": "stdout",
     "output_type": "stream",
     "text": [
      "NO TEST.\n"
     ]
    }
   ],
   "source": [
    "def plotDigitClassSizes(is_plot=True, **kwargs):\n",
    "    \"\"\"\n",
    "    Plots the class sizes and SSW.\n",
    "\n",
    "    Returns:\n",
    "        list-KMeans\n",
    "    \"\"\"\n",
    "    nrow = 2\n",
    "    ncol = 5\n",
    "    if is_plot:\n",
    "        figure, axes = plt.subplots(nrow, ncol, figsize=(20, 8))\n",
    "    kmeans = []\n",
    "    for irow in range(nrow):\n",
    "        for icol in range(ncol):\n",
    "            digit = irow*ncol + icol\n",
    "            if is_plot:\n",
    "                ax = axes[irow, icol]\n",
    "            else:\n",
    "                ax = None\n",
    "            kmeans.append(plotSSW(digit, ax=ax, is_plot=is_plot, **kwargs))\n",
    "            if irow == 0:\n",
    "                if ax is not None:\n",
    "                    ax.set_xlabel(\"\")\n",
    "            if icol > 0:\n",
    "                if ax is not None:\n",
    "                    ax.set_ylabel(\"\")\n",
    "    return kmeans\n",
    "\n",
    "# Tests\n",
    "if not \"Y_TRAINING_ARR\" in globals():\n",
    "    print(\"NO TEST.\")\n",
    "else:\n",
    "    results = plotDigitClassSizes(sizes=[1, 20], is_plot=False)\n",
    "    assert(isinstance(results, list))\n",
    "    assert(\"KMeans\" in str(type(results[0])))\n",
    "    print(\"OK!\")"
   ]
  },
  {
   "cell_type": "markdown",
   "id": "4219054f-f3f4-4750-bbd7-d072b91ca561",
   "metadata": {
    "id": "4219054f-f3f4-4750-bbd7-d072b91ca561"
   },
   "source": [
    "## Data Initialization"
   ]
  },
  {
   "cell_type": "code",
   "execution_count": 19,
   "id": "64e9fe2c-5541-443c-9112-f389b5143fd8",
   "metadata": {
    "colab": {
     "base_uri": "https://localhost:8080/"
    },
    "id": "64e9fe2c-5541-443c-9112-f389b5143fd8",
    "outputId": "893d309d-df21-47bc-ebdb-801a1c4b97b8"
   },
   "outputs": [
    {
     "name": "stdout",
     "output_type": "stream",
     "text": [
      "CPU times: user 5.89 s, sys: 5.42 s, total: 11.3 s\n",
      "Wall time: 47.7 s\n"
     ]
    }
   ],
   "source": [
    "%%time\n",
    "makeDigitDirs(train_count=NUM_TRAINING, sub_dirs=range(10))\n",
    "X_TRAINING_MAT, Y_TRAINING_ARR =  makeDigitData(TRAINING)\n",
    "X_TESTING_MAT, Y_TESTING_ARR =  makeDigitData(TESTING)"
   ]
  },
  {
   "cell_type": "code",
   "execution_count": 20,
   "id": "43e83a89-bb8c-4380-b990-f4c2a697115c",
   "metadata": {
    "colab": {
     "base_uri": "https://localhost:8080/"
    },
    "id": "43e83a89-bb8c-4380-b990-f4c2a697115c",
    "outputId": "8f82bb4d-51e5-4d23-9055-ea293392117e"
   },
   "outputs": [
    {
     "data": {
      "text/plain": [
       "((10000, 784), (10000,), (2000, 784), (2000,))"
      ]
     },
     "execution_count": 20,
     "metadata": {},
     "output_type": "execute_result"
    }
   ],
   "source": [
    "np.shape(X_TRAINING_MAT), np.shape(Y_TRAINING_ARR), np.shape(X_TESTING_MAT), np.shape(Y_TESTING_ARR)"
   ]
  },
  {
   "cell_type": "code",
   "execution_count": 21,
   "id": "5d9d69f4-2853-4801-8524-ac47fd73ac1e",
   "metadata": {
    "colab": {
     "base_uri": "https://localhost:8080/"
    },
    "id": "5d9d69f4-2853-4801-8524-ac47fd73ac1e",
    "outputId": "46a74cd2-f3b9-4644-d0ca-603d25e1207b"
   },
   "outputs": [
    {
     "data": {
      "text/plain": [
       "array([[  0,   0,   0,   0,   0,   0,   0,   0,   0,   0,   0,   0,   0,\n",
       "          0,   0,   0,   0,   0,   0,   0,   0,   0,   0,   0,   0,   0,\n",
       "          0,   0,   0,   0,   0,   0,   0,   0,   0,   0,   0,   0,   0,\n",
       "          0,   0,   0,   0,   0,   0,   0,   0,   0,   0,   0,   0,   0,\n",
       "          0,   0,   0,   0,   0,   0,   0,   0,   0,   0,   0,   0,   0,\n",
       "          0,   0,   0,   0,   0,   0,   0,   0,   0,   0,   0,   0,   0,\n",
       "          0,   0,   0,  11,  34, 212, 253, 211,  86,   0,   0,   0,   0,\n",
       "          0,   0,   0,   0,   0,   0,   0,   0,   0],\n",
       "       [  0,   0,   0,   0,   0,   0,   0,   0,   0,   0,   0,   0,   0,\n",
       "          0,   0,   0,   0,   0,   0,   0,   0,   0,   0,   0,   0,   0,\n",
       "          0,   0,   0,   0,   0,   0,   0,   0,   0,   0,   0,   0,   0,\n",
       "          0,   0,   0,   0,   0,   0,   0,   0,   0,   0,   0,   0,   0,\n",
       "          0,   0,   0,   0,   0,   0,   0,   0,   0,   0,   0,   0,   0,\n",
       "          0,   0,   0,   0,   0,   0,   0,   0,   0,   0,   0,   0,   0,\n",
       "          0,   0,   0,   0,   0,   0,   0,   0,   0,   0,   0,   0,   0,\n",
       "          0,   0,   0,   0,   0,   0,   0,   0,   0]], dtype=uint8)"
      ]
     },
     "execution_count": 21,
     "metadata": {},
     "output_type": "execute_result"
    }
   ],
   "source": [
    "X_TRAINING_MAT[0:2, 100:200]"
   ]
  },
  {
   "cell_type": "code",
   "execution_count": 22,
   "id": "2337d426-6780-464a-904c-aca9fd2ec39d",
   "metadata": {
    "colab": {
     "base_uri": "https://localhost:8080/"
    },
    "id": "2337d426-6780-464a-904c-aca9fd2ec39d",
    "outputId": "820410a3-f44f-410c-e4e7-cc90bbf2cd37"
   },
   "outputs": [
    {
     "data": {
      "text/plain": [
       "array([9, 9])"
      ]
     },
     "execution_count": 22,
     "metadata": {},
     "output_type": "execute_result"
    }
   ],
   "source": [
    "Y_TRAINING_ARR[0:2]"
   ]
  },
  {
   "cell_type": "markdown",
   "id": "185ec733-25fa-48b0-9a65-a0e0ada1617e",
   "metadata": {
    "id": "185ec733-25fa-48b0-9a65-a0e0ada1617e"
   },
   "source": [
    "# An Anecdote on Data Curation"
   ]
  },
  {
   "cell_type": "markdown",
   "id": "734b877b-bc39-4e7f-9f12-328d04688a4c",
   "metadata": {
    "id": "734b877b-bc39-4e7f-9f12-328d04688a4c"
   },
   "source": [
    "Task: Build a learner that classifies an image as a *plane* or a *bird*.\n",
    "\n",
    "Data collection with ``duckduckgo`` searching for images with the keywords \"bird\" and \"plane\"."
   ]
  },
  {
   "cell_type": "markdown",
   "id": "4968a238-0e6e-4aae-9455-e2771a7f60a9",
   "metadata": {
    "id": "4968a238-0e6e-4aae-9455-e2771a7f60a9"
   },
   "source": [
    "<img src=\"https://pngimg.com/uploads/birds/birds_PNG49.png\" alt=\"drawing\" width=\"200\"/>\n",
    "<img src=\"https://i.etsystatic.com/18604024/r/il/d40c9f/4484408200/il_1588xN.4484408200_rfpk.jpg\" alt=\"drawing\" width=\"200\"/>\n",
    "<img src=\"https://pngimg.com/uploads/plane/plane_PNG101208.png\" alt=\"drawing\" width=\"200\"/>"
   ]
  },
  {
   "cell_type": "markdown",
   "id": "603993a3-9a0d-44f7-a5c9-b95c4234fdea",
   "metadata": {
    "id": "603993a3-9a0d-44f7-a5c9-b95c4234fdea"
   },
   "source": [
    "There was one unexpected image retrieved for the \"bird\" search."
   ]
  },
  {
   "cell_type": "markdown",
   "id": "0700eeb3-e26a-462e-b601-73a3eeb470f3",
   "metadata": {
    "id": "0700eeb3-e26a-462e-b601-73a3eeb470f3"
   },
   "source": [
    "**Larry Bird**\n",
    "<img src=\"https://cdn.nba.com/manage/2018/10/larry-bird.jpg\" alt=\"drawing\" width=\"300\"/>"
   ]
  },
  {
   "cell_type": "markdown",
   "id": "47ba90ba-1651-430e-977b-3083ad19eb9d",
   "metadata": {
    "id": "47ba90ba-1651-430e-977b-3083ad19eb9d"
   },
   "source": [
    "We don't want pictures of Larry Bird in our training data!"
   ]
  },
  {
   "cell_type": "markdown",
   "id": "72eefa1e-f204-4a4c-b01f-0fa864cee541",
   "metadata": {
    "id": "72eefa1e-f204-4a4c-b01f-0fa864cee541"
   },
   "source": [
    "**Data curation is essential.**"
   ]
  },
  {
   "cell_type": "markdown",
   "id": "ce91b80c-b314-471a-b4f2-7ecd8bca692e",
   "metadata": {
    "id": "ce91b80c-b314-471a-b4f2-7ecd8bca692e"
   },
   "source": [
    "# MNIST Digit Data"
   ]
  },
  {
   "cell_type": "markdown",
   "id": "4a8f5837-ec18-4e22-a155-6a023072f4c1",
   "metadata": {
    "id": "4a8f5837-ec18-4e22-a155-6a023072f4c1"
   },
   "source": [
    "From Wikipedia:\n",
    "\n",
    "The MNIST database (Modified National Institute of Standards and Technology database) is a large database of handwritten digits that is commonly used for training various image processing systems. The database is also widely used for training and testing in the field of machine learning. It was created by \"re-mixing\" the samples from NIST's original datasets. The creators felt that since NIST's training dataset was taken from American Census Bureau employees, while the testing dataset was taken from American high school students, it was not well-suited for machine learning experiments. Furthermore, the black and white images from NIST were normalized to fit into a 28x28 pixel bounding box and anti-aliased, which introduced grayscale levels."
   ]
  },
  {
   "cell_type": "markdown",
   "id": "9aa789fd-aa68-4eb3-949b-8c72efba7ba1",
   "metadata": {
    "id": "9aa789fd-aa68-4eb3-949b-8c72efba7ba1"
   },
   "source": [
    "<img src=\"https://upload.wikimedia.org/wikipedia/commons/f/f7/MnistExamplesModified.png\" alt=\"drawing\" width=\"400\"/>"
   ]
  },
  {
   "cell_type": "markdown",
   "id": "53444333-b0cb-4171-83b3-e0990d408937",
   "metadata": {
    "id": "53444333-b0cb-4171-83b3-e0990d408937"
   },
   "source": [
    "About 6,000 ``png` files for training each digit and 1,000 ``png`` files for testing."
   ]
  },
  {
   "cell_type": "markdown",
   "id": "0f2c65e1-b0fd-469f-97f6-7ec605e7aa07",
   "metadata": {
    "id": "0f2c65e1-b0fd-469f-97f6-7ec605e7aa07"
   },
   "source": [
    "<img src=\"https://github.com/joseph-hellerstein/keras/raw/main/docs/structure-of-mnist.png\" alt=\"drawing\" width=\"800\"/>"
   ]
  },
  {
   "cell_type": "markdown",
   "id": "217ca6f3-2aa0-41f5-a7c9-f4abde5e3515",
   "metadata": {
    "id": "217ca6f3-2aa0-41f5-a7c9-f4abde5e3515"
   },
   "source": [
    "# Common Sense Data Science for Classification"
   ]
  },
  {
   "cell_type": "markdown",
   "id": "ec50519e-4872-454b-abe0-59fb2ce99fb7",
   "metadata": {
    "id": "ec50519e-4872-454b-abe0-59fb2ce99fb7"
   },
   "source": [
    "## Terminology"
   ]
  },
  {
   "cell_type": "markdown",
   "id": "9a673bbc-780f-4f79-839d-f66aad66d849",
   "metadata": {
    "id": "9a673bbc-780f-4f79-839d-f66aad66d849"
   },
   "source": [
    "* **Data.** Information collected for analysis. They described along two dimensions:\n",
    "    * **Sample instance (data item)** An instance of what is collected. Example: A single 28 by 28 image.\n",
    "    * **Feature.** An attribute of a data item. Example: pixel 25, 27.\n",
    "    * **Label.** A classification of a data item. Example (for digit classification): \"5\".\n",
    "* **Fit Algorithm.** Processing data in preparation for analysis.\n",
    "    * **Parameters.** Constants estimated by the fit algorithm.\n",
    "    * **Training data.** Data used by the learner to estimate parameters (e.g., via back propagation).\n",
    "    * **Validation data.** Data used to evaluate model quality during training. These data must be separate from training data.\n",
    "* **Predict Algorithm.** An algorithm that inputs data features and outputs a label.\n",
    "* **Evaluation.** An assessment of the model's ability to perform its intended task based on considerations such as: (a) the quality of the predictions; (b) computational efficiency; and (c) conceptual complexity.\n",
    "    * **Testing data.** Data with known labels used in evaluation but not in the training or model selection."
   ]
  },
  {
   "cell_type": "markdown",
   "id": "55d96b21-a0a7-47bb-9731-ddae0f751f75",
   "metadata": {
    "id": "55d96b21-a0a7-47bb-9731-ddae0f751f75"
   },
   "source": [
    "## Guidelines"
   ]
  },
  {
   "cell_type": "markdown",
   "id": "e8b60da5-33be-4d7c-9117-64d14204b416",
   "metadata": {
    "id": "e8b60da5-33be-4d7c-9117-64d14204b416"
   },
   "source": [
    "**You need much more data (number of samples times features) than parameters.**\n",
    "Violating this leads to overfitting."
   ]
  },
  {
   "cell_type": "markdown",
   "id": "621a4259-b3d7-48f7-9980-00a9205fc0a1",
   "metadata": {
    "id": "621a4259-b3d7-48f7-9980-00a9205fc0a1"
   },
   "source": [
    "**Models should have as many parameters as required to achieve the desired quality (e.g., accuracy), but no more.**\n",
    "This reduces the data requirements and the complexity of the model."
   ]
  },
  {
   "cell_type": "markdown",
   "id": "c94b1ff2-f817-4491-88fc-6081ba8ba4ac",
   "metadata": {
    "id": "c94b1ff2-f817-4491-88fc-6081ba8ba4ac"
   },
   "source": [
    "**A data item improves parameter estimation only if it provides new information.** There is no value to redundant data."
   ]
  },
  {
   "cell_type": "markdown",
   "id": "f460c0c8-bd19-4ca4-a001-1ba1c852cf79",
   "metadata": {
    "id": "f460c0c8-bd19-4ca4-a001-1ba1c852cf79"
   },
   "source": [
    "**We prefer models that have an intuitive explanation.** Intuitive models are more credible than a \"black box\"."
   ]
  },
  {
   "cell_type": "markdown",
   "id": "f3a45d1e-7475-497c-affc-9a45d383ae47",
   "metadata": {
    "id": "f3a45d1e-7475-497c-affc-9a45d383ae47"
   },
   "source": [
    "# Tips for Computational Sanity"
   ]
  },
  {
   "cell_type": "markdown",
   "id": "71cec3f0-1219-4424-b241-282eee956998",
   "metadata": {
    "id": "71cec3f0-1219-4424-b241-282eee956998"
   },
   "source": [
    "## Joe's Recommendations"
   ]
  },
  {
   "cell_type": "markdown",
   "id": "6f457638-5825-46bb-b349-82141916f524",
   "metadata": {
    "id": "6f457638-5825-46bb-b349-82141916f524"
   },
   "source": [
    "1. Global variables\n",
    "    1. Definition: Write once, read many in many cells.\n",
    "    1. Names have all capital letters.\n",
    "1. Local variables\n",
    "    1. Definition: Used within a single cell\n",
    "    2. Names are all lower case.\n",
    "1. Functions\n",
    "    1. Use functions to encapsulate workflow and avoid \"name collisions\" for variables.\n",
    "    2. Functions definitions include a test (``assert``)"
   ]
  },
  {
   "cell_type": "markdown",
   "id": "026a2418-c885-4bb6-9462-e28dc0d4500d",
   "metadata": {
    "id": "026a2418-c885-4bb6-9462-e28dc0d4500d"
   },
   "source": [
    "## Globals in this notebook"
   ]
  },
  {
   "cell_type": "markdown",
   "id": "2e20e4cc-463f-450a-b4ee-370c1f7b8c7b",
   "metadata": {
    "id": "2e20e4cc-463f-450a-b4ee-370c1f7b8c7b"
   },
   "source": [
    "The globals reflect training and test data for MNIST."
   ]
  },
  {
   "cell_type": "code",
   "execution_count": 23,
   "id": "2ce733fc-c0d1-4ecf-a050-86001b9dadc5",
   "metadata": {
    "colab": {
     "base_uri": "https://localhost:8080/"
    },
    "id": "2ce733fc-c0d1-4ecf-a050-86001b9dadc5",
    "outputId": "d8872520-4263-4ac8-f6fc-55c7420944c3"
   },
   "outputs": [
    {
     "data": {
      "text/plain": [
       "((2000, 784), (2000,))"
      ]
     },
     "execution_count": 23,
     "metadata": {},
     "output_type": "execute_result"
    }
   ],
   "source": [
    "np.shape(X_TESTING_MAT), np.shape(Y_TESTING_ARR)"
   ]
  },
  {
   "cell_type": "markdown",
   "id": "240b041c-e3bc-4c47-92f1-cf053dd2ba94",
   "metadata": {
    "id": "240b041c-e3bc-4c47-92f1-cf053dd2ba94"
   },
   "source": [
    "# What is a classification model?"
   ]
  },
  {
   "cell_type": "markdown",
   "id": "ebbbb3f7-6a9f-451b-8859-1f8fa018902b",
   "metadata": {
    "id": "ebbbb3f7-6a9f-451b-8859-1f8fa018902b"
   },
   "source": [
    "<img src=\"https://github.com/joseph-hellerstein/keras/raw/main/docs/easy_classification_1.png\" alt=\"drawing\" width=\"500\"/>\n",
    "\n",
    "A classification model is an algorithm that distinguishes between the labels. One approach is to draw lines.\n",
    "<img src=\"https://github.com/joseph-hellerstein/keras/raw/main/docs/easy_classification_2.png\" alt=\"drawing\" width=\"500\"/>\n",
    "\n",
    "A support vector machine (SVM) constructs a linear classifier in a potentially high dimensional space.\n",
    "\n",
    "Some problems are not amenable to linear classification, at least for the feature data provided. Here's an illustration of such a problem.\n",
    "<img src=\"https://github.com/joseph-hellerstein/keras/raw/main/docs/hard_classification.png\" alt=\"drawing\" width=\"500\"/>"
   ]
  },
  {
   "cell_type": "markdown",
   "id": "0de4a99a-34f5-40a6-99da-4c5916770664",
   "metadata": {
    "id": "0de4a99a-34f5-40a6-99da-4c5916770664"
   },
   "source": [
    "An approach that can work fairly well for not too difficult problems is to calculate average values of features for each class. The predicated class for a data item is the class whose average feature is closest.\n",
    "<img src=\"https://github.com/joseph-hellerstein/keras/raw/main/docs/averaged_sample_algorithm.png\" alt=\"drawing\" width=\"500\"/>"
   ]
  },
  {
   "cell_type": "markdown",
   "id": "7ce81671-ea8a-47a9-acf0-a245395f100c",
   "metadata": {
    "id": "7ce81671-ea8a-47a9-acf0-a245395f100c"
   },
   "source": [
    "# Model 1: Ideal Digits"
   ]
  },
  {
   "cell_type": "markdown",
   "id": "5e2d7772-1a8f-4d0f-adbb-2031f3938109",
   "metadata": {
    "id": "5e2d7772-1a8f-4d0f-adbb-2031f3938109"
   },
   "source": [
    "## Approach - Ideal Image"
   ]
  },
  {
   "cell_type": "markdown",
   "id": "41abd0d2-8f86-4fea-8a9c-62e887040161",
   "metadata": {
    "id": "41abd0d2-8f86-4fea-8a9c-62e887040161"
   },
   "source": [
    "* *Fit Algorithm*: Calculate the \"ideal\" for each class, the average value of each of the $28 \\times 28$ pixels for all images in each class.\n",
    "* *Predict Algorithm*: Choose the digit whose ideal image has the smallest distance from the test image."
   ]
  },
  {
   "cell_type": "markdown",
   "id": "db56768b-831e-48de-a549-d29a25dd24ac",
   "metadata": {
    "id": "db56768b-831e-48de-a549-d29a25dd24ac"
   },
   "source": [
    "Distance measure. Let $\\bar{p}_{ki}$ be the $i$-th pixel of the ideal image of class $k$, and let $p_{i}$ be the $i$-th pixel in a test image. The distance $d_k$ from the test image to the ideal of class $k$ is\n",
    "$$d_k = \\sum_i (p_i - \\bar{p}_{ki})^2$$.\n",
    "\n",
    "**Fit Algorithm**: Calculate $\\bar{p}_{ki}$ for all classes $k$.\n",
    "\n",
    "**Predict Algorithm**: $k^{\\star} = argmin~ d_k$"
   ]
  },
  {
   "cell_type": "markdown",
   "id": "874ec5e8-85e8-4f39-a6a0-1e3ea908252f",
   "metadata": {
    "id": "874ec5e8-85e8-4f39-a6a0-1e3ea908252f"
   },
   "source": [
    "## Fit Algorithm"
   ]
  },
  {
   "cell_type": "markdown",
   "id": "a9236f44-4c2e-444e-89d5-155cc77723b5",
   "metadata": {
    "id": "a9236f44-4c2e-444e-89d5-155cc77723b5"
   },
   "source": [
    "    for digit in digits\n",
    "        digit_ideal_image = mean of pixels for digit\n",
    "        ideal_images.append(digit_ideal_image)\n",
    "    return ideal_images"
   ]
  },
  {
   "cell_type": "code",
   "execution_count": 24,
   "id": "bb911232-a648-418b-817b-edd1c1ebca92",
   "metadata": {
    "colab": {
     "base_uri": "https://localhost:8080/"
    },
    "id": "bb911232-a648-418b-817b-edd1c1ebca92",
    "outputId": "e03a6ce9-5d23-4cf7-ee22-c0e34511a22d"
   },
   "outputs": [
    {
     "name": "stdout",
     "output_type": "stream",
     "text": [
      "OK!\n"
     ]
    }
   ],
   "source": [
    "def fitIdeal(training_count=600, num_cluster=1):\n",
    "    \"\"\"\n",
    "    Constructs ideal images and their classes.\n",
    "\n",
    "    Args:\n",
    "        training_count: int (size of the training set for a digit)\n",
    "        num_cluster: int (number of clusters in a digit training set)\n",
    "\n",
    "    Returns:\n",
    "        list-dict (key: digit, value: array of mean pixels)\n",
    "    \"\"\"\n",
    "    dcts = []\n",
    "    for digit in range(10):\n",
    "        makeDigitDirs(train_count=training_count, sub_dirs=[digit])\n",
    "        X_training, _ = makeDigitData(TRAINING)\n",
    "        if num_cluster == 1:\n",
    "            dct = {digit: np.mean(X_training[:, :], axis=0)}\n",
    "            dcts.append(dct)\n",
    "        else:\n",
    "            kmeans = KMeans(n_clusters=num_cluster, random_state=0, n_init=\"auto\").fit(X_training)\n",
    "            for cluster_center in kmeans.cluster_centers_:\n",
    "                dct = {digit: cluster_center}\n",
    "                dcts.append(dct)\n",
    "    return dcts\n",
    "\n",
    "# Tests\n",
    "dcts = fitIdeal(training_count=10)\n",
    "assert(isinstance(dcts, list))\n",
    "assert(isinstance(dcts[0], dict))\n",
    "if False:\n",
    "    displayImage(dcts)\n",
    "else:\n",
    "    print(\"OK!\")"
   ]
  },
  {
   "cell_type": "code",
   "execution_count": 25,
   "id": "eb2e0cf4-9a36-4474-8974-dc1812034141",
   "metadata": {
    "colab": {
     "base_uri": "https://localhost:8080/"
    },
    "id": "eb2e0cf4-9a36-4474-8974-dc1812034141",
    "outputId": "f46fa3f2-8bbe-4d44-e5e6-58b47ac543fd"
   },
   "outputs": [
    {
     "name": "stdout",
     "output_type": "stream",
     "text": [
      "CPU times: user 3.34 s, sys: 3.42 s, total: 6.76 s\n",
      "Wall time: 29.4 s\n"
     ]
    }
   ],
   "source": [
    "%%time\n",
    "FITTED_DCTS = fitIdeal(training_count=NUM_TRAINING)"
   ]
  },
  {
   "cell_type": "code",
   "execution_count": 26,
   "id": "f5d17811-60e8-4c5f-90b4-7410bc847a8c",
   "metadata": {
    "colab": {
     "base_uri": "https://localhost:8080/",
     "height": 641
    },
    "id": "f5d17811-60e8-4c5f-90b4-7410bc847a8c",
    "outputId": "3316da54-1a8a-466f-a14b-90ab33139c61"
   },
   "outputs": [
    {
     "data": {
      "image/png": "[encoded data removed]",
      "text/plain": [
       "<Figure size 2000x1500 with 10 Axes>"
      ]
     },
     "metadata": {},
     "output_type": "display_data"
    }
   ],
   "source": [
    "displayImage(FITTED_DCTS)"
   ]
  },
  {
   "cell_type": "markdown",
   "id": "6535a0ff-4d18-4c86-a562-5a517d2da7ce",
   "metadata": {
    "id": "6535a0ff-4d18-4c86-a562-5a517d2da7ce"
   },
   "source": [
    "The parameters in this model are the average pixels."
   ]
  },
  {
   "cell_type": "markdown",
   "id": "199d9ff8-49cd-48d6-aaeb-f01434c00211",
   "metadata": {
    "id": "199d9ff8-49cd-48d6-aaeb-f01434c00211"
   },
   "source": [
    "## Predict Algoirthm"
   ]
  },
  {
   "cell_type": "markdown",
   "id": "bbd44ed9-b91a-4236-96c3-0488ed5b53ac",
   "metadata": {
    "id": "bbd44ed9-b91a-4236-96c3-0488ed5b53ac"
   },
   "source": [
    "    for digit_ideal_image in ideal_images\n",
    "        distance[digit] = (test_image - digit_ideal_image)**2\n",
    "    return digit with the smallest distance"
   ]
  },
  {
   "cell_type": "code",
   "execution_count": 27,
   "id": "889e7e11-bfed-4914-a7ab-3591148672f5",
   "metadata": {
    "colab": {
     "base_uri": "https://localhost:8080/"
    },
    "id": "889e7e11-bfed-4914-a7ab-3591148672f5",
    "outputId": "bbfc1c61-67c4-48be-cb7d-d29e91e756d9"
   },
   "outputs": [
    {
     "name": "stdout",
     "output_type": "stream",
     "text": [
      "OK!\n"
     ]
    }
   ],
   "source": [
    "def predictIdeal(test_X_mat, dcts=FITTED_DCTS):\n",
    "    \"\"\"\n",
    "    Predicts the classes for the flattened_test_arr\n",
    "\n",
    "    Args:\n",
    "        test_X_mat: mat-int (x, 768)\n",
    "        dcts: list-dict (key: digit, value: array)\n",
    "    Returns:\n",
    "        arr-int (predictions)\n",
    "    \"\"\"\n",
    "    num_test = np.shape(test_X_mat)[0]\n",
    "    num_ideal = len(dcts)\n",
    "    # Construct the fitted data\n",
    "    digit_arr = np.array([getKey(d) for d in dcts])\n",
    "    centroid_mat = np.array([d[k] for d, k in zip(dcts, digit_arr)])\n",
    "    predictions = []\n",
    "    for test_idx in range(num_test):\n",
    "        test_arr = test_X_mat[test_idx, :]\n",
    "        distance_mat = np.subtract(centroid_mat, test_arr)\n",
    "        distance_mat = np.multiply(distance_mat, distance_mat)\n",
    "        distance_arr = np.sum(distance_mat, axis=1)\n",
    "        min_pos = distance_arr.argmin()\n",
    "        predictions.append(digit_arr[min_pos])\n",
    "    # Calculate predictions\n",
    "    return np.array(predictions)\n",
    "\n",
    "# TESTS\n",
    "matches = predictIdeal(X_TESTING_MAT) - Y_TESTING_ARR\n",
    "accuracy = np.sum([v == 0 for v in matches])/len(matches)\n",
    "assert(accuracy >= 0.8)\n",
    "print(\"OK!\")"
   ]
  },
  {
   "cell_type": "markdown",
   "id": "32a63058-fc44-4777-b6c7-1f2301f29c12",
   "metadata": {
    "id": "32a63058-fc44-4777-b6c7-1f2301f29c12"
   },
   "source": [
    "# Evaluating Model Quality"
   ]
  },
  {
   "cell_type": "markdown",
   "id": "e3b3a6db-c4d8-4569-a39d-76c9f675715e",
   "metadata": {
    "id": "e3b3a6db-c4d8-4569-a39d-76c9f675715e"
   },
   "source": [
    "## Accuracy"
   ]
  },
  {
   "cell_type": "markdown",
   "id": "60b6d152-ae71-4ed3-8813-99c0a1698961",
   "metadata": {
    "id": "60b6d152-ae71-4ed3-8813-99c0a1698961"
   },
   "source": [
    "Accuracy is the fraction of the test data for which the predicted label is the actual label. This is useful for \"one shot\" classification."
   ]
  },
  {
   "cell_type": "code",
   "execution_count": 28,
   "id": "46283e59-baa9-45fa-a55b-a1cf39ce6ee1",
   "metadata": {
    "colab": {
     "base_uri": "https://localhost:8080/"
    },
    "id": "46283e59-baa9-45fa-a55b-a1cf39ce6ee1",
    "outputId": "a3ab1eda-c883-4010-98d9-f204c9b19fb8"
   },
   "outputs": [
    {
     "name": "stdout",
     "output_type": "stream",
     "text": [
      "OK!\n"
     ]
    }
   ],
   "source": [
    "# Calculate Accuracy\n",
    "def calculateAccuracy(actual_labels, pred_labels):\n",
    "    \"\"\"\n",
    "    Calculates the accuracy of a classifier.\n",
    "\n",
    "    Args:\n",
    "        actual_labels: np.ndarray (correct labels)\n",
    "        pred_labels: np.ndarray (predicted labels)\n",
    "    Returns:\n",
    "        float: accuracy\n",
    "    \"\"\"\n",
    "    return np.sum(actual_labels == pred_labels)/len(actual_labels)\n",
    "\n",
    "# Tests\n",
    "pred_labels = predictIdeal(X_TESTING_MAT)\n",
    "actual_labels = Y_TESTING_ARR\n",
    "accuracy = calculateAccuracy(actual_labels, pred_labels)\n",
    "assert(isinstance(accuracy, float))\n",
    "print(\"OK!\")"
   ]
  },
  {
   "cell_type": "code",
   "execution_count": 29,
   "id": "85719595-14cb-4927-8bcd-63e64b588426",
   "metadata": {
    "colab": {
     "base_uri": "https://localhost:8080/"
    },
    "id": "85719595-14cb-4927-8bcd-63e64b588426",
    "outputId": "ffd5700a-2d14-4ca1-f6bf-f643516348fc"
   },
   "outputs": [
    {
     "name": "stdout",
     "output_type": "stream",
     "text": [
      "Accuracy is 0.816000\n"
     ]
    }
   ],
   "source": [
    "print(\"Accuracy is %f\" % calculateAccuracy(Y_TESTING_ARR, predictIdeal(X_TESTING_MAT)))"
   ]
  },
  {
   "cell_type": "markdown",
   "id": "e0875273-71b7-42b1-a4dc-78a02cc07f0b",
   "metadata": {
    "id": "e0875273-71b7-42b1-a4dc-78a02cc07f0b"
   },
   "source": [
    "## Precision and Recall"
   ]
  },
  {
   "cell_type": "markdown",
   "id": "6de7e4fa-69c1-4dfc-b311-3dcb4932a756",
   "metadata": {
    "id": "6de7e4fa-69c1-4dfc-b311-3dcb4932a756"
   },
   "source": [
    "For retrieval tasks, we are doing classification of many data items. An example of this is an Internet search for web pages with desired phrases or synonyms for these terms. This is a binary classification. That is, web pages are classified as either relevant or irrelevant to the query. We refer to the former as *positive (pos)* and the latter as *negative (neg)*.\n",
    "\n",
    "The query algorithm uses the predict algorithm as follows:\n",
    "\n",
    "    for data_item in data:\n",
    "        if predict(data_item) in desired class\n",
    "            output the data_item"
   ]
  },
  {
   "cell_type": "markdown",
   "id": "3b574099-f9c8-4116-ab05-de6bf27c12ce",
   "metadata": {
    "id": "3b574099-f9c8-4116-ab05-de6bf27c12ce"
   },
   "source": [
    "Because the foregoing operates on a batch of samples, we have slightly different metrics than the \"single shot\" scenario.\n",
    "          \n",
    "* **Precision**: What fraction of the output data are *true* members of the desired class\n",
    "* **Recall**: What fraction of all data in the true class are in the output data"
   ]
  },
  {
   "cell_type": "markdown",
   "id": "ada8facf-bcf1-4e01-80d7-8d1c5b5e6de3",
   "metadata": {
    "id": "ada8facf-bcf1-4e01-80d7-8d1c5b5e6de3"
   },
   "source": [
    "**Query: Find all zeros in this corpus.**\n",
    "\n",
    "<img src=\"https://upload.wikimedia.org/wikipedia/commons/f/f7/MnistExamplesModified.png\" alt=\"drawing\" width=\"400\"/>"
   ]
  },
  {
   "cell_type": "markdown",
   "id": "crGeCxNS2UI5",
   "metadata": {
    "id": "crGeCxNS2UI5"
   },
   "source": [
    "The following is a toy example."
   ]
  },
  {
   "cell_type": "markdown",
   "id": "9f1ae096-55e0-4883-8a87-1d73f5e738d6",
   "metadata": {
    "id": "9f1ae096-55e0-4883-8a87-1d73f5e738d6"
   },
   "source": [
    "<img src=\"https://github.com/joseph-hellerstein/keras/raw/main/docs/query.png\" alt=\"drawing\" width=\"800\"/>"
   ]
  },
  {
   "cell_type": "markdown",
   "id": "8ff65660-0d23-4602-9fee-e26dce9c4a7c",
   "metadata": {
    "id": "8ff65660-0d23-4602-9fee-e26dce9c4a7c"
   },
   "source": [
    "* **True positive** The actual label is \"pos\", and \"pos\" is predicted.\n",
    "* **False positive** The actual label is \"neg\", but \"pos\" is predicted.\n",
    "* **False negative** The actual label is \"pos\", but \"neg\" is predicted.\n",
    "* **False positive** (negative). The actual label is \"neg\", and \"neg\" is predicted."
   ]
  },
  {
   "cell_type": "markdown",
   "id": "be132f50-bd70-4b0f-8814-339252bb172d",
   "metadata": {
    "id": "be132f50-bd70-4b0f-8814-339252bb172d"
   },
   "source": [
    "<img src=\"https://github.com/joseph-hellerstein/keras/raw/main/docs/table.png\" alt=\"drawing\" width=\"800\"/>"
   ]
  },
  {
   "cell_type": "markdown",
   "id": "czSdBsx32pJH",
   "metadata": {
    "id": "czSdBsx32pJH"
   },
   "source": [
    "What do we care about the most? TP? TN? FP? FN?"
   ]
  },
  {
   "cell_type": "code",
   "execution_count": 30,
   "id": "d6dbba32-ea2c-47cc-a14d-3eaf21dfc442",
   "metadata": {
    "colab": {
     "base_uri": "https://localhost:8080/"
    },
    "id": "d6dbba32-ea2c-47cc-a14d-3eaf21dfc442",
    "outputId": "6b6e87ff-f989-45bc-ebf3-4f91a55799d7"
   },
   "outputs": [
    {
     "name": "stdout",
     "output_type": "stream",
     "text": [
      "OK!\n"
     ]
    }
   ],
   "source": [
    "def calculatePrecisionRecall(label, actual_arr, pred_arr):\n",
    "    \"\"\"\n",
    "    Calculates precision for the digit, the fraction of true positives.\n",
    "\n",
    "    Args:\n",
    "        label: int (label for which a query is done)\n",
    "        actual_arr: np.array-int (correct labels)\n",
    "        pred_arr: np.ndarray-int (predicted labels)\n",
    "    Returns:\n",
    "        float: precision\n",
    "        float: recall\n",
    "    \"\"\"\n",
    "    # Initial statistics (columns and rows of the above table)\n",
    "    actual_positives = actual_arr == label  # Array of booleans\n",
    "    actual_negatives = actual_arr != label\n",
    "    pred_positives = pred_arr == label\n",
    "    pred_negatives = pred_arr != label\n",
    "    # Calculate cells of the table\n",
    "    tp = np.sum(np.logical_and(actual_positives, pred_positives))\n",
    "    fp = np.sum(np.logical_and(actual_negatives, pred_positives))\n",
    "    fn = np.sum(np.logical_and(actual_positives, pred_negatives))\n",
    "    tn = np.sum(np.logical_and(actual_negatives, pred_negatives))\n",
    "    # Calculate metrics\n",
    "    precision = tp/(tp + fp)\n",
    "    recall = tp/(tp + fn)\n",
    "    return precision, recall\n",
    "\n",
    "# Tests\n",
    "pred_arr = predictIdeal(X_TESTING_MAT)\n",
    "actual_arr = Y_TESTING_ARR\n",
    "precision, recall = calculatePrecisionRecall(1, actual_arr, pred_arr)\n",
    "for value in [precision, recall]:\n",
    "    assert(isinstance(value, float))\n",
    "print(\"OK!\")"
   ]
  },
  {
   "cell_type": "code",
   "execution_count": 31,
   "id": "ef8162ae-02f9-4778-a05e-13fbd37001e1",
   "metadata": {
    "colab": {
     "base_uri": "https://localhost:8080/"
    },
    "id": "ef8162ae-02f9-4778-a05e-13fbd37001e1",
    "outputId": "fedfd563-9e94-47e9-86e6-872c0a63201a"
   },
   "outputs": [
    {
     "name": "stdout",
     "output_type": "stream",
     "text": [
      "0: precision=0.917526 recall=0.890000\n",
      "1: precision=0.759843 recall=0.965000\n",
      "2: precision=0.899408 recall=0.760000\n",
      "3: precision=0.764151 recall=0.810000\n",
      "4: precision=0.786408 recall=0.810000\n",
      "5: precision=0.768817 recall=0.715000\n",
      "6: precision=0.874346 recall=0.835000\n",
      "7: precision=0.895288 recall=0.855000\n",
      "8: precision=0.746114 recall=0.720000\n",
      "9: precision=0.784314 recall=0.800000\n"
     ]
    }
   ],
   "source": [
    "for digit in range(10):\n",
    "    precision, recall = calculatePrecisionRecall(digit, actual_arr, pred_arr)\n",
    "    print(\"%d: precision=%f recall=%f\" % (digit, precision, recall))"
   ]
  },
  {
   "cell_type": "markdown",
   "id": "f920649e-779c-4a0c-a6df-331f907e405b",
   "metadata": {
    "id": "f920649e-779c-4a0c-a6df-331f907e405b"
   },
   "source": [
    "### F1 score"
   ]
  },
  {
   "cell_type": "markdown",
   "id": "d50df32d-ef63-4527-b14c-a6db0e80013f",
   "metadata": {
    "id": "d50df32d-ef63-4527-b14c-a6db0e80013f"
   },
   "source": [
    "The F1-score combines precision and recall to produce a single number by calculating the harmonic mean of precision and recall.\n",
    "\n",
    "$$ F1 = [(1/precision + 1/recall)/2]^{-1}$$"
   ]
  },
  {
   "cell_type": "markdown",
   "id": "df9a57ba-434d-4ac0-a787-3d84a03e09a9",
   "metadata": {
    "id": "df9a57ba-434d-4ac0-a787-3d84a03e09a9"
   },
   "source": [
    "## Confusion Matrix"
   ]
  },
  {
   "cell_type": "markdown",
   "id": "f2048da8-6832-4ff5-9626-40c96262e698",
   "metadata": {
    "id": "f2048da8-6832-4ff5-9626-40c96262e698"
   },
   "source": [
    "### Background and definitions"
   ]
  },
  {
   "cell_type": "markdown",
   "id": "17427a90-0f39-4635-9e0a-22f4afab3b67",
   "metadata": {
    "id": "17427a90-0f39-4635-9e0a-22f4afab3b67"
   },
   "source": [
    "The confusion matrix provides a general way to analyze the quality of a classifier for multiple classification problems. You can easily calculate accuracy, precision, and recall from the confusion matrix."
   ]
  },
  {
   "cell_type": "markdown",
   "id": "328e9693-c7d6-46b1-a24c-3f9d99449518",
   "metadata": {
    "id": "328e9693-c7d6-46b1-a24c-3f9d99449518"
   },
   "source": [
    "As with precision and recall, we are looking for discrepancies between the true value of a label and its predicted value. Again, this is presented as a table; the columns are true labels, and the rows are predicted labels. However, since we have more than two labels, we have more than two rows and columns. Entries in the table can be the number of data items that have a particular combination of true label and predicted label. I often find it more convenient to use the *fraction* of data items."
   ]
  },
  {
   "cell_type": "code",
   "execution_count": 32,
   "id": "6a54cc06-9e48-40e3-9fd0-51a215d5a427",
   "metadata": {
    "colab": {
     "base_uri": "https://localhost:8080/",
     "height": 507
    },
    "id": "6a54cc06-9e48-40e3-9fd0-51a215d5a427",
    "outputId": "4c48ea5a-3915-40c2-c6e0-2c17ac174b69"
   },
   "outputs": [
    {
     "data": {
      "image/png": "[encoded data removed]",
      "text/plain": [
       "<Figure size 640x480 with 2 Axes>"
      ]
     },
     "metadata": {},
     "output_type": "display_data"
    },
    {
     "name": "stdout",
     "output_type": "stream",
     "text": [
      "CPU times: user 353 ms, sys: 9.54 ms, total: 363 ms\n",
      "Wall time: 152 ms\n"
     ]
    }
   ],
   "source": [
    "%%time\n",
    "y_pred_arr = predictIdeal(X_TESTING_MAT, dcts=FITTED_DCTS)\n",
    "plotConfusionMatrix(Y_TESTING_ARR, y_pred_arr)"
   ]
  },
  {
   "cell_type": "markdown",
   "id": "5cnWRXGO91iv",
   "metadata": {
    "id": "5cnWRXGO91iv"
   },
   "source": [
    "The maximum value of a diagnonal entry is 0.1 since all digits have the same fraction of actual labels in the test data. This is called a **balanced dataset**."
   ]
  },
  {
   "cell_type": "markdown",
   "id": "da7cbe2e-8528-42a3-9dd3-7207e05a18b0",
   "metadata": {
    "id": "da7cbe2e-8528-42a3-9dd3-7207e05a18b0"
   },
   "source": [
    "### Deriving accuracy, precision, recall from the confusion matrix"
   ]
  },
  {
   "cell_type": "markdown",
   "id": "e2036001-8d83-429b-8520-bbf288f48505",
   "metadata": {
    "id": "e2036001-8d83-429b-8520-bbf288f48505"
   },
   "source": [
    "Accuracy is the sum of the diagnonal.\n",
    "\n",
    "The precision for label $k$ is the value at $(k,k)$ divided by all values row $k$.\n",
    "\n",
    "The recall for label $k$ is the value at $(k, k)$ divided by all values in column $k$."
   ]
  },
  {
   "cell_type": "markdown",
   "id": "ebaa9d83-fb59-4fc5-84be-7ac76925e906",
   "metadata": {
    "id": "ebaa9d83-fb59-4fc5-84be-7ac76925e906"
   },
   "source": [
    "**Questions**\n",
    "1. Calculate the recall for \"1\" using the data in the table and compare it with ``calculatePrecisionRecall``. (Entries in the table are rounded.)\n",
    "2. Which of the following digits have the largest precision: 0, 1, 5? Which has the smallest?"
   ]
  },
  {
   "cell_type": "markdown",
   "id": "d9ab9584-55d3-4ca3-95b3-c814f3655d36",
   "metadata": {
    "id": "d9ab9584-55d3-4ca3-95b3-c814f3655d36"
   },
   "source": [
    "# Evaluating Model Complexity"
   ]
  },
  {
   "cell_type": "markdown",
   "id": "2e0e4a94-c658-48ce-9029-bdb4d22b077a",
   "metadata": {
    "id": "2e0e4a94-c658-48ce-9029-bdb4d22b077a"
   },
   "source": [
    "Complexity is often connected with **understanding**. Do we understand how the model works with sufficient detail so that we can improve it and understand its limitations? This is largely a subjective analysis.\n",
    "\n",
    "A second perspective on complexity is quantitative: **the number of parameters in the model**. Since all empirical models have parameters that must be estimated, a model with more parameters is typically considered more complex. The implications here are more than subjective. Having more parameters means that we must have more data to be able to estimate the parameters. It often means that there are efficiency considerations as well in terms of estimating the parameters with sufficient accuracy."
   ]
  },
  {
   "cell_type": "markdown",
   "id": "9c9fd8fc-ce9a-4011-9e1e-2d8e3ceeba2a",
   "metadata": {
    "id": "9c9fd8fc-ce9a-4011-9e1e-2d8e3ceeba2a"
   },
   "source": [
    "Let's evaluate the complexity of the ideal image model. Do we understand how the model works, its limitations, and how to improve it?\n",
    "  1. The model is represented by the \"average images\" for each digit.\n",
    "  2. It works well if: (a) digits are written like their \"averages\" and (b) \"average images\" are sufficiently different from one another."
   ]
  },
  {
   "cell_type": "markdown",
   "id": "38206993-5897-4ddc-9781-120c6c4b1cf1",
   "metadata": {
    "id": "38206993-5897-4ddc-9781-120c6c4b1cf1"
   },
   "source": [
    "The number of parameters in the model is the number of ideal images times the number of pixels in an image. There are 10 ideal images and $28 \\times 28 = 784$ pixels in each image. So, there are a total of 7,640 parameters."
   ]
  },
  {
   "cell_type": "markdown",
   "id": "UP3wtinSA_zt",
   "metadata": {
    "id": "UP3wtinSA_zt"
   },
   "source": [
    "**Need models that have *meaning in our domain* so that we know when the model can be used.**\n",
    "\n",
    "**Intellectual debt.** A model that makes great predictions but we don't understand why."
   ]
  },
  {
   "cell_type": "markdown",
   "id": "dc80d81f-e2a4-4e74-80b6-f758290a66d4",
   "metadata": {
    "id": "dc80d81f-e2a4-4e74-80b6-f758290a66d4"
   },
   "source": [
    "# Evaluating Computational Efficiency"
   ]
  },
  {
   "cell_type": "markdown",
   "id": "5b187a95-ffd3-442d-a2ec-cbe000748a7a",
   "metadata": {
    "id": "5b187a95-ffd3-442d-a2ec-cbe000748a7a"
   },
   "source": [
    "Simple benchmark\n",
    "* Fit the model\n",
    "* Calculate the confusion matrix for X_TESTING_MAT\n",
    "* Report: number of parameters (1000s), time (seconds), accuracy"
   ]
  },
  {
   "cell_type": "code",
   "execution_count": 33,
   "id": "a736a54f-f136-4dde-88ef-65c988529b61",
   "metadata": {
    "colab": {
     "base_uri": "https://localhost:8080/",
     "height": 507
    },
    "id": "a736a54f-f136-4dde-88ef-65c988529b61",
    "outputId": "be575325-a2b7-4d4e-837f-0f64b4241abd"
   },
   "outputs": [
    {
     "data": {
      "image/png": "[encoded data removed]",
      "text/plain": [
       "<Figure size 640x480 with 2 Axes>"
      ]
     },
     "metadata": {},
     "output_type": "display_data"
    },
    {
     "name": "stdout",
     "output_type": "stream",
     "text": [
      "CPU times: user 3.48 s, sys: 3.12 s, total: 6.6 s\n",
      "Wall time: 25.3 s\n"
     ]
    }
   ],
   "source": [
    "%%time\n",
    "fitted_dcts = fitIdeal(training_count=NUM_TRAINING)\n",
    "y_pred_arr = predictIdeal(X_TESTING_MAT, dcts=fitted_dcts)\n",
    "plotConfusionMatrix(Y_TESTING_ARR, y_pred_arr)"
   ]
  },
  {
   "cell_type": "markdown",
   "id": "Zso11VvJnnUP",
   "metadata": {
    "id": "Zso11VvJnnUP"
   },
   "source": [
    "# **Model Competition**"
   ]
  },
  {
   "cell_type": "markdown",
   "id": "9klZ13e9ns6C",
   "metadata": {
    "id": "9klZ13e9ns6C"
   },
   "source": [
    "[Graphical comparison of models.](https://docs.google.com/spreadsheets/d/11LoDehwI2uNwiH2bBsVB6zBenTEAn18cOzrQztKrm3s/edit#gid=0)"
   ]
  },
  {
   "cell_type": "markdown",
   "id": "613c2a7b-2aa5-46b5-b590-360458c38cf5",
   "metadata": {
    "id": "613c2a7b-2aa5-46b5-b590-360458c38cf5"
   },
   "source": [
    "# Model 2: Neural Network"
   ]
  },
  {
   "cell_type": "markdown",
   "id": "3febd8db-0aa6-4ee2-b1e7-8934117b29b9",
   "metadata": {
    "id": "3febd8db-0aa6-4ee2-b1e7-8934117b29b9"
   },
   "source": [
    "## Model"
   ]
  },
  {
   "cell_type": "markdown",
   "id": "5e0fadd5-fbee-4eaa-837c-ca7601d67702",
   "metadata": {
    "id": "5e0fadd5-fbee-4eaa-837c-ca7601d67702"
   },
   "source": [
    "<img src=\"https://github.com/joseph-hellerstein/keras/raw/main/docs/neural_network.png\" alt=\"drawing\" width=\"800\"/>"
   ]
  },
  {
   "cell_type": "code",
   "execution_count": 34,
   "id": "939fb826-84ba-46e4-9b42-a7de201053e0",
   "metadata": {
    "colab": {
     "base_uri": "https://localhost:8080/",
     "height": 1000
    },
    "id": "939fb826-84ba-46e4-9b42-a7de201053e0",
    "outputId": "2c227ef9-8309-49bd-e307-5157b7cbdc42"
   },
   "outputs": [
    {
     "name": "stdout",
     "output_type": "stream",
     "text": [
      "***Preparing the data. This can take 30 secs for so.\n",
      "***Making in-memory test and training data.\n",
      "***Constructing the model.\n"
     ]
    },
    {
     "data": {
      "text/html": [
       "<pre style=\"white-space:pre;overflow-x:auto;line-height:normal;font-family:Menlo,'DejaVu Sans Mono',consolas,'Courier New',monospace\"><span style=\"font-weight: bold\">Model: \"sequential_2\"</span>\n",
       "</pre>\n"
      ],
      "text/plain": [
       "\u001b[1mModel: \"sequential_2\"\u001b[0m\n"
      ]
     },
     "metadata": {},
     "output_type": "display_data"
    },
    {
     "data": {
      "text/html": [
       "<pre style=\"white-space:pre;overflow-x:auto;line-height:normal;font-family:Menlo,'DejaVu Sans Mono',consolas,'Courier New',monospace\">┏━━━━━━━━━━━━━━━━━━━━━━━━━━━━━━━━━┳━━━━━━━━━━━━━━━━━━━━━━━━┳━━━━━━━━━━━━━━━┓\n",
       "┃<span style=\"font-weight: bold\"> Layer (type)                    </span>┃<span style=\"font-weight: bold\"> Output Shape           </span>┃<span style=\"font-weight: bold\">       Param # </span>┃\n",
       "┡━━━━━━━━━━━━━━━━━━━━━━━━━━━━━━━━━╇━━━━━━━━━━━━━━━━━━━━━━━━╇━━━━━━━━━━━━━━━┩\n",
       "│ dense_6 (<span style=\"color: #0087ff; text-decoration-color: #0087ff\">Dense</span>)                 │ (<span style=\"color: #00d7ff; text-decoration-color: #00d7ff\">None</span>, <span style=\"color: #00af00; text-decoration-color: #00af00\">32</span>)             │        <span style=\"color: #00af00; text-decoration-color: #00af00\">25,120</span> │\n",
       "├─────────────────────────────────┼────────────────────────┼───────────────┤\n",
       "│ dense_7 (<span style=\"color: #0087ff; text-decoration-color: #0087ff\">Dense</span>)                 │ (<span style=\"color: #00d7ff; text-decoration-color: #00d7ff\">None</span>, <span style=\"color: #00af00; text-decoration-color: #00af00\">32</span>)             │         <span style=\"color: #00af00; text-decoration-color: #00af00\">1,056</span> │\n",
       "├─────────────────────────────────┼────────────────────────┼───────────────┤\n",
       "│ dense_8 (<span style=\"color: #0087ff; text-decoration-color: #0087ff\">Dense</span>)                 │ (<span style=\"color: #00d7ff; text-decoration-color: #00d7ff\">None</span>, <span style=\"color: #00af00; text-decoration-color: #00af00\">10</span>)             │           <span style=\"color: #00af00; text-decoration-color: #00af00\">330</span> │\n",
       "└─────────────────────────────────┴────────────────────────┴───────────────┘\n",
       "</pre>\n"
      ],
      "text/plain": [
       "┏━━━━━━━━━━━━━━━━━━━━━━━━━━━━━━━━━┳━━━━━━━━━━━━━━━━━━━━━━━━┳━━━━━━━━━━━━━━━┓\n",
       "┃\u001b[1m \u001b[0m\u001b[1mLayer (type)                   \u001b[0m\u001b[1m \u001b[0m┃\u001b[1m \u001b[0m\u001b[1mOutput Shape          \u001b[0m\u001b[1m \u001b[0m┃\u001b[1m \u001b[0m\u001b[1m      Param #\u001b[0m\u001b[1m \u001b[0m┃\n",
       "┡━━━━━━━━━━━━━━━━━━━━━━━━━━━━━━━━━╇━━━━━━━━━━━━━━━━━━━━━━━━╇━━━━━━━━━━━━━━━┩\n",
       "│ dense_6 (\u001b[38;5;33mDense\u001b[0m)                 │ (\u001b[38;5;45mNone\u001b[0m, \u001b[38;5;34m32\u001b[0m)             │        \u001b[38;5;34m25,120\u001b[0m │\n",
       "├─────────────────────────────────┼────────────────────────┼───────────────┤\n",
       "│ dense_7 (\u001b[38;5;33mDense\u001b[0m)                 │ (\u001b[38;5;45mNone\u001b[0m, \u001b[38;5;34m32\u001b[0m)             │         \u001b[38;5;34m1,056\u001b[0m │\n",
       "├─────────────────────────────────┼────────────────────────┼───────────────┤\n",
       "│ dense_8 (\u001b[38;5;33mDense\u001b[0m)                 │ (\u001b[38;5;45mNone\u001b[0m, \u001b[38;5;34m10\u001b[0m)             │           \u001b[38;5;34m330\u001b[0m │\n",
       "└─────────────────────────────────┴────────────────────────┴───────────────┘\n"
      ]
     },
     "metadata": {},
     "output_type": "display_data"
    },
    {
     "data": {
      "text/html": [
       "<pre style=\"white-space:pre;overflow-x:auto;line-height:normal;font-family:Menlo,'DejaVu Sans Mono',consolas,'Courier New',monospace\"><span style=\"font-weight: bold\"> Total params: </span><span style=\"color: #00af00; text-decoration-color: #00af00\">26,506</span> (103.54 KB)\n",
       "</pre>\n"
      ],
      "text/plain": [
       "\u001b[1m Total params: \u001b[0m\u001b[38;5;34m26,506\u001b[0m (103.54 KB)\n"
      ]
     },
     "metadata": {},
     "output_type": "display_data"
    },
    {
     "data": {
      "text/html": [
       "<pre style=\"white-space:pre;overflow-x:auto;line-height:normal;font-family:Menlo,'DejaVu Sans Mono',consolas,'Courier New',monospace\"><span style=\"font-weight: bold\"> Trainable params: </span><span style=\"color: #00af00; text-decoration-color: #00af00\">26,506</span> (103.54 KB)\n",
       "</pre>\n"
      ],
      "text/plain": [
       "\u001b[1m Trainable params: \u001b[0m\u001b[38;5;34m26,506\u001b[0m (103.54 KB)\n"
      ]
     },
     "metadata": {},
     "output_type": "display_data"
    },
    {
     "data": {
      "text/html": [
       "<pre style=\"white-space:pre;overflow-x:auto;line-height:normal;font-family:Menlo,'DejaVu Sans Mono',consolas,'Courier New',monospace\"><span style=\"font-weight: bold\"> Non-trainable params: </span><span style=\"color: #00af00; text-decoration-color: #00af00\">0</span> (0.00 B)\n",
       "</pre>\n"
      ],
      "text/plain": [
       "\u001b[1m Non-trainable params: \u001b[0m\u001b[38;5;34m0\u001b[0m (0.00 B)\n"
      ]
     },
     "metadata": {},
     "output_type": "display_data"
    },
    {
     "name": "stdout",
     "output_type": "stream",
     "text": [
      "***Training the model.\n",
      "Epoch 1/50\n",
      "\u001b[1m157/157\u001b[0m \u001b[32m━━━━━━━━━━━━━━━━━━━━\u001b[0m\u001b[37m\u001b[0m \u001b[1m0s\u001b[0m 1ms/step - accuracy: 0.2932 - loss: 11.1332\n",
      "Epoch 2/50\n",
      "\u001b[1m157/157\u001b[0m \u001b[32m━━━━━━━━━━━━━━━━━━━━\u001b[0m\u001b[37m\u001b[0m \u001b[1m0s\u001b[0m 1ms/step - accuracy: 0.5208 - loss: 7.5071\n",
      "Epoch 3/50\n",
      "\u001b[1m157/157\u001b[0m \u001b[32m━━━━━━━━━━━━━━━━━━━━\u001b[0m\u001b[37m\u001b[0m \u001b[1m0s\u001b[0m 1ms/step - accuracy: 0.5543 - loss: 7.0714\n",
      "Epoch 4/50\n",
      "\u001b[1m157/157\u001b[0m \u001b[32m━━━━━━━━━━━━━━━━━━━━\u001b[0m\u001b[37m\u001b[0m \u001b[1m0s\u001b[0m 1ms/step - accuracy: 0.5651 - loss: 6.9316\n",
      "Epoch 5/50\n",
      "\u001b[1m157/157\u001b[0m \u001b[32m━━━━━━━━━━━━━━━━━━━━\u001b[0m\u001b[37m\u001b[0m \u001b[1m0s\u001b[0m 2ms/step - accuracy: 0.5635 - loss: 6.9524\n",
      "Epoch 6/50\n",
      "\u001b[1m157/157\u001b[0m \u001b[32m━━━━━━━━━━━━━━━━━━━━\u001b[0m\u001b[37m\u001b[0m \u001b[1m0s\u001b[0m 1ms/step - accuracy: 0.5814 - loss: 6.6893\n",
      "Epoch 7/50\n",
      "\u001b[1m157/157\u001b[0m \u001b[32m━━━━━━━━━━━━━━━━━━━━\u001b[0m\u001b[37m\u001b[0m \u001b[1m0s\u001b[0m 1ms/step - accuracy: 0.5978 - loss: 6.3349\n",
      "Epoch 8/50\n",
      "\u001b[1m157/157\u001b[0m \u001b[32m━━━━━━━━━━━━━━━━━━━━\u001b[0m\u001b[37m\u001b[0m \u001b[1m0s\u001b[0m 1ms/step - accuracy: 0.6421 - loss: 5.6767\n",
      "Epoch 9/50\n",
      "\u001b[1m157/157\u001b[0m \u001b[32m━━━━━━━━━━━━━━━━━━━━\u001b[0m\u001b[37m\u001b[0m \u001b[1m0s\u001b[0m 1ms/step - accuracy: 0.6492 - loss: 5.5629\n",
      "Epoch 10/50\n",
      "\u001b[1m157/157\u001b[0m \u001b[32m━━━━━━━━━━━━━━━━━━━━\u001b[0m\u001b[37m\u001b[0m \u001b[1m0s\u001b[0m 1ms/step - accuracy: 0.6456 - loss: 5.6479\n",
      "Epoch 11/50\n",
      "\u001b[1m157/157\u001b[0m \u001b[32m━━━━━━━━━━━━━━━━━━━━\u001b[0m\u001b[37m\u001b[0m \u001b[1m0s\u001b[0m 1ms/step - accuracy: 0.6621 - loss: 5.3847\n",
      "Epoch 12/50\n",
      "\u001b[1m157/157\u001b[0m \u001b[32m━━━━━━━━━━━━━━━━━━━━\u001b[0m\u001b[37m\u001b[0m \u001b[1m0s\u001b[0m 1ms/step - accuracy: 0.6568 - loss: 5.4363\n",
      "Epoch 13/50\n",
      "\u001b[1m157/157\u001b[0m \u001b[32m━━━━━━━━━━━━━━━━━━━━\u001b[0m\u001b[37m\u001b[0m \u001b[1m0s\u001b[0m 1ms/step - accuracy: 0.6592 - loss: 5.4309\n",
      "Epoch 14/50\n",
      "\u001b[1m157/157\u001b[0m \u001b[32m━━━━━━━━━━━━━━━━━━━━\u001b[0m\u001b[37m\u001b[0m \u001b[1m0s\u001b[0m 1ms/step - accuracy: 0.6623 - loss: 5.3967\n",
      "Epoch 15/50\n",
      "\u001b[1m157/157\u001b[0m \u001b[32m━━━━━━━━━━━━━━━━━━━━\u001b[0m\u001b[37m\u001b[0m \u001b[1m0s\u001b[0m 1ms/step - accuracy: 0.6661 - loss: 5.3189\n",
      "Epoch 16/50\n",
      "\u001b[1m157/157\u001b[0m \u001b[32m━━━━━━━━━━━━━━━━━━━━\u001b[0m\u001b[37m\u001b[0m \u001b[1m0s\u001b[0m 1ms/step - accuracy: 0.6716 - loss: 5.2486\n",
      "Epoch 17/50\n",
      "\u001b[1m157/157\u001b[0m \u001b[32m━━━━━━━━━━━━━━━━━━━━\u001b[0m\u001b[37m\u001b[0m \u001b[1m0s\u001b[0m 1ms/step - accuracy: 0.6723 - loss: 5.2436\n",
      "Epoch 18/50\n",
      "\u001b[1m157/157\u001b[0m \u001b[32m━━━━━━━━━━━━━━━━━━━━\u001b[0m\u001b[37m\u001b[0m \u001b[1m0s\u001b[0m 1ms/step - accuracy: 0.6695 - loss: 5.2675\n",
      "Epoch 19/50\n",
      "\u001b[1m157/157\u001b[0m \u001b[32m━━━━━━━━━━━━━━━━━━━━\u001b[0m\u001b[37m\u001b[0m \u001b[1m0s\u001b[0m 1ms/step - accuracy: 0.6642 - loss: 5.3566\n",
      "Epoch 20/50\n",
      "\u001b[1m157/157\u001b[0m \u001b[32m━━━━━━━━━━━━━━━━━━━━\u001b[0m\u001b[37m\u001b[0m \u001b[1m0s\u001b[0m 1ms/step - accuracy: 0.6702 - loss: 5.2732\n",
      "Epoch 21/50\n",
      "\u001b[1m157/157\u001b[0m \u001b[32m━━━━━━━━━━━━━━━━━━━━\u001b[0m\u001b[37m\u001b[0m \u001b[1m0s\u001b[0m 1ms/step - accuracy: 0.6796 - loss: 5.1343\n",
      "Epoch 22/50\n",
      "\u001b[1m157/157\u001b[0m \u001b[32m━━━━━━━━━━━━━━━━━━━━\u001b[0m\u001b[37m\u001b[0m \u001b[1m0s\u001b[0m 1ms/step - accuracy: 0.6692 - loss: 5.2655\n",
      "Epoch 23/50\n",
      "\u001b[1m157/157\u001b[0m \u001b[32m━━━━━━━━━━━━━━━━━━━━\u001b[0m\u001b[37m\u001b[0m \u001b[1m0s\u001b[0m 1ms/step - accuracy: 0.7290 - loss: 4.2624\n",
      "Epoch 24/50\n",
      "\u001b[1m157/157\u001b[0m \u001b[32m━━━━━━━━━━━━━━━━━━━━\u001b[0m\u001b[37m\u001b[0m \u001b[1m0s\u001b[0m 1ms/step - accuracy: 0.7452 - loss: 4.0506\n",
      "Epoch 25/50\n",
      "\u001b[1m157/157\u001b[0m \u001b[32m━━━━━━━━━━━━━━━━━━━━\u001b[0m\u001b[37m\u001b[0m \u001b[1m0s\u001b[0m 1ms/step - accuracy: 0.7539 - loss: 3.8915\n",
      "Epoch 26/50\n",
      "\u001b[1m157/157\u001b[0m \u001b[32m━━━━━━━━━━━━━━━━━━━━\u001b[0m\u001b[37m\u001b[0m \u001b[1m0s\u001b[0m 1ms/step - accuracy: 0.7553 - loss: 3.9002\n",
      "Epoch 27/50\n",
      "\u001b[1m157/157\u001b[0m \u001b[32m━━━━━━━━━━━━━━━━━━━━\u001b[0m\u001b[37m\u001b[0m \u001b[1m0s\u001b[0m 1ms/step - accuracy: 0.7523 - loss: 3.9144\n",
      "Epoch 28/50\n",
      "\u001b[1m157/157\u001b[0m \u001b[32m━━━━━━━━━━━━━━━━━━━━\u001b[0m\u001b[37m\u001b[0m \u001b[1m0s\u001b[0m 1ms/step - accuracy: 0.7562 - loss: 3.8745\n",
      "Epoch 29/50\n",
      "\u001b[1m157/157\u001b[0m \u001b[32m━━━━━━━━━━━━━━━━━━━━\u001b[0m\u001b[37m\u001b[0m \u001b[1m0s\u001b[0m 1ms/step - accuracy: 0.7630 - loss: 3.7633\n",
      "Epoch 30/50\n",
      "\u001b[1m157/157\u001b[0m \u001b[32m━━━━━━━━━━━━━━━━━━━━\u001b[0m\u001b[37m\u001b[0m \u001b[1m0s\u001b[0m 1ms/step - accuracy: 0.7587 - loss: 3.8506\n",
      "Epoch 31/50\n",
      "\u001b[1m157/157\u001b[0m \u001b[32m━━━━━━━━━━━━━━━━━━━━\u001b[0m\u001b[37m\u001b[0m \u001b[1m0s\u001b[0m 1ms/step - accuracy: 0.7637 - loss: 3.7581\n",
      "Epoch 32/50\n",
      "\u001b[1m157/157\u001b[0m \u001b[32m━━━━━━━━━━━━━━━━━━━━\u001b[0m\u001b[37m\u001b[0m \u001b[1m0s\u001b[0m 1ms/step - accuracy: 0.7540 - loss: 3.8857\n",
      "Epoch 33/50\n",
      "\u001b[1m157/157\u001b[0m \u001b[32m━━━━━━━━━━━━━━━━━━━━\u001b[0m\u001b[37m\u001b[0m \u001b[1m0s\u001b[0m 1ms/step - accuracy: 0.7730 - loss: 3.6155\n",
      "Epoch 34/50\n",
      "\u001b[1m157/157\u001b[0m \u001b[32m━━━━━━━━━━━━━━━━━━━━\u001b[0m\u001b[37m\u001b[0m \u001b[1m0s\u001b[0m 1ms/step - accuracy: 0.7663 - loss: 3.7138\n",
      "Epoch 35/50\n",
      "\u001b[1m157/157\u001b[0m \u001b[32m━━━━━━━━━━━━━━━━━━━━\u001b[0m\u001b[37m\u001b[0m \u001b[1m0s\u001b[0m 1ms/step - accuracy: 0.7682 - loss: 3.6700\n",
      "Epoch 36/50\n",
      "\u001b[1m157/157\u001b[0m \u001b[32m━━━━━━━━━━━━━━━━━━━━\u001b[0m\u001b[37m\u001b[0m \u001b[1m0s\u001b[0m 1ms/step - accuracy: 0.7751 - loss: 3.5823\n",
      "Epoch 37/50\n",
      "\u001b[1m157/157\u001b[0m \u001b[32m━━━━━━━━━━━━━━━━━━━━\u001b[0m\u001b[37m\u001b[0m \u001b[1m0s\u001b[0m 1ms/step - accuracy: 0.7668 - loss: 3.7019\n",
      "Epoch 38/50\n",
      "\u001b[1m157/157\u001b[0m \u001b[32m━━━━━━━━━━━━━━━━━━━━\u001b[0m\u001b[37m\u001b[0m \u001b[1m0s\u001b[0m 1ms/step - accuracy: 0.7657 - loss: 3.7435\n",
      "Epoch 39/50\n",
      "\u001b[1m157/157\u001b[0m \u001b[32m━━━━━━━━━━━━━━━━━━━━\u001b[0m\u001b[37m\u001b[0m \u001b[1m0s\u001b[0m 1ms/step - accuracy: 0.7625 - loss: 3.7865\n",
      "Epoch 40/50\n",
      "\u001b[1m157/157\u001b[0m \u001b[32m━━━━━━━━━━━━━━━━━━━━\u001b[0m\u001b[37m\u001b[0m \u001b[1m0s\u001b[0m 1ms/step - accuracy: 0.7670 - loss: 3.7118\n",
      "Epoch 41/50\n",
      "\u001b[1m157/157\u001b[0m \u001b[32m━━━━━━━━━━━━━━━━━━━━\u001b[0m\u001b[37m\u001b[0m \u001b[1m0s\u001b[0m 1ms/step - accuracy: 0.7682 - loss: 3.6919\n",
      "Epoch 42/50\n",
      "\u001b[1m157/157\u001b[0m \u001b[32m━━━━━━━━━━━━━━━━━━━━\u001b[0m\u001b[37m\u001b[0m \u001b[1m0s\u001b[0m 1ms/step - accuracy: 0.7721 - loss: 3.6363\n",
      "Epoch 43/50\n",
      "\u001b[1m157/157\u001b[0m \u001b[32m━━━━━━━━━━━━━━━━━━━━\u001b[0m\u001b[37m\u001b[0m \u001b[1m0s\u001b[0m 1ms/step - accuracy: 0.7707 - loss: 3.6623\n",
      "Epoch 44/50\n",
      "\u001b[1m157/157\u001b[0m \u001b[32m━━━━━━━━━━━━━━━━━━━━\u001b[0m\u001b[37m\u001b[0m \u001b[1m0s\u001b[0m 1ms/step - accuracy: 0.7750 - loss: 3.5852\n",
      "Epoch 45/50\n",
      "\u001b[1m157/157\u001b[0m \u001b[32m━━━━━━━━━━━━━━━━━━━━\u001b[0m\u001b[37m\u001b[0m \u001b[1m0s\u001b[0m 1ms/step - accuracy: 0.7803 - loss: 3.5153\n",
      "Epoch 46/50\n",
      "\u001b[1m157/157\u001b[0m \u001b[32m━━━━━━━━━━━━━━━━━━━━\u001b[0m\u001b[37m\u001b[0m \u001b[1m0s\u001b[0m 1ms/step - accuracy: 0.7689 - loss: 3.6970\n",
      "Epoch 47/50\n",
      "\u001b[1m157/157\u001b[0m \u001b[32m━━━━━━━━━━━━━━━━━━━━\u001b[0m\u001b[37m\u001b[0m \u001b[1m0s\u001b[0m 1ms/step - accuracy: 0.7743 - loss: 3.6013\n",
      "Epoch 48/50\n",
      "\u001b[1m157/157\u001b[0m \u001b[32m━━━━━━━━━━━━━━━━━━━━\u001b[0m\u001b[37m\u001b[0m \u001b[1m0s\u001b[0m 1ms/step - accuracy: 0.7775 - loss: 3.5621\n",
      "Epoch 49/50\n",
      "\u001b[1m157/157\u001b[0m \u001b[32m━━━━━━━━━━━━━━━━━━━━\u001b[0m\u001b[37m\u001b[0m \u001b[1m0s\u001b[0m 1ms/step - accuracy: 0.7617 - loss: 3.7864\n",
      "Epoch 50/50\n",
      "\u001b[1m157/157\u001b[0m \u001b[32m━━━━━━━━━━━━━━━━━━━━\u001b[0m\u001b[37m\u001b[0m \u001b[1m0s\u001b[0m 1ms/step - accuracy: 0.7740 - loss: 3.6164\n",
      "\u001b[1m63/63\u001b[0m \u001b[32m━━━━━━━━━━━━━━━━━━━━\u001b[0m\u001b[37m\u001b[0m \u001b[1m0s\u001b[0m 391us/step\n"
     ]
    },
    {
     "data": {
      "image/png": "[encoded data removed]",
      "text/plain": [
       "<Figure size 640x480 with 2 Axes>"
      ]
     },
     "metadata": {},
     "output_type": "display_data"
    },
    {
     "name": "stdout",
     "output_type": "stream",
     "text": [
      "CPU times: user 25.6 s, sys: 1min 9s, total: 1min 35s\n",
      "Wall time: 42.7 s\n"
     ]
    }
   ],
   "source": [
    "%%time\n",
    "learner_info = learnDigits(\n",
    "    training_count=NUM_TRAINING,\n",
    "    training_verbose=1,\n",
    "    hidden1_size=32,\n",
    "    hidden2_size=32,\n",
    "    is_confusion_matrix=True,\n",
    "    num_epoch=50,\n",
    ")"
   ]
  },
  {
   "cell_type": "markdown",
   "id": "95b896a4-5b0b-4df6-8434-a92c757ee144",
   "metadata": {
    "id": "95b896a4-5b0b-4df6-8434-a92c757ee144"
   },
   "source": [
    "Results:\n",
    "* Parameters (1000s): 26.5\n",
    "* Time (seconds): 14\n",
    "* Accuracy (fraction): 0.85\n",
    "\n",
    "See if you can do better by adjusting the hidden units. Put your results [here](https://docs.google.com/spreadsheets/d/11LoDehwI2uNwiH2bBsVB6zBenTEAn18cOzrQztKrm3s/edit?usp=sharing)."
   ]
  },
  {
   "cell_type": "markdown",
   "id": "ebdd1931-4a88-4892-8bd9-47f2e6fb6851",
   "metadata": {
    "id": "ebdd1931-4a88-4892-8bd9-47f2e6fb6851"
   },
   "source": [
    "# Model 3: Multiple Ideal Images for a Digit"
   ]
  },
  {
   "cell_type": "markdown",
   "id": "9b4bd4ae-39db-48c5-b4ed-7a1ca3db4ea3",
   "metadata": {
    "id": "9b4bd4ae-39db-48c5-b4ed-7a1ca3db4ea3"
   },
   "source": [
    "Approach -- Have more than one ideal image for each digit to account for variations in writing digits.\n",
    "\n",
    "More ideal images likely improves model quality. But it also increases the number of parameters."
   ]
  },
  {
   "cell_type": "markdown",
   "id": "039a36b9-45cd-4df3-99ea-085484fb3c5d",
   "metadata": {
    "id": "039a36b9-45cd-4df3-99ea-085484fb3c5d"
   },
   "source": [
    "## Clustering"
   ]
  },
  {
   "cell_type": "markdown",
   "id": "b12090da-4e8c-4ca8-993d-e71edcde2943",
   "metadata": {
    "id": "b12090da-4e8c-4ca8-993d-e71edcde2943"
   },
   "source": [
    "<img src=\"https://github.com/joseph-hellerstein/keras/raw/main/docs/clusters.png\" alt=\"drawing\" width=\"800\"/>"
   ]
  },
  {
   "cell_type": "code",
   "execution_count": 35,
   "id": "8b8e876d-6bc6-43c9-a7d7-9063705c2ee3",
   "metadata": {
    "id": "8b8e876d-6bc6-43c9-a7d7-9063705c2ee3"
   },
   "outputs": [],
   "source": [
    "#_ = plotDigitClassSizes() # Takes a long time"
   ]
  },
  {
   "cell_type": "markdown",
   "id": "henxfbJRIOr5",
   "metadata": {
    "id": "henxfbJRIOr5"
   },
   "source": [
    "<img src=\"https://github.com/joseph-hellerstein/keras/raw/main/docs/ssw_by_num_classes.png\" alt=\"drawing\" width=\"1200\"/>"
   ]
  },
  {
   "cell_type": "markdown",
   "id": "e77fd926-a2c6-4fee-877e-17e357f47fce",
   "metadata": {
    "id": "e77fd926-a2c6-4fee-877e-17e357f47fce"
   },
   "source": [
    "## Approach - Ideal image for each cluster"
   ]
  },
  {
   "cell_type": "markdown",
   "id": "abdc1dd0-b301-421b-8848-728ea8c9b55b",
   "metadata": {
    "id": "abdc1dd0-b301-421b-8848-728ea8c9b55b"
   },
   "source": [
    "**Model 1 Fit Algorithm**\n",
    "\n",
    "    for digit in digits\n",
    "        digit_ideal_image = mean of pixels for digit\n",
    "        ideal_images.append(digit_ideal_image)\n",
    "    return ideal_images"
   ]
  },
  {
   "cell_type": "markdown",
   "id": "5765235e-4603-41a5-b618-8ab03747300f",
   "metadata": {
    "id": "5765235e-4603-41a5-b618-8ab03747300f"
   },
   "source": [
    "**Model 3 Fit Algorithm**\n",
    "\n",
    "    for digit in digits:\n",
    "        for cluster in clusters for digit\n",
    "            cluster_ideal_image = mean of pixels in digit cluster\n",
    "            ideal_images.append(cluster_ideal_image)\n",
    "    return ideal_images"
   ]
  },
  {
   "cell_type": "markdown",
   "id": "c9e17e45-bb3c-4605-8444-5151d5d4c592",
   "metadata": {
    "id": "c9e17e45-bb3c-4605-8444-5151d5d4c592"
   },
   "source": [
    "**Predict Algorithm (same as Model 1)**"
   ]
  },
  {
   "cell_type": "markdown",
   "id": "3fb916fe-272e-4492-9600-ab8209e41a10",
   "metadata": {
    "id": "3fb916fe-272e-4492-9600-ab8209e41a10"
   },
   "source": [
    "## Model Quality"
   ]
  },
  {
   "cell_type": "code",
   "execution_count": 36,
   "id": "48ace8b0-d2f0-423d-acf2-74f63c7e08db",
   "metadata": {
    "colab": {
     "base_uri": "https://localhost:8080/",
     "height": 507
    },
    "id": "48ace8b0-d2f0-423d-acf2-74f63c7e08db",
    "outputId": "7bca2ce9-e905-4e8f-d2a7-2e4a9cdf749c"
   },
   "outputs": [
    {
     "data": {
      "image/png": "[encoded data removed]",
      "text/plain": [
       "<Figure size 640x480 with 2 Axes>"
      ]
     },
     "metadata": {},
     "output_type": "display_data"
    },
    {
     "name": "stdout",
     "output_type": "stream",
     "text": [
      "CPU times: user 18.6 s, sys: 14.2 s, total: 32.8 s\n",
      "Wall time: 26.8 s\n"
     ]
    }
   ],
   "source": [
    "%%time\n",
    "NUM_CLUSTER = 20\n",
    "fitted_dcts = fitIdeal(training_count=NUM_TRAINING, num_cluster=NUM_CLUSTER)\n",
    "y_pred = predictIdeal(X_TESTING_MAT, dcts=fitted_dcts)\n",
    "plotConfusionMatrix(Y_TESTING_ARR, y_pred)"
   ]
  },
  {
   "cell_type": "code",
   "execution_count": 37,
   "id": "6f1ae3ff-7f6a-4560-b8cb-18e7c67af04f",
   "metadata": {
    "colab": {
     "base_uri": "https://localhost:8080/"
    },
    "id": "6f1ae3ff-7f6a-4560-b8cb-18e7c67af04f",
    "outputId": "f49b682c-5c51-48f4-da96-0ce356aec02f"
   },
   "outputs": [
    {
     "name": "stdout",
     "output_type": "stream",
     "text": [
      "Number of parameters is 156800.\n"
     ]
    }
   ],
   "source": [
    "count = 784*NUM_CLUSTER*10\n",
    "print(\"Number of parameters is %d.\" % count)"
   ]
  },
  {
   "cell_type": "markdown",
   "id": "2ef0a1ee-7950-4403-ac26-13fa11c806a4",
   "metadata": {
    "id": "2ef0a1ee-7950-4403-ac26-13fa11c806a4"
   },
   "source": [
    "# Summary of Model Evaluation"
   ]
  },
  {
   "cell_type": "markdown",
   "id": "70d14c8a-4db2-4e3a-8f3d-4e40bcb01193",
   "metadata": {
    "id": "70d14c8a-4db2-4e3a-8f3d-4e40bcb01193"
   },
   "source": [
    "## Quality"
   ]
  },
  {
   "cell_type": "markdown",
   "id": "63a2de50-d543-4d9d-9ac8-45fdb1e2f24f",
   "metadata": {
    "id": "63a2de50-d543-4d9d-9ac8-45fdb1e2f24f"
   },
   "source": [
    "* **True positive (TP)** The actual label is \"pos\", and \"pos\" is predicted.\n",
    "* **False positive (FP)** The actual label is \"neg\", but \"pos\" is predicted.\n",
    "* **False negative (FN)** The actual label is \"pos\", but \"neg\" is predicted.\n",
    "* **False positive (FP)** (negative). The actual label is \"neg\", and \"neg\" is predicted."
   ]
  },
  {
   "cell_type": "markdown",
   "id": "e66ee85c-869e-4536-9253-82c8c17e2ce2",
   "metadata": {
    "id": "e66ee85c-869e-4536-9253-82c8c17e2ce2"
   },
   "source": [
    "<img src=\"https://github.com/joseph-hellerstein/keras/raw/main/docs/table.png\" alt=\"drawing\" width=\"500\"/>"
   ]
  },
  {
   "cell_type": "markdown",
   "id": "45036ec6-a045-4873-bc87-d4dd5fcd40e5",
   "metadata": {
    "id": "45036ec6-a045-4873-bc87-d4dd5fcd40e5"
   },
   "source": [
    "<img src=\"https://github.com/joseph-hellerstein/keras/raw/main/docs/confusion_matrix.png\" alt=\"drawing\" width=\"600\"/>\n",
    "\n",
    "Can derive accuracy, recall, and precision from the confusion matrix."
   ]
  },
  {
   "cell_type": "markdown",
   "id": "f711681e-4540-4dbf-adab-cb083f7f1544",
   "metadata": {
    "id": "f711681e-4540-4dbf-adab-cb083f7f1544"
   },
   "source": [
    "## Complexity"
   ]
  },
  {
   "cell_type": "markdown",
   "id": "658ea13f-880f-4e3f-ac08-910c450d5e4f",
   "metadata": {
    "id": "658ea13f-880f-4e3f-ac08-910c450d5e4f"
   },
   "source": [
    "* Subjective: Is the model understandable?\n",
    "* Objective: Number of parameters."
   ]
  },
  {
   "cell_type": "markdown",
   "id": "8261342b-b7bb-4b82-bce4-168c1b7324cb",
   "metadata": {
    "id": "8261342b-b7bb-4b82-bce4-168c1b7324cb"
   },
   "source": [
    "## Computational Efficiency"
   ]
  },
  {
   "cell_type": "markdown",
   "id": "f8758aae-540a-409c-bc2a-718fe122277a",
   "metadata": {
    "id": "f8758aae-540a-409c-bc2a-718fe122277a"
   },
   "source": [
    "* Time to run a benchmark. We used:\n",
    "\n",
    "    1. Fit the model.\n",
    "  \n",
    "    1. Calculate predictions on test data.\n",
    "  \n",
    "    1. Report the confusion matrix."
   ]
  },
  {
   "cell_type": "markdown",
   "id": "266d814d-0c0a-4079-8ef3-b766f1cdd4bb",
   "metadata": {
    "id": "266d814d-0c0a-4079-8ef3-b766f1cdd4bb"
   },
   "source": [
    "## Model Comparisons"
   ]
  },
  {
   "cell_type": "markdown",
   "id": "65cd9cc7-9446-4c52-bcea-d1f31aa6ee19",
   "metadata": {
    "id": "65cd9cc7-9446-4c52-bcea-d1f31aa6ee19"
   },
   "source": [
    "| Model | Parameters (1000s) | Time (sec) | Accuracy |\n",
    "|-------:|--------------------:|------------:|-------:|\n",
    "| 1 | 7.6 | 2 | 0.81 |\n",
    "| 2 | 26.5 | 32 | 0.85 |\n",
    "| 3 | 31.3 | 6 | 0.9 |"
   ]
  },
  {
   "cell_type": "markdown",
   "id": "e1aa944e-f353-475c-9410-a2014acdd267",
   "metadata": {
    "id": "e1aa944e-f353-475c-9410-a2014acdd267"
   },
   "source": [
    "[Graphical comparison of models.](https://docs.google.com/spreadsheets/d/11LoDehwI2uNwiH2bBsVB6zBenTEAn18cOzrQztKrm3s/edit#gid=0)"
   ]
  }
 ],
 "metadata": {
  "colab": {
   "collapsed_sections": [
    "63db773e-bd04-44a1-8530-0742596f8dc0",
    "9f242f97-e980-4f92-8cd9-b455bfae73a3"
   ],
   "provenance": [],
   "toc_visible": true
  },
  "kernelspec": {
   "display_name": "Python 3 (ipykernel)",
   "language": "python",
   "name": "python3"
  },
  "language_info": {
   "codemirror_mode": {
    "name": "ipython",
    "version": 3
   },
   "file_extension": ".py",
   "mimetype": "text/x-python",
   "name": "python",
   "nbconvert_exporter": "python",
   "pygments_lexer": "ipython3",
   "version": "3.9.6"
  }
 },
 "nbformat": 4,
 "nbformat_minor": 5
}
